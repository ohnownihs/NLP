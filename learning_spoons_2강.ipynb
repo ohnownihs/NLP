{
  "nbformat": 4,
  "nbformat_minor": 0,
  "metadata": {
    "colab": {
      "name": "learning spoons 2강.ipynb",
      "provenance": [],
      "toc_visible": true,
      "machine_shape": "hm",
      "include_colab_link": true
    },
    "kernelspec": {
      "name": "python3",
      "display_name": "Python 3"
    },
    "accelerator": "GPU"
  },
  "cells": [
    {
      "cell_type": "markdown",
      "metadata": {
        "id": "view-in-github",
        "colab_type": "text"
      },
      "source": [
        "<a href=\"https://colab.research.google.com/github/ohnownihs/NLP/blob/master/learning_spoons_2%EA%B0%95.ipynb\" target=\"_parent\"><img src=\"https://colab.research.google.com/assets/colab-badge.svg\" alt=\"Open In Colab\"/></a>"
      ]
    },
    {
      "cell_type": "markdown",
      "metadata": {
        "id": "FXO2HUlT-LBQ",
        "colab_type": "text"
      },
      "source": [
        "# Bag of Words"
      ]
    },
    {
      "cell_type": "markdown",
      "metadata": {
        "id": "a5D3ayJ7-csa",
        "colab_type": "text"
      },
      "source": [
        "Bag of Words란 단어들의 순서는 전혀 고려하지 않고, 단어들의 출현 빈도(frequency)에만 집중하는 텍스트 데이터의 수치화 표현 방법입니다. Bag of Words를 직역하면 단어들의 가방이라는 의미입니다. 단어들이 들어있는 가방을 상상해봅시다. 갖고있는 어떤 텍스트 문서에 있는 단어들을 가방에다가 전부 넣습니다. 그러고나서 이 가방을 흔들어 단어들을 섞습니다. 만약, 해당 문서 내에서 특정 단어가 N번 등장했다면, 이 가방에는 그 특정 단어가 N개 있게됩니다. 또한 가방을 흔들어서 단어를 섞었기 때문에 더 이상 단어의 순서는 중요하지 않습니다."
      ]
    },
    {
      "cell_type": "code",
      "metadata": {
        "id": "1-q0kr9u-T9c",
        "colab_type": "code",
        "colab": {
          "base_uri": "https://localhost:8080/",
          "height": 585
        },
        "outputId": "c7518163-bd75-4ba7-8e97-b834c37e83ac"
      },
      "source": [
        "!pip install konlpy"
      ],
      "execution_count": null,
      "outputs": [
        {
          "output_type": "stream",
          "text": [
            "Collecting konlpy\n",
            "\u001b[?25l  Downloading https://files.pythonhosted.org/packages/85/0e/f385566fec837c0b83f216b2da65db9997b35dd675e107752005b7d392b1/konlpy-0.5.2-py2.py3-none-any.whl (19.4MB)\n",
            "\u001b[K     |████████████████████████████████| 19.4MB 158kB/s \n",
            "\u001b[?25hRequirement already satisfied: lxml>=4.1.0 in /usr/local/lib/python3.6/dist-packages (from konlpy) (4.2.6)\n",
            "Collecting tweepy>=3.7.0\n",
            "  Downloading https://files.pythonhosted.org/packages/36/1b/2bd38043d22ade352fc3d3902cf30ce0e2f4bf285be3b304a2782a767aec/tweepy-3.8.0-py2.py3-none-any.whl\n",
            "Collecting beautifulsoup4==4.6.0\n",
            "\u001b[?25l  Downloading https://files.pythonhosted.org/packages/9e/d4/10f46e5cfac773e22707237bfcd51bbffeaf0a576b0a847ec7ab15bd7ace/beautifulsoup4-4.6.0-py3-none-any.whl (86kB)\n",
            "\u001b[K     |████████████████████████████████| 92kB 8.4MB/s \n",
            "\u001b[?25hCollecting JPype1>=0.7.0\n",
            "\u001b[?25l  Downloading https://files.pythonhosted.org/packages/2d/9b/e115101a833605b3c0e6f3a2bc1f285c95aaa1d93ab808314ca1bde63eed/JPype1-0.7.5-cp36-cp36m-manylinux2010_x86_64.whl (3.6MB)\n",
            "\u001b[K     |████████████████████████████████| 3.6MB 32.4MB/s \n",
            "\u001b[?25hRequirement already satisfied: numpy>=1.6 in /usr/local/lib/python3.6/dist-packages (from konlpy) (1.18.5)\n",
            "Collecting colorama\n",
            "  Downloading https://files.pythonhosted.org/packages/c9/dc/45cdef1b4d119eb96316b3117e6d5708a08029992b2fee2c143c7a0a5cc5/colorama-0.4.3-py2.py3-none-any.whl\n",
            "Requirement already satisfied: six>=1.10.0 in /usr/local/lib/python3.6/dist-packages (from tweepy>=3.7.0->konlpy) (1.12.0)\n",
            "Requirement already satisfied: requests-oauthlib>=0.7.0 in /usr/local/lib/python3.6/dist-packages (from tweepy>=3.7.0->konlpy) (1.3.0)\n",
            "Requirement already satisfied: requests>=2.11.1 in /usr/local/lib/python3.6/dist-packages (from tweepy>=3.7.0->konlpy) (2.23.0)\n",
            "Requirement already satisfied: PySocks>=1.5.7 in /usr/local/lib/python3.6/dist-packages (from tweepy>=3.7.0->konlpy) (1.7.1)\n",
            "Requirement already satisfied: oauthlib>=3.0.0 in /usr/local/lib/python3.6/dist-packages (from requests-oauthlib>=0.7.0->tweepy>=3.7.0->konlpy) (3.1.0)\n",
            "Requirement already satisfied: chardet<4,>=3.0.2 in /usr/local/lib/python3.6/dist-packages (from requests>=2.11.1->tweepy>=3.7.0->konlpy) (3.0.4)\n",
            "Requirement already satisfied: certifi>=2017.4.17 in /usr/local/lib/python3.6/dist-packages (from requests>=2.11.1->tweepy>=3.7.0->konlpy) (2020.4.5.2)\n",
            "Requirement already satisfied: urllib3!=1.25.0,!=1.25.1,<1.26,>=1.21.1 in /usr/local/lib/python3.6/dist-packages (from requests>=2.11.1->tweepy>=3.7.0->konlpy) (1.24.3)\n",
            "Requirement already satisfied: idna<3,>=2.5 in /usr/local/lib/python3.6/dist-packages (from requests>=2.11.1->tweepy>=3.7.0->konlpy) (2.9)\n",
            "Installing collected packages: tweepy, beautifulsoup4, JPype1, colorama, konlpy\n",
            "  Found existing installation: tweepy 3.6.0\n",
            "    Uninstalling tweepy-3.6.0:\n",
            "      Successfully uninstalled tweepy-3.6.0\n",
            "  Found existing installation: beautifulsoup4 4.6.3\n",
            "    Uninstalling beautifulsoup4-4.6.3:\n",
            "      Successfully uninstalled beautifulsoup4-4.6.3\n",
            "Successfully installed JPype1-0.7.5 beautifulsoup4-4.6.0 colorama-0.4.3 konlpy-0.5.2 tweepy-3.8.0\n"
          ],
          "name": "stdout"
        }
      ]
    },
    {
      "cell_type": "markdown",
      "metadata": {
        "id": "Wcp7FJPZ-p_Q",
        "colab_type": "text"
      },
      "source": [
        "## 직접 구현하기"
      ]
    },
    {
      "cell_type": "code",
      "metadata": {
        "id": "CPCE9Ygl-fDm",
        "colab_type": "code",
        "colab": {
          "base_uri": "https://localhost:8080/",
          "height": 34
        },
        "outputId": "ab569b17-e46c-4bc9-91b8-a96c81ddc079"
      },
      "source": [
        "from konlpy.tag import Okt\n",
        "import re  \n",
        "okt=Okt()  \n",
        "\n",
        "token=re.sub(\"(\\.)\",\"\",\"정부가 발표하는 물가상승률과 소비자가 느끼는 물가상승률은 다르다.\")  \n",
        "# 정규 표현식을 통해 온점을 제거하는 정제 작업입니다.  \n",
        "token=okt.morphs(token)  \n",
        "# OKT 형태소 분석기를 통해 토큰화 작업을 수행한 뒤에, token에다가 넣습니다.  \n",
        "\n",
        "word2index={}  \n",
        "bow=[]  \n",
        "for voca in token:  \n",
        "         if voca not in word2index.keys():  \n",
        "             word2index[voca]=len(word2index)  \n",
        "# token을 읽으면서, word2index에 없는 (not in) 단어는 새로 추가하고, 이미 있는 단어는 넘깁니다.   \n",
        "             bow.insert(len(word2index)-1,1)\n",
        "# BoW 전체에 전부 기본값 1을 넣어줍니다. 단어의 개수는 최소 1개 이상이기 때문입니다.  \n",
        "         else:\n",
        "            index=word2index.get(voca)\n",
        "# 재등장하는 단어의 인덱스를 받아옵니다.\n",
        "            bow[index]=bow[index]+1\n",
        "# 재등장한 단어는 해당하는 인덱스의 위치에 1을 더해줍니다. (단어의 개수를 세는 것입니다.)  \n",
        "print(word2index)  "
      ],
      "execution_count": null,
      "outputs": [
        {
          "output_type": "stream",
          "text": [
            "{'정부': 0, '가': 1, '발표': 2, '하는': 3, '물가상승률': 4, '과': 5, '소비자': 6, '느끼는': 7, '은': 8, '다르다': 9}\n"
          ],
          "name": "stdout"
        }
      ]
    },
    {
      "cell_type": "code",
      "metadata": {
        "id": "aZk4wncm-h0l",
        "colab_type": "code",
        "colab": {
          "base_uri": "https://localhost:8080/",
          "height": 34
        },
        "outputId": "dffba824-8951-487c-8107-026028f01b88"
      },
      "source": [
        "print(bow)"
      ],
      "execution_count": null,
      "outputs": [
        {
          "output_type": "stream",
          "text": [
            "[1, 2, 1, 1, 2, 1, 1, 1, 1, 1]\n"
          ],
          "name": "stdout"
        }
      ]
    },
    {
      "cell_type": "markdown",
      "metadata": {
        "id": "8QTivA0U-rw9",
        "colab_type": "text"
      },
      "source": [
        "## CountVectorizer 사용하기"
      ]
    },
    {
      "cell_type": "code",
      "metadata": {
        "id": "lsGR3Cug-s2u",
        "colab_type": "code",
        "colab": {
          "base_uri": "https://localhost:8080/",
          "height": 52
        },
        "outputId": "b6a396b6-26d6-4ae4-dc38-ad30031b2973"
      },
      "source": [
        "from sklearn.feature_extraction.text import CountVectorizer\n",
        "corpus = ['you know I want your love. because I love you.']\n",
        "vector = CountVectorizer()\n",
        "print(vector.fit_transform(corpus).toarray()) # 코퍼스로부터 각 단어의 빈도 수를 기록한다.\n",
        "print(vector.vocabulary_) # 각 단어의 인덱스가 어떻게 부여되었는지를 보여준다."
      ],
      "execution_count": null,
      "outputs": [
        {
          "output_type": "stream",
          "text": [
            "[[1 1 2 1 2 1]]\n",
            "{'you': 4, 'know': 1, 'want': 3, 'your': 5, 'love': 2, 'because': 0}\n"
          ],
          "name": "stdout"
        }
      ]
    },
    {
      "cell_type": "markdown",
      "metadata": {
        "id": "B5hzdbff-ymS",
        "colab_type": "text"
      },
      "source": [
        "## TF-IDF 행렬 만들기"
      ]
    },
    {
      "cell_type": "code",
      "metadata": {
        "id": "GRO30Kcx-zp-",
        "colab_type": "code",
        "colab": {}
      },
      "source": [
        "import pandas as pd # 데이터프레임 사용을 위해\n",
        "from math import log # IDF 계산을 위해"
      ],
      "execution_count": null,
      "outputs": []
    },
    {
      "cell_type": "code",
      "metadata": {
        "id": "7UjPcwe9-1C8",
        "colab_type": "code",
        "colab": {}
      },
      "source": [
        "docs = [\n",
        "  '먹고 싶은 사과',\n",
        "  '먹고 싶은 바나나',\n",
        "  '길고 노란 바나나 바나나',\n",
        "  '저는 과일이 좋아요'\n",
        "] \n",
        "vocab = list(set(w for doc in docs for w in doc.split()))\n",
        "vocab.sort()"
      ],
      "execution_count": null,
      "outputs": []
    },
    {
      "cell_type": "code",
      "metadata": {
        "id": "op8MoZGy-2RM",
        "colab_type": "code",
        "colab": {}
      },
      "source": [
        "N = len(docs) # 총 문서의 수\n",
        "\n",
        "def tf(t, d):\n",
        "    return d.count(t)\n",
        "\n",
        "def idf(t):\n",
        "    df = 0\n",
        "    for doc in docs:\n",
        "        df += t in doc\n",
        "    return log(N/(df + 1))\n",
        "\n",
        "def tfidf(t, d):\n",
        "    return tf(t,d)* idf(t)"
      ],
      "execution_count": null,
      "outputs": []
    },
    {
      "cell_type": "code",
      "metadata": {
        "id": "l1C8wfpi-3Os",
        "colab_type": "code",
        "colab": {
          "base_uri": "https://localhost:8080/",
          "height": 167
        },
        "outputId": "b73f4877-fcbf-4171-ad69-79ec83add867"
      },
      "source": [
        "result = []\n",
        "for i in range(N): # 각 문서에 대해서 아래 명령을 수행\n",
        "    result.append([])\n",
        "    d = docs[i]\n",
        "    for j in range(len(vocab)):\n",
        "        t = vocab[j]        \n",
        "        result[-1].append(tf(t, d))\n",
        "\n",
        "tf_ = pd.DataFrame(result, columns = vocab)\n",
        "tf_"
      ],
      "execution_count": null,
      "outputs": [
        {
          "output_type": "execute_result",
          "data": {
            "text/html": [
              "<div>\n",
              "<style scoped>\n",
              "    .dataframe tbody tr th:only-of-type {\n",
              "        vertical-align: middle;\n",
              "    }\n",
              "\n",
              "    .dataframe tbody tr th {\n",
              "        vertical-align: top;\n",
              "    }\n",
              "\n",
              "    .dataframe thead th {\n",
              "        text-align: right;\n",
              "    }\n",
              "</style>\n",
              "<table border=\"1\" class=\"dataframe\">\n",
              "  <thead>\n",
              "    <tr style=\"text-align: right;\">\n",
              "      <th></th>\n",
              "      <th>과일이</th>\n",
              "      <th>길고</th>\n",
              "      <th>노란</th>\n",
              "      <th>먹고</th>\n",
              "      <th>바나나</th>\n",
              "      <th>사과</th>\n",
              "      <th>싶은</th>\n",
              "      <th>저는</th>\n",
              "      <th>좋아요</th>\n",
              "    </tr>\n",
              "  </thead>\n",
              "  <tbody>\n",
              "    <tr>\n",
              "      <th>0</th>\n",
              "      <td>0</td>\n",
              "      <td>0</td>\n",
              "      <td>0</td>\n",
              "      <td>1</td>\n",
              "      <td>0</td>\n",
              "      <td>1</td>\n",
              "      <td>1</td>\n",
              "      <td>0</td>\n",
              "      <td>0</td>\n",
              "    </tr>\n",
              "    <tr>\n",
              "      <th>1</th>\n",
              "      <td>0</td>\n",
              "      <td>0</td>\n",
              "      <td>0</td>\n",
              "      <td>1</td>\n",
              "      <td>1</td>\n",
              "      <td>0</td>\n",
              "      <td>1</td>\n",
              "      <td>0</td>\n",
              "      <td>0</td>\n",
              "    </tr>\n",
              "    <tr>\n",
              "      <th>2</th>\n",
              "      <td>0</td>\n",
              "      <td>1</td>\n",
              "      <td>1</td>\n",
              "      <td>0</td>\n",
              "      <td>2</td>\n",
              "      <td>0</td>\n",
              "      <td>0</td>\n",
              "      <td>0</td>\n",
              "      <td>0</td>\n",
              "    </tr>\n",
              "    <tr>\n",
              "      <th>3</th>\n",
              "      <td>1</td>\n",
              "      <td>0</td>\n",
              "      <td>0</td>\n",
              "      <td>0</td>\n",
              "      <td>0</td>\n",
              "      <td>0</td>\n",
              "      <td>0</td>\n",
              "      <td>1</td>\n",
              "      <td>1</td>\n",
              "    </tr>\n",
              "  </tbody>\n",
              "</table>\n",
              "</div>"
            ],
            "text/plain": [
              "   과일이  길고  노란  먹고  바나나  사과  싶은  저는  좋아요\n",
              "0    0   0   0   1    0   1   1   0    0\n",
              "1    0   0   0   1    1   0   1   0    0\n",
              "2    0   1   1   0    2   0   0   0    0\n",
              "3    1   0   0   0    0   0   0   1    1"
            ]
          },
          "metadata": {
            "tags": []
          },
          "execution_count": 8
        }
      ]
    },
    {
      "cell_type": "code",
      "metadata": {
        "id": "zmRYlIcr-4H0",
        "colab_type": "code",
        "colab": {
          "base_uri": "https://localhost:8080/",
          "height": 317
        },
        "outputId": "843870e2-8695-4ce5-a7db-496ed0fb67b2"
      },
      "source": [
        "result = []\n",
        "for j in range(len(vocab)):\n",
        "    t = vocab[j]\n",
        "    result.append(idf(t))\n",
        "\n",
        "idf_ = pd.DataFrame(result, index = vocab, columns = [\"IDF\"])\n",
        "idf_"
      ],
      "execution_count": null,
      "outputs": [
        {
          "output_type": "execute_result",
          "data": {
            "text/html": [
              "<div>\n",
              "<style scoped>\n",
              "    .dataframe tbody tr th:only-of-type {\n",
              "        vertical-align: middle;\n",
              "    }\n",
              "\n",
              "    .dataframe tbody tr th {\n",
              "        vertical-align: top;\n",
              "    }\n",
              "\n",
              "    .dataframe thead th {\n",
              "        text-align: right;\n",
              "    }\n",
              "</style>\n",
              "<table border=\"1\" class=\"dataframe\">\n",
              "  <thead>\n",
              "    <tr style=\"text-align: right;\">\n",
              "      <th></th>\n",
              "      <th>IDF</th>\n",
              "    </tr>\n",
              "  </thead>\n",
              "  <tbody>\n",
              "    <tr>\n",
              "      <th>과일이</th>\n",
              "      <td>0.693147</td>\n",
              "    </tr>\n",
              "    <tr>\n",
              "      <th>길고</th>\n",
              "      <td>0.693147</td>\n",
              "    </tr>\n",
              "    <tr>\n",
              "      <th>노란</th>\n",
              "      <td>0.693147</td>\n",
              "    </tr>\n",
              "    <tr>\n",
              "      <th>먹고</th>\n",
              "      <td>0.287682</td>\n",
              "    </tr>\n",
              "    <tr>\n",
              "      <th>바나나</th>\n",
              "      <td>0.287682</td>\n",
              "    </tr>\n",
              "    <tr>\n",
              "      <th>사과</th>\n",
              "      <td>0.693147</td>\n",
              "    </tr>\n",
              "    <tr>\n",
              "      <th>싶은</th>\n",
              "      <td>0.287682</td>\n",
              "    </tr>\n",
              "    <tr>\n",
              "      <th>저는</th>\n",
              "      <td>0.693147</td>\n",
              "    </tr>\n",
              "    <tr>\n",
              "      <th>좋아요</th>\n",
              "      <td>0.693147</td>\n",
              "    </tr>\n",
              "  </tbody>\n",
              "</table>\n",
              "</div>"
            ],
            "text/plain": [
              "          IDF\n",
              "과일이  0.693147\n",
              "길고   0.693147\n",
              "노란   0.693147\n",
              "먹고   0.287682\n",
              "바나나  0.287682\n",
              "사과   0.693147\n",
              "싶은   0.287682\n",
              "저는   0.693147\n",
              "좋아요  0.693147"
            ]
          },
          "metadata": {
            "tags": []
          },
          "execution_count": 9
        }
      ]
    },
    {
      "cell_type": "code",
      "metadata": {
        "id": "bDxaaHOR-48M",
        "colab_type": "code",
        "colab": {
          "base_uri": "https://localhost:8080/",
          "height": 167
        },
        "outputId": "d509bfe9-2cae-487c-ff02-b80418152fc1"
      },
      "source": [
        "result = []\n",
        "for i in range(N):\n",
        "    result.append([])\n",
        "    d = docs[i]\n",
        "    for j in range(len(vocab)):\n",
        "        t = vocab[j]\n",
        "\n",
        "        result[-1].append(tfidf(t,d))\n",
        "\n",
        "tfidf_ = pd.DataFrame(result, columns = vocab)\n",
        "tfidf_"
      ],
      "execution_count": null,
      "outputs": [
        {
          "output_type": "execute_result",
          "data": {
            "text/html": [
              "<div>\n",
              "<style scoped>\n",
              "    .dataframe tbody tr th:only-of-type {\n",
              "        vertical-align: middle;\n",
              "    }\n",
              "\n",
              "    .dataframe tbody tr th {\n",
              "        vertical-align: top;\n",
              "    }\n",
              "\n",
              "    .dataframe thead th {\n",
              "        text-align: right;\n",
              "    }\n",
              "</style>\n",
              "<table border=\"1\" class=\"dataframe\">\n",
              "  <thead>\n",
              "    <tr style=\"text-align: right;\">\n",
              "      <th></th>\n",
              "      <th>과일이</th>\n",
              "      <th>길고</th>\n",
              "      <th>노란</th>\n",
              "      <th>먹고</th>\n",
              "      <th>바나나</th>\n",
              "      <th>사과</th>\n",
              "      <th>싶은</th>\n",
              "      <th>저는</th>\n",
              "      <th>좋아요</th>\n",
              "    </tr>\n",
              "  </thead>\n",
              "  <tbody>\n",
              "    <tr>\n",
              "      <th>0</th>\n",
              "      <td>0.000000</td>\n",
              "      <td>0.000000</td>\n",
              "      <td>0.000000</td>\n",
              "      <td>0.287682</td>\n",
              "      <td>0.000000</td>\n",
              "      <td>0.693147</td>\n",
              "      <td>0.287682</td>\n",
              "      <td>0.000000</td>\n",
              "      <td>0.000000</td>\n",
              "    </tr>\n",
              "    <tr>\n",
              "      <th>1</th>\n",
              "      <td>0.000000</td>\n",
              "      <td>0.000000</td>\n",
              "      <td>0.000000</td>\n",
              "      <td>0.287682</td>\n",
              "      <td>0.287682</td>\n",
              "      <td>0.000000</td>\n",
              "      <td>0.287682</td>\n",
              "      <td>0.000000</td>\n",
              "      <td>0.000000</td>\n",
              "    </tr>\n",
              "    <tr>\n",
              "      <th>2</th>\n",
              "      <td>0.000000</td>\n",
              "      <td>0.693147</td>\n",
              "      <td>0.693147</td>\n",
              "      <td>0.000000</td>\n",
              "      <td>0.575364</td>\n",
              "      <td>0.000000</td>\n",
              "      <td>0.000000</td>\n",
              "      <td>0.000000</td>\n",
              "      <td>0.000000</td>\n",
              "    </tr>\n",
              "    <tr>\n",
              "      <th>3</th>\n",
              "      <td>0.693147</td>\n",
              "      <td>0.000000</td>\n",
              "      <td>0.000000</td>\n",
              "      <td>0.000000</td>\n",
              "      <td>0.000000</td>\n",
              "      <td>0.000000</td>\n",
              "      <td>0.000000</td>\n",
              "      <td>0.693147</td>\n",
              "      <td>0.693147</td>\n",
              "    </tr>\n",
              "  </tbody>\n",
              "</table>\n",
              "</div>"
            ],
            "text/plain": [
              "        과일이        길고        노란  ...        싶은        저는       좋아요\n",
              "0  0.000000  0.000000  0.000000  ...  0.287682  0.000000  0.000000\n",
              "1  0.000000  0.000000  0.000000  ...  0.287682  0.000000  0.000000\n",
              "2  0.000000  0.693147  0.693147  ...  0.000000  0.000000  0.000000\n",
              "3  0.693147  0.000000  0.000000  ...  0.000000  0.693147  0.693147\n",
              "\n",
              "[4 rows x 9 columns]"
            ]
          },
          "metadata": {
            "tags": []
          },
          "execution_count": 10
        }
      ]
    },
    {
      "cell_type": "markdown",
      "metadata": {
        "id": "gpJC6ZIl-7Fb",
        "colab_type": "text"
      },
      "source": [
        "지금까지 TF-IDF의 가장 기본적인 식에 대해서 학습하고, 이를 실제로 구현하는 실습을 진행해보았습니다. 그런데 사실 실제 TF-IDF 구현을 제공하고 있는 많은 패키지들은 패키지마다 식이 조금씩 다르긴 하지만, 위에서 배운 기본 식에서 조정된 식을 사용합니다. 그 이유는 위의 기본적인 식을 바탕으로 한 구현에도 여전히 문제점이 존재하기 때문입니다. 만약 전체 문서의 수 n이 4인데, df(t)의 값이 3인 경우에는 어떤 일이 벌어질까요? df(t)에 1이 더해지면서 log항의 분자와 분모의 값이 같아지게 됩니다.\n",
        "\n",
        "이는 log의 진수값이 1이 되면서 idf(d,t)의 값이 0이 됨을 의미합니다. 식으로 표현하면 idf(d,t)=log(n/(df(t)+1))=0입니다. IDF의 값이 0이라면 더 이상 가중치의 역할을 수행하지 못합니다. 그래서 실제 구현체는 idf(d,t)=log(n/(df(t)+1))+1과 같이 log항에 1을 더해줘서 log항의 값이 0이 되더라도 IDF가 최소 1이상의 값을 가지도록 합니다. 사이킷런도 이 방식을 사용합니다."
      ]
    },
    {
      "cell_type": "markdown",
      "metadata": {
        "id": "QG_BPc4o-_jc",
        "colab_type": "text"
      },
      "source": [
        "## Tensorflow로 Bag of Words 구현하기"
      ]
    },
    {
      "cell_type": "code",
      "metadata": {
        "id": "hXhemt5L_Czh",
        "colab_type": "code",
        "colab": {}
      },
      "source": [
        "import numpy as np\n",
        "from tensorflow.keras.preprocessing.text import Tokenizer"
      ],
      "execution_count": null,
      "outputs": []
    },
    {
      "cell_type": "code",
      "metadata": {
        "id": "vpz6r_1o_GXb",
        "colab_type": "code",
        "colab": {}
      },
      "source": [
        "texts = ['먹고 싶은 사과', '먹고 싶은 바나나', '길고 노란 바나나 바나나', '저는 과일이 좋아요']"
      ],
      "execution_count": null,
      "outputs": []
    },
    {
      "cell_type": "code",
      "metadata": {
        "id": "ZqS_tUzQ_HR1",
        "colab_type": "code",
        "colab": {
          "base_uri": "https://localhost:8080/",
          "height": 34
        },
        "outputId": "90bbce94-4a41-4095-ee78-2ee8fcade785"
      },
      "source": [
        "t = Tokenizer()\n",
        "t.fit_on_texts(texts)\n",
        "print(t.word_index)"
      ],
      "execution_count": null,
      "outputs": [
        {
          "output_type": "stream",
          "text": [
            "{'바나나': 1, '먹고': 2, '싶은': 3, '사과': 4, '길고': 5, '노란': 6, '저는': 7, '과일이': 8, '좋아요': 9}\n"
          ],
          "name": "stdout"
        }
      ]
    },
    {
      "cell_type": "markdown",
      "metadata": {
        "id": "9Oj1fBxt_J27",
        "colab_type": "text"
      },
      "source": [
        "각 단어에 숫자 1부터 시작하는 정수 인덱스가 부여되었습니다. 이제 텍스트 데이터에 texts_to_matrix()를 사용해보겠습니다. texts_to_matrix()란 이름에서 알 수 있지만, 이 도구는 입력된 텍스트 데이터로부터 행렬(matrix)를 만드는 도구입니다. texts_to_matrx()는 총 4개의 모드를 지원하는데 각 모드는 'binary', 'count', 'freq', 'tfidf'로 총 4개입니다. 우선 'count' 모드를 사용해봅시다."
      ]
    },
    {
      "cell_type": "code",
      "metadata": {
        "id": "FpOuYNoo_H5O",
        "colab_type": "code",
        "colab": {
          "base_uri": "https://localhost:8080/",
          "height": 87
        },
        "outputId": "7ea580eb-4fab-4291-a910-1a985701f9b3"
      },
      "source": [
        "print(t.texts_to_matrix(texts, mode = 'count')) # texts_to_matrix의 입력으로 texts를 넣고, 모드는 'count'"
      ],
      "execution_count": null,
      "outputs": [
        {
          "output_type": "stream",
          "text": [
            "[[0. 0. 1. 1. 1. 0. 0. 0. 0. 0.]\n",
            " [0. 1. 1. 1. 0. 0. 0. 0. 0. 0.]\n",
            " [0. 2. 0. 0. 0. 1. 1. 0. 0. 0.]\n",
            " [0. 0. 0. 0. 0. 0. 0. 1. 1. 1.]]\n"
          ],
          "name": "stdout"
        }
      ]
    },
    {
      "cell_type": "markdown",
      "metadata": {
        "id": "vx1zvYzP_MgS",
        "colab_type": "text"
      },
      "source": [
        "위의 경우는 총 4개의 모드 중에서 'count' 모드를 사용했을 경우입니다. 'count'를 사용하면 우리가 앞서 배운 문서 단어 행렬(Document-Term Matrix, DTM)을 생성합니다. DTM에서의 인덱스는 앞서 확인한 word_index의 결과입니다.\n",
        "\n",
        "다만 주의할 점은 각 단어에 부여되는 인덱스는 1부터 시작하는 반면에 완성되는 행렬의 인덱스는 0부터 시작합니다. 실제로 단어의 개수는 9개였지만 완성된 행렬의 열의 개수는 10개인 것과 첫번째 열은 모든 행에서 값이 0인 것을 볼 수 있습니다. 인덱스 0에는 그 어떤 단어도 할당되지 않았기 때문입니다.\n",
        "\n",
        "우선, 네번째 행을 보겠습니다. 네번째 행은 테스트 데이터에서 네번째 문장을 의미합니다. 네번째 행은 8번째 열, 9번째 열, 10번째 열에서 1의 값을 가집니다. 이는 7번 단어, 8번 단어, 9번 단어가 네번째 문장에서 1개씩 존재함을 의미합니다. 위에서 정수 인코딩 된 결과를 보면 7번 단어는 '저는', 8번 단어는 '과일이', 9번 단어는 '좋아요'입니다. 세번째 행의 첫번째 열의 값은 2인데, 이는 세번째 문장에서 1번 인덱스를 가진 바나나가 두 번 등장했기 때문입니다.\n",
        "\n",
        "앞서 배웠듯이 DTM은 bag of words를 기반으로 하므로 단어 순서 정보는 보존되지 않습니다. 사실 더 구체적으로는 4개의 모든 모드에서 단어 순서 정보는 보존되지 않습니다. 이제 'binary' 모드를 보겠습니다."
      ]
    },
    {
      "cell_type": "code",
      "metadata": {
        "id": "Ap9iSw0L_NJV",
        "colab_type": "code",
        "colab": {
          "base_uri": "https://localhost:8080/",
          "height": 87
        },
        "outputId": "d83fb634-88a8-4773-e65c-86b32a2a97f4"
      },
      "source": [
        "print(t.texts_to_matrix(texts, mode = 'binary'))"
      ],
      "execution_count": null,
      "outputs": [
        {
          "output_type": "stream",
          "text": [
            "[[0. 0. 1. 1. 1. 0. 0. 0. 0. 0.]\n",
            " [0. 1. 1. 1. 0. 0. 0. 0. 0. 0.]\n",
            " [0. 1. 0. 0. 0. 1. 1. 0. 0. 0.]\n",
            " [0. 0. 0. 0. 0. 0. 0. 1. 1. 1.]]\n"
          ],
          "name": "stdout"
        }
      ]
    },
    {
      "cell_type": "markdown",
      "metadata": {
        "id": "Tb2_BLrW_P9O",
        "colab_type": "text"
      },
      "source": [
        "DTM과 결과가 매우 유사해보입니다. 다만 세번째 행, 두번째 열의 값이 DTM에서는 2였는데 여기서는 1로 바뀌었습니다. 그 이유는 'binary' 모드는 해당 단어가 존재하는지만 관심을 가지고 해당 단어가 몇 개였는지는 무시하기 때문입니다. 해당 단어가 존재하면 1, 단어가 존재하지 않으면 0의 값을 가집니다. 즉, 단어의 존재 유무로만 행렬을 표현합니다. 이제 'tfidf' 모드를 보겠습니다."
      ]
    },
    {
      "cell_type": "code",
      "metadata": {
        "id": "ydGrk7x3_Qg-",
        "colab_type": "code",
        "colab": {
          "base_uri": "https://localhost:8080/",
          "height": 87
        },
        "outputId": "21ebd6a4-06c5-4176-e691-b105768e4d1d"
      },
      "source": [
        "print(t.texts_to_matrix(texts, mode = 'tfidf').round(2)) # 둘째 자리까지 반올림하여 출력"
      ],
      "execution_count": null,
      "outputs": [
        {
          "output_type": "stream",
          "text": [
            "[[0.   0.   0.85 0.85 1.1  0.   0.   0.   0.   0.  ]\n",
            " [0.   0.85 0.85 0.85 0.   0.   0.   0.   0.   0.  ]\n",
            " [0.   1.43 0.   0.   0.   1.1  1.1  0.   0.   0.  ]\n",
            " [0.   0.   0.   0.   0.   0.   0.   1.1  1.1  1.1 ]]\n"
          ],
          "name": "stdout"
        }
      ]
    },
    {
      "cell_type": "markdown",
      "metadata": {
        "id": "ZnL6_U6x_S8r",
        "colab_type": "text"
      },
      "source": [
        "'tfidf' 모드는 말 그대로 TF-IDF 행렬을 만듭니다. 다만, TF-IDF 챕터에서 배운 기본식이나 사이킷런의 TfidfVectorizer에서 사용하는 식이랑 또 조금 다릅니다. 앞서 배운 기본식에서 TF는 각 문서에서의 각 단어의 빈도였다면 'tfidf' 모드에서는 TF를 각 문서에서의 각 단어의 빈도에 자연 로그를 씌우고 1을 더한 값으로 정의했습니다. idf에서는 앞서 배운 기본식에서 로그는 자연 로그를 사용하고, 로그 안의 분수에 1을 추가로 더했습니다. 물론, 이러한 식을 굳이 기억할 필요는 없고 여전히 TF-IDF의 기존 의도를 갖고 있다고 이해하면 됩니다."
      ]
    },
    {
      "cell_type": "code",
      "metadata": {
        "id": "U-i5QahO_TFk",
        "colab_type": "code",
        "colab": {
          "base_uri": "https://localhost:8080/",
          "height": 87
        },
        "outputId": "a4e7281d-10b1-4319-c440-675b6fb0ba16"
      },
      "source": [
        "print(t.texts_to_matrix(texts, mode = 'freq').round(2)) # 둘째 자리까지 반올림하여 출력"
      ],
      "execution_count": null,
      "outputs": [
        {
          "output_type": "stream",
          "text": [
            "[[0.   0.   0.33 0.33 0.33 0.   0.   0.   0.   0.  ]\n",
            " [0.   0.33 0.33 0.33 0.   0.   0.   0.   0.   0.  ]\n",
            " [0.   0.5  0.   0.   0.   0.25 0.25 0.   0.   0.  ]\n",
            " [0.   0.   0.   0.   0.   0.   0.   0.33 0.33 0.33]]\n"
          ],
          "name": "stdout"
        }
      ]
    },
    {
      "cell_type": "markdown",
      "metadata": {
        "id": "W0waK4a3_WFH",
        "colab_type": "text"
      },
      "source": [
        "마지막으로 'freq' 모드입니다. 'freq' 모드는 각 문서에서의 각 단어의 등장 횟수를 분자로, 각 문서의 크기(각 문서에서 등장한 모든 단어의 개수의 총 합)를 분모로 하는 표현 방법입니다. 예를 들어 세번째 행을 보겠습니다. 세번째 문장은 '길고 노란 바나나 바나나' 였습니다. 문서의 크기는 4인데, 바나나는 총 2회 등장했습니다. 이에 따라서 세번째 문장에서의 단어 '바나나'의 값은 위의 행렬에서 0.5가 됩니다. 반면에 '길고', '노란'이라는 두 단어는 각 1회 등장했으므로 각자 1/4의 값인 0.25의 값을 가집니다."
      ]
    },
    {
      "cell_type": "markdown",
      "metadata": {
        "id": "FyL3hSOoJDzs",
        "colab_type": "text"
      },
      "source": [
        "# 텐서플로우 기초"
      ]
    },
    {
      "cell_type": "markdown",
      "metadata": {
        "id": "NVVaHQ-rJIEy",
        "colab_type": "text"
      },
      "source": [
        "## import 할 때 패키지 네이밍"
      ]
    },
    {
      "cell_type": "code",
      "metadata": {
        "id": "iZZSEAGwJJuw",
        "colab_type": "code",
        "colab": {}
      },
      "source": [
        "from tensorflow.keras.layers     import Dense\n",
        "from tensorflow.keras.models     import Sequential\n",
        "from tensorflow.keras.callbacks  import ModelCheckpoint\n",
        "from tensorflow.keras.optimizers import Adam"
      ],
      "execution_count": null,
      "outputs": []
    },
    {
      "cell_type": "markdown",
      "metadata": {
        "id": "KZkN9y5BJLGP",
        "colab_type": "text"
      },
      "source": [
        "## 딥러닝 실행 순서"
      ]
    },
    {
      "cell_type": "markdown",
      "metadata": {
        "id": "7pgntwiOJSnh",
        "colab_type": "text"
      },
      "source": [
        "1. 전처리: 학습에 필요한 데이터 전처리를 수행합니다.  \n",
        "2. 모델링(model): 모델을 정의합니다.  \n",
        "3. 컴파일(compile): 모델을 생성합니다.  \n",
        "4. 학습 (fit): 모델을 학습시킵니다."
      ]
    },
    {
      "cell_type": "markdown",
      "metadata": {
        "id": "C4bnorl4JVFy",
        "colab_type": "text"
      },
      "source": [
        "아래는 실제 전처리 - 모델링 - 컴파일 - 학습으로 이어지는 코드를 보여줍니다."
      ]
    },
    {
      "cell_type": "code",
      "metadata": {
        "id": "Lf00P-xdJWom",
        "colab_type": "code",
        "colab": {
          "base_uri": "https://localhost:8080/",
          "height": 34
        },
        "outputId": "9d857c10-1c4b-42e8-da76-0fc504d0fe24"
      },
      "source": [
        "import tensorflow as tf\n",
        "\n",
        "tf.keras.layers.Dense(10)"
      ],
      "execution_count": null,
      "outputs": [
        {
          "output_type": "execute_result",
          "data": {
            "text/plain": [
              "<tensorflow.python.keras.layers.core.Dense at 0x7f0ff84c9748>"
            ]
          },
          "metadata": {
            "tags": []
          },
          "execution_count": 114
        }
      ]
    },
    {
      "cell_type": "code",
      "metadata": {
        "id": "WPzIv_IRJZwA",
        "colab_type": "code",
        "colab": {
          "base_uri": "https://localhost:8080/",
          "height": 34
        },
        "outputId": "0005a88c-a4a5-4a3e-9426-1e18ac0ea9b5"
      },
      "source": [
        "from tensorflow.keras.layers import Dense\n",
        "\n",
        "Dense(10)"
      ],
      "execution_count": null,
      "outputs": [
        {
          "output_type": "execute_result",
          "data": {
            "text/plain": [
              "<tensorflow.python.keras.layers.core.Dense at 0x7f0ef6fe96d8>"
            ]
          },
          "metadata": {
            "tags": []
          },
          "execution_count": 115
        }
      ]
    },
    {
      "cell_type": "code",
      "metadata": {
        "id": "1by4O49SJcEd",
        "colab_type": "code",
        "colab": {
          "base_uri": "https://localhost:8080/",
          "height": 34
        },
        "outputId": "810965ac-a988-47d1-bf73-512a6ce2eb9e"
      },
      "source": [
        "# 필요한 패키지 import\n",
        "import numpy as np\n",
        "import tensorflow as tf\n",
        "from tensorflow.keras.layers import Dense\n",
        "from tensorflow.keras.models import Sequential\n",
        "\n",
        "# 데이터 전처리\n",
        "xs = np.array([-1.0, 0.0, 1.0, 2.0, 3.0, 4.0], dtype=float)\n",
        "ys = np.array([5.0, 6.0, 7.0, 8.0, 9.0, 10.0], dtype=float)\n",
        "\n",
        "# 모델의 정의 (modeling)\n",
        "model = Sequential([\n",
        "    Dense(1),\n",
        "])\n",
        "\n",
        "# 모델의 생성 (compile)\n",
        "model.compile(optimizer='sgd', loss='mse')\n",
        "\n",
        "# 학습 (fit)\n",
        "model.fit(xs, ys, epochs=1200, verbose=0)\n",
        "\n",
        "# 검증\n",
        "# 16.000046\n",
        "model.predict([10.0])"
      ],
      "execution_count": null,
      "outputs": [
        {
          "output_type": "execute_result",
          "data": {
            "text/plain": [
              "array([[16.000046]], dtype=float32)"
            ]
          },
          "metadata": {
            "tags": []
          },
          "execution_count": 116
        }
      ]
    },
    {
      "cell_type": "markdown",
      "metadata": {
        "id": "nEEbNRvTJjHw",
        "colab_type": "text"
      },
      "source": [
        "## 기본 모델 구현 이해하기"
      ]
    },
    {
      "cell_type": "markdown",
      "metadata": {
        "id": "Hf1ei4MoJnT7",
        "colab_type": "text"
      },
      "source": [
        "tensorflow 2.0은 keras의 Sequential 방식과 동일하게 블록쌓기 방식으로 매우 쉽게 모델링을 할 수 있습니다.  \n",
        "\n",
        "Dense Layer는 가장 기본적인 신경망 층이라고 이해하시면 됩니다.  \n",
        "\n",
        "Dense == Fully Connected Layer 라고도 불리웁니다."
      ]
    },
    {
      "cell_type": "code",
      "metadata": {
        "id": "EPIec0QOJo1t",
        "colab_type": "code",
        "colab": {
          "base_uri": "https://localhost:8080/",
          "height": 404
        },
        "outputId": "6523323f-ea8c-4cb5-c8ad-a4c9c430a2c2"
      },
      "source": [
        "from IPython.display import Image\n",
        "\n",
        "Image('https://cs231n.github.io/assets/nn1/neural_net2.jpeg')"
      ],
      "execution_count": null,
      "outputs": [
        {
          "output_type": "execute_result",
          "data": {
            "image/jpeg": "[encoded data removed]",
            "text/plain": [
              "<IPython.core.display.Image object>"
            ]
          },
          "metadata": {
            "tags": []
          },
          "execution_count": 117
        }
      ]
    },
    {
      "cell_type": "code",
      "metadata": {
        "id": "g4l26xRAJql7",
        "colab_type": "code",
        "colab": {}
      },
      "source": [
        "model = Sequential([\n",
        "    Dense(1),\n",
        "])"
      ],
      "execution_count": null,
      "outputs": []
    },
    {
      "cell_type": "markdown",
      "metadata": {
        "id": "uo2vTvP3JtMH",
        "colab_type": "text"
      },
      "source": [
        "## 적절한 optimizer와 loss 선정하기"
      ]
    },
    {
      "cell_type": "markdown",
      "metadata": {
        "id": "NY6h0dNZJw1-",
        "colab_type": "text"
      },
      "source": [
        "우리는 적절한 회귀 값을 예측하는 모델을 만들어야 합니다.  \n",
        "\n",
        "regression(회귀) 예측을 위해서는 loss=mse를 선택합니다.  \n",
        "\n",
        "optimizer는 여러가지를 활용할 수는 있지만, 단순 회귀에는 sgd가 적당합니다."
      ]
    },
    {
      "cell_type": "markdown",
      "metadata": {
        "id": "lqZ5f4wNJzzo",
        "colab_type": "text"
      },
      "source": [
        "## compile"
      ]
    },
    {
      "cell_type": "markdown",
      "metadata": {
        "id": "ZEHE-IIMJ1F-",
        "colab_type": "text"
      },
      "source": [
        "선정한 optimizer와 loss를 지정해주고 compile 합니다."
      ]
    },
    {
      "cell_type": "code",
      "metadata": {
        "id": "6NO-yuf9J2_B",
        "colab_type": "code",
        "colab": {}
      },
      "source": [
        "model.compile(optimizer='sgd', loss='mse')"
      ],
      "execution_count": null,
      "outputs": []
    },
    {
      "cell_type": "markdown",
      "metadata": {
        "id": "M5NRpIp8J5QI",
        "colab_type": "text"
      },
      "source": [
        "## fit"
      ]
    },
    {
      "cell_type": "markdown",
      "metadata": {
        "id": "oxTFtkcOJ8sk",
        "colab_type": "text"
      },
      "source": [
        "이제, 모델에 학습을 진행해야합니다. fit() 메소드를 활용하여 학습을 진행합니다.  \n",
        "\n",
        "학습시, feature, label 값 지정 그리고 epochs을 지정합니다."
      ]
    },
    {
      "cell_type": "code",
      "metadata": {
        "id": "w3UPIfp1J9-X",
        "colab_type": "code",
        "colab": {
          "base_uri": "https://localhost:8080/",
          "height": 34
        },
        "outputId": "10635506-a4d2-4102-90bd-a3dc068342c6"
      },
      "source": [
        "model.fit(xs, ys, epochs=1200, verbose=0)"
      ],
      "execution_count": null,
      "outputs": [
        {
          "output_type": "execute_result",
          "data": {
            "text/plain": [
              "<tensorflow.python.keras.callbacks.History at 0x7f0ef7247e80>"
            ]
          },
          "metadata": {
            "tags": []
          },
          "execution_count": 120
        }
      ]
    },
    {
      "cell_type": "markdown",
      "metadata": {
        "id": "tWBTaTvoKBWf",
        "colab_type": "text"
      },
      "source": [
        "## Predict로 잘 학습이 되어있는지 검증합니다."
      ]
    },
    {
      "cell_type": "code",
      "metadata": {
        "id": "DuYUJFpCJ_1q",
        "colab_type": "code",
        "colab": {
          "base_uri": "https://localhost:8080/",
          "height": 34
        },
        "outputId": "cd8872cd-9352-4633-fee3-1f10fb1fd5ec"
      },
      "source": [
        "# output\n",
        "# 16.000046\n",
        "model.predict([10.0])"
      ],
      "execution_count": null,
      "outputs": [
        {
          "output_type": "execute_result",
          "data": {
            "text/plain": [
              "array([[16.000046]], dtype=float32)"
            ]
          },
          "metadata": {
            "tags": []
          },
          "execution_count": 121
        }
      ]
    },
    {
      "cell_type": "markdown",
      "metadata": {
        "id": "vloTgnLOBEvj",
        "colab_type": "text"
      },
      "source": [
        "# 선형 회귀 구현하기"
      ]
    },
    {
      "cell_type": "code",
      "metadata": {
        "id": "XWFZeY5BBGwR",
        "colab_type": "code",
        "colab": {}
      },
      "source": [
        "from tensorflow.keras.models import Sequential # 케라스의 Sequential()을 임포트\n",
        "from tensorflow.keras.layers import Dense # 케라스의 Dense()를 임포트\n",
        "from tensorflow.keras import optimizers # 케라스의 옵티마이저를 임포트\n",
        "import numpy as np # Numpy를 임포트"
      ],
      "execution_count": null,
      "outputs": []
    },
    {
      "cell_type": "code",
      "metadata": {
        "id": "a8bT5wwxBKw_",
        "colab_type": "code",
        "colab": {}
      },
      "source": [
        "X=np.array([1,2,3,4,5,6,7,8,9]) # 공부하는 시간\n",
        "y=np.array([11,22,33,44,53,66,77,87,95]) # 각 공부하는 시간에 맵핑되는 성적"
      ],
      "execution_count": null,
      "outputs": []
    },
    {
      "cell_type": "code",
      "metadata": {
        "id": "6j5fuJXKBMdN",
        "colab_type": "code",
        "colab": {
          "base_uri": "https://localhost:8080/",
          "height": 1000
        },
        "outputId": "faf7b796-b276-4a2f-cc99-7bd1eb27b6bc"
      },
      "source": [
        "model=Sequential()\n",
        "model.add(Dense(1, input_dim=1, activation='linear'))\n",
        "sgd=optimizers.SGD(lr=0.01)\n",
        "# 학습률(learning rate, lr)은 0.01로 합니다.\n",
        "model.compile(optimizer=sgd ,loss='mse',metrics=['mse'])\n",
        "# sgd는 경사 하강법을 의미.\n",
        "# 손실 함수(Loss function)은 평균제곱오차 mse를 사용합니다.\n",
        "model.fit(X,y, batch_size=1, epochs=300, shuffle=False)\n",
        "# 주어진 X와 y데이터에 대해서 오차를 최소화하는 작업을 300번 시도합니다."
      ],
      "execution_count": null,
      "outputs": [
        {
          "output_type": "stream",
          "text": [
            "Epoch 1/300\n",
            "9/9 [==============================] - 0s 2ms/step - loss: 315.1164 - mse: 315.1164\n",
            "Epoch 2/300\n",
            "9/9 [==============================] - 0s 2ms/step - loss: 2.1668 - mse: 2.1668\n",
            "Epoch 3/300\n",
            "9/9 [==============================] - 0s 2ms/step - loss: 2.1661 - mse: 2.1661\n",
            "Epoch 4/300\n",
            "9/9 [==============================] - 0s 2ms/step - loss: 2.1655 - mse: 2.1655\n",
            "Epoch 5/300\n",
            "9/9 [==============================] - 0s 1ms/step - loss: 2.1648 - mse: 2.1648\n",
            "Epoch 6/300\n",
            "9/9 [==============================] - 0s 2ms/step - loss: 2.1642 - mse: 2.1642\n",
            "Epoch 7/300\n",
            "9/9 [==============================] - 0s 2ms/step - loss: 2.1636 - mse: 2.1636\n",
            "Epoch 8/300\n",
            "9/9 [==============================] - 0s 2ms/step - loss: 2.1630 - mse: 2.1630\n",
            "Epoch 9/300\n",
            "9/9 [==============================] - 0s 2ms/step - loss: 2.1624 - mse: 2.1624\n",
            "Epoch 10/300\n",
            "9/9 [==============================] - 0s 24ms/step - loss: 2.1619 - mse: 2.1619\n",
            "Epoch 11/300\n",
            "9/9 [==============================] - 0s 2ms/step - loss: 2.1613 - mse: 2.1613\n",
            "Epoch 12/300\n",
            "9/9 [==============================] - 0s 1ms/step - loss: 2.1608 - mse: 2.1608\n",
            "Epoch 13/300\n",
            "9/9 [==============================] - 0s 2ms/step - loss: 2.1603 - mse: 2.1603\n",
            "Epoch 14/300\n",
            "9/9 [==============================] - 0s 2ms/step - loss: 2.1599 - mse: 2.1599\n",
            "Epoch 15/300\n",
            "9/9 [==============================] - 0s 2ms/step - loss: 2.1594 - mse: 2.1594\n",
            "Epoch 16/300\n",
            "9/9 [==============================] - 0s 2ms/step - loss: 2.1589 - mse: 2.1589\n",
            "Epoch 17/300\n",
            "9/9 [==============================] - 0s 2ms/step - loss: 2.1585 - mse: 2.1585\n",
            "Epoch 18/300\n",
            "9/9 [==============================] - 0s 2ms/step - loss: 2.1581 - mse: 2.1581\n",
            "Epoch 19/300\n",
            "9/9 [==============================] - 0s 2ms/step - loss: 2.1577 - mse: 2.1577\n",
            "Epoch 20/300\n",
            "9/9 [==============================] - 0s 2ms/step - loss: 2.1573 - mse: 2.1573\n",
            "Epoch 21/300\n",
            "9/9 [==============================] - 0s 2ms/step - loss: 2.1569 - mse: 2.1569\n",
            "Epoch 22/300\n",
            "9/9 [==============================] - 0s 2ms/step - loss: 2.1566 - mse: 2.1566\n",
            "Epoch 23/300\n",
            "9/9 [==============================] - 0s 2ms/step - loss: 2.1562 - mse: 2.1562\n",
            "Epoch 24/300\n",
            "9/9 [==============================] - 0s 2ms/step - loss: 2.1559 - mse: 2.1559\n",
            "Epoch 25/300\n",
            "9/9 [==============================] - 0s 2ms/step - loss: 2.1555 - mse: 2.1555\n",
            "Epoch 26/300\n",
            "9/9 [==============================] - 0s 2ms/step - loss: 2.1552 - mse: 2.1552\n",
            "Epoch 27/300\n",
            "9/9 [==============================] - 0s 2ms/step - loss: 2.1549 - mse: 2.1549\n",
            "Epoch 28/300\n",
            "9/9 [==============================] - 0s 2ms/step - loss: 2.1546 - mse: 2.1546\n",
            "Epoch 29/300\n",
            "9/9 [==============================] - 0s 2ms/step - loss: 2.1544 - mse: 2.1544\n",
            "Epoch 30/300\n",
            "9/9 [==============================] - 0s 2ms/step - loss: 2.1541 - mse: 2.1541\n",
            "Epoch 31/300\n",
            "9/9 [==============================] - 0s 2ms/step - loss: 2.1538 - mse: 2.1538\n",
            "Epoch 32/300\n",
            "9/9 [==============================] - 0s 2ms/step - loss: 2.1535 - mse: 2.1535\n",
            "Epoch 33/300\n",
            "9/9 [==============================] - 0s 2ms/step - loss: 2.1533 - mse: 2.1533\n",
            "Epoch 34/300\n",
            "9/9 [==============================] - 0s 2ms/step - loss: 2.1531 - mse: 2.1531\n",
            "Epoch 35/300\n",
            "9/9 [==============================] - 0s 2ms/step - loss: 2.1528 - mse: 2.1528\n",
            "Epoch 36/300\n",
            "9/9 [==============================] - 0s 2ms/step - loss: 2.1526 - mse: 2.1526\n",
            "Epoch 37/300\n",
            "9/9 [==============================] - 0s 2ms/step - loss: 2.1524 - mse: 2.1524\n",
            "Epoch 38/300\n",
            "9/9 [==============================] - 0s 2ms/step - loss: 2.1522 - mse: 2.1522\n",
            "Epoch 39/300\n",
            "9/9 [==============================] - 0s 2ms/step - loss: 2.1520 - mse: 2.1520\n",
            "Epoch 40/300\n",
            "9/9 [==============================] - 0s 2ms/step - loss: 2.1518 - mse: 2.1518\n",
            "Epoch 41/300\n",
            "9/9 [==============================] - 0s 2ms/step - loss: 2.1516 - mse: 2.1516\n",
            "Epoch 42/300\n",
            "9/9 [==============================] - 0s 2ms/step - loss: 2.1514 - mse: 2.1514\n",
            "Epoch 43/300\n",
            "9/9 [==============================] - 0s 2ms/step - loss: 2.1512 - mse: 2.1512\n",
            "Epoch 44/300\n",
            "9/9 [==============================] - 0s 2ms/step - loss: 2.1510 - mse: 2.1510\n",
            "Epoch 45/300\n",
            "9/9 [==============================] - 0s 2ms/step - loss: 2.1509 - mse: 2.1509\n",
            "Epoch 46/300\n",
            "9/9 [==============================] - 0s 2ms/step - loss: 2.1507 - mse: 2.1507\n",
            "Epoch 47/300\n",
            "9/9 [==============================] - 0s 2ms/step - loss: 2.1506 - mse: 2.1506\n",
            "Epoch 48/300\n",
            "9/9 [==============================] - 0s 2ms/step - loss: 2.1504 - mse: 2.1504\n",
            "Epoch 49/300\n",
            "9/9 [==============================] - 0s 2ms/step - loss: 2.1503 - mse: 2.1503\n",
            "Epoch 50/300\n",
            "9/9 [==============================] - 0s 2ms/step - loss: 2.1501 - mse: 2.1501\n",
            "Epoch 51/300\n",
            "9/9 [==============================] - 0s 2ms/step - loss: 2.1500 - mse: 2.1500\n",
            "Epoch 52/300\n",
            "9/9 [==============================] - 0s 2ms/step - loss: 2.1499 - mse: 2.1499\n",
            "Epoch 53/300\n",
            "9/9 [==============================] - 0s 2ms/step - loss: 2.1497 - mse: 2.1497\n",
            "Epoch 54/300\n",
            "9/9 [==============================] - 0s 2ms/step - loss: 2.1496 - mse: 2.1496\n",
            "Epoch 55/300\n",
            "9/9 [==============================] - 0s 2ms/step - loss: 2.1495 - mse: 2.1495\n",
            "Epoch 56/300\n",
            "9/9 [==============================] - 0s 2ms/step - loss: 2.1494 - mse: 2.1494\n",
            "Epoch 57/300\n",
            "9/9 [==============================] - 0s 2ms/step - loss: 2.1493 - mse: 2.1493\n",
            "Epoch 58/300\n",
            "9/9 [==============================] - 0s 2ms/step - loss: 2.1492 - mse: 2.1492\n",
            "Epoch 59/300\n",
            "9/9 [==============================] - 0s 2ms/step - loss: 2.1491 - mse: 2.1491\n",
            "Epoch 60/300\n",
            "9/9 [==============================] - 0s 2ms/step - loss: 2.1490 - mse: 2.1490\n",
            "Epoch 61/300\n",
            "9/9 [==============================] - 0s 2ms/step - loss: 2.1489 - mse: 2.1489\n",
            "Epoch 62/300\n",
            "9/9 [==============================] - 0s 2ms/step - loss: 2.1488 - mse: 2.1488\n",
            "Epoch 63/300\n",
            "9/9 [==============================] - 0s 2ms/step - loss: 2.1487 - mse: 2.1487\n",
            "Epoch 64/300\n",
            "9/9 [==============================] - 0s 2ms/step - loss: 2.1486 - mse: 2.1486\n",
            "Epoch 65/300\n",
            "9/9 [==============================] - 0s 2ms/step - loss: 2.1485 - mse: 2.1485\n",
            "Epoch 66/300\n",
            "9/9 [==============================] - 0s 2ms/step - loss: 2.1484 - mse: 2.1484\n",
            "Epoch 67/300\n",
            "9/9 [==============================] - 0s 2ms/step - loss: 2.1483 - mse: 2.1483\n",
            "Epoch 68/300\n",
            "9/9 [==============================] - 0s 2ms/step - loss: 2.1483 - mse: 2.1483\n",
            "Epoch 69/300\n",
            "9/9 [==============================] - 0s 2ms/step - loss: 2.1482 - mse: 2.1482\n",
            "Epoch 70/300\n",
            "9/9 [==============================] - 0s 2ms/step - loss: 2.1481 - mse: 2.1481\n",
            "Epoch 71/300\n",
            "9/9 [==============================] - 0s 2ms/step - loss: 2.1480 - mse: 2.1480\n",
            "Epoch 72/300\n",
            "9/9 [==============================] - 0s 2ms/step - loss: 2.1480 - mse: 2.1480\n",
            "Epoch 73/300\n",
            "9/9 [==============================] - 0s 2ms/step - loss: 2.1479 - mse: 2.1479\n",
            "Epoch 74/300\n",
            "9/9 [==============================] - 0s 2ms/step - loss: 2.1479 - mse: 2.1479\n",
            "Epoch 75/300\n",
            "9/9 [==============================] - 0s 2ms/step - loss: 2.1478 - mse: 2.1478\n",
            "Epoch 76/300\n",
            "9/9 [==============================] - 0s 2ms/step - loss: 2.1477 - mse: 2.1477\n",
            "Epoch 77/300\n",
            "9/9 [==============================] - 0s 2ms/step - loss: 2.1477 - mse: 2.1477\n",
            "Epoch 78/300\n",
            "9/9 [==============================] - 0s 2ms/step - loss: 2.1476 - mse: 2.1476\n",
            "Epoch 79/300\n",
            "9/9 [==============================] - 0s 2ms/step - loss: 2.1476 - mse: 2.1476\n",
            "Epoch 80/300\n",
            "9/9 [==============================] - 0s 2ms/step - loss: 2.1475 - mse: 2.1475\n",
            "Epoch 81/300\n",
            "9/9 [==============================] - 0s 2ms/step - loss: 2.1475 - mse: 2.1475\n",
            "Epoch 82/300\n",
            "9/9 [==============================] - 0s 2ms/step - loss: 2.1474 - mse: 2.1474\n",
            "Epoch 83/300\n",
            "9/9 [==============================] - 0s 2ms/step - loss: 2.1474 - mse: 2.1474\n",
            "Epoch 84/300\n",
            "9/9 [==============================] - 0s 2ms/step - loss: 2.1473 - mse: 2.1473\n",
            "Epoch 85/300\n",
            "9/9 [==============================] - 0s 2ms/step - loss: 2.1473 - mse: 2.1473\n",
            "Epoch 86/300\n",
            "9/9 [==============================] - 0s 2ms/step - loss: 2.1472 - mse: 2.1472\n",
            "Epoch 87/300\n",
            "9/9 [==============================] - 0s 2ms/step - loss: 2.1472 - mse: 2.1472\n",
            "Epoch 88/300\n",
            "9/9 [==============================] - 0s 2ms/step - loss: 2.1472 - mse: 2.1472\n",
            "Epoch 89/300\n",
            "9/9 [==============================] - 0s 2ms/step - loss: 2.1471 - mse: 2.1471\n",
            "Epoch 90/300\n",
            "9/9 [==============================] - 0s 2ms/step - loss: 2.1471 - mse: 2.1471\n",
            "Epoch 91/300\n",
            "9/9 [==============================] - 0s 2ms/step - loss: 2.1471 - mse: 2.1471\n",
            "Epoch 92/300\n",
            "9/9 [==============================] - 0s 2ms/step - loss: 2.1470 - mse: 2.1470\n",
            "Epoch 93/300\n",
            "9/9 [==============================] - 0s 2ms/step - loss: 2.1470 - mse: 2.1470\n",
            "Epoch 94/300\n",
            "9/9 [==============================] - 0s 2ms/step - loss: 2.1470 - mse: 2.1470\n",
            "Epoch 95/300\n",
            "9/9 [==============================] - 0s 2ms/step - loss: 2.1469 - mse: 2.1469\n",
            "Epoch 96/300\n",
            "9/9 [==============================] - 0s 2ms/step - loss: 2.1469 - mse: 2.1469\n",
            "Epoch 97/300\n",
            "9/9 [==============================] - 0s 2ms/step - loss: 2.1469 - mse: 2.1469\n",
            "Epoch 98/300\n",
            "9/9 [==============================] - 0s 2ms/step - loss: 2.1468 - mse: 2.1468\n",
            "Epoch 99/300\n",
            "9/9 [==============================] - 0s 2ms/step - loss: 2.1468 - mse: 2.1468\n",
            "Epoch 100/300\n",
            "9/9 [==============================] - 0s 2ms/step - loss: 2.1468 - mse: 2.1468\n",
            "Epoch 101/300\n",
            "9/9 [==============================] - 0s 2ms/step - loss: 2.1468 - mse: 2.1468\n",
            "Epoch 102/300\n",
            "9/9 [==============================] - 0s 2ms/step - loss: 2.1467 - mse: 2.1467\n",
            "Epoch 103/300\n",
            "9/9 [==============================] - 0s 2ms/step - loss: 2.1467 - mse: 2.1467\n",
            "Epoch 104/300\n",
            "9/9 [==============================] - 0s 2ms/step - loss: 2.1467 - mse: 2.1467\n",
            "Epoch 105/300\n",
            "9/9 [==============================] - 0s 2ms/step - loss: 2.1467 - mse: 2.1467\n",
            "Epoch 106/300\n",
            "9/9 [==============================] - 0s 2ms/step - loss: 2.1466 - mse: 2.1466\n",
            "Epoch 107/300\n",
            "9/9 [==============================] - 0s 2ms/step - loss: 2.1466 - mse: 2.1466\n",
            "Epoch 108/300\n",
            "9/9 [==============================] - 0s 2ms/step - loss: 2.1466 - mse: 2.1466\n",
            "Epoch 109/300\n",
            "9/9 [==============================] - 0s 2ms/step - loss: 2.1466 - mse: 2.1466\n",
            "Epoch 110/300\n",
            "9/9 [==============================] - 0s 2ms/step - loss: 2.1466 - mse: 2.1466\n",
            "Epoch 111/300\n",
            "9/9 [==============================] - 0s 2ms/step - loss: 2.1466 - mse: 2.1466\n",
            "Epoch 112/300\n",
            "9/9 [==============================] - 0s 2ms/step - loss: 2.1465 - mse: 2.1465\n",
            "Epoch 113/300\n",
            "9/9 [==============================] - 0s 1ms/step - loss: 2.1465 - mse: 2.1465\n",
            "Epoch 114/300\n",
            "9/9 [==============================] - 0s 2ms/step - loss: 2.1465 - mse: 2.1465\n",
            "Epoch 115/300\n",
            "9/9 [==============================] - 0s 2ms/step - loss: 2.1465 - mse: 2.1465\n",
            "Epoch 116/300\n",
            "9/9 [==============================] - 0s 2ms/step - loss: 2.1465 - mse: 2.1465\n",
            "Epoch 117/300\n",
            "9/9 [==============================] - 0s 2ms/step - loss: 2.1465 - mse: 2.1465\n",
            "Epoch 118/300\n",
            "9/9 [==============================] - 0s 2ms/step - loss: 2.1464 - mse: 2.1464\n",
            "Epoch 119/300\n",
            "9/9 [==============================] - 0s 2ms/step - loss: 2.1464 - mse: 2.1464\n",
            "Epoch 120/300\n",
            "9/9 [==============================] - 0s 2ms/step - loss: 2.1464 - mse: 2.1464\n",
            "Epoch 121/300\n",
            "9/9 [==============================] - 0s 2ms/step - loss: 2.1464 - mse: 2.1464\n",
            "Epoch 122/300\n",
            "9/9 [==============================] - 0s 2ms/step - loss: 2.1464 - mse: 2.1464\n",
            "Epoch 123/300\n",
            "9/9 [==============================] - 0s 1ms/step - loss: 2.1464 - mse: 2.1464\n",
            "Epoch 124/300\n",
            "9/9 [==============================] - 0s 2ms/step - loss: 2.1464 - mse: 2.1464\n",
            "Epoch 125/300\n",
            "9/9 [==============================] - 0s 2ms/step - loss: 2.1464 - mse: 2.1464\n",
            "Epoch 126/300\n",
            "9/9 [==============================] - 0s 2ms/step - loss: 2.1463 - mse: 2.1463\n",
            "Epoch 127/300\n",
            "9/9 [==============================] - 0s 2ms/step - loss: 2.1463 - mse: 2.1463\n",
            "Epoch 128/300\n",
            "9/9 [==============================] - 0s 2ms/step - loss: 2.1463 - mse: 2.1463\n",
            "Epoch 129/300\n",
            "9/9 [==============================] - 0s 2ms/step - loss: 2.1463 - mse: 2.1463\n",
            "Epoch 130/300\n",
            "9/9 [==============================] - 0s 2ms/step - loss: 2.1463 - mse: 2.1463\n",
            "Epoch 131/300\n",
            "9/9 [==============================] - 0s 2ms/step - loss: 2.1463 - mse: 2.1463\n",
            "Epoch 132/300\n",
            "9/9 [==============================] - 0s 1ms/step - loss: 2.1463 - mse: 2.1463\n",
            "Epoch 133/300\n",
            "9/9 [==============================] - 0s 2ms/step - loss: 2.1463 - mse: 2.1463\n",
            "Epoch 134/300\n",
            "9/9 [==============================] - 0s 2ms/step - loss: 2.1463 - mse: 2.1463\n",
            "Epoch 135/300\n",
            "9/9 [==============================] - 0s 1ms/step - loss: 2.1463 - mse: 2.1463\n",
            "Epoch 136/300\n",
            "9/9 [==============================] - 0s 2ms/step - loss: 2.1463 - mse: 2.1463\n",
            "Epoch 137/300\n",
            "9/9 [==============================] - 0s 2ms/step - loss: 2.1462 - mse: 2.1462\n",
            "Epoch 138/300\n",
            "9/9 [==============================] - 0s 2ms/step - loss: 2.1462 - mse: 2.1462\n",
            "Epoch 139/300\n",
            "9/9 [==============================] - 0s 2ms/step - loss: 2.1462 - mse: 2.1462\n",
            "Epoch 140/300\n",
            "9/9 [==============================] - 0s 2ms/step - loss: 2.1462 - mse: 2.1462\n",
            "Epoch 141/300\n",
            "9/9 [==============================] - 0s 2ms/step - loss: 2.1462 - mse: 2.1462\n",
            "Epoch 142/300\n",
            "9/9 [==============================] - 0s 2ms/step - loss: 2.1462 - mse: 2.1462\n",
            "Epoch 143/300\n",
            "9/9 [==============================] - 0s 2ms/step - loss: 2.1462 - mse: 2.1462\n",
            "Epoch 144/300\n",
            "9/9 [==============================] - 0s 2ms/step - loss: 2.1462 - mse: 2.1462\n",
            "Epoch 145/300\n",
            "9/9 [==============================] - 0s 2ms/step - loss: 2.1462 - mse: 2.1462\n",
            "Epoch 146/300\n",
            "9/9 [==============================] - 0s 2ms/step - loss: 2.1462 - mse: 2.1462\n",
            "Epoch 147/300\n",
            "9/9 [==============================] - 0s 2ms/step - loss: 2.1462 - mse: 2.1462\n",
            "Epoch 148/300\n",
            "9/9 [==============================] - 0s 2ms/step - loss: 2.1462 - mse: 2.1462\n",
            "Epoch 149/300\n",
            "9/9 [==============================] - 0s 2ms/step - loss: 2.1462 - mse: 2.1462\n",
            "Epoch 150/300\n",
            "9/9 [==============================] - 0s 2ms/step - loss: 2.1462 - mse: 2.1462\n",
            "Epoch 151/300\n",
            "9/9 [==============================] - 0s 2ms/step - loss: 2.1462 - mse: 2.1462\n",
            "Epoch 152/300\n",
            "9/9 [==============================] - 0s 2ms/step - loss: 2.1462 - mse: 2.1462\n",
            "Epoch 153/300\n",
            "9/9 [==============================] - 0s 2ms/step - loss: 2.1462 - mse: 2.1462\n",
            "Epoch 154/300\n",
            "9/9 [==============================] - 0s 2ms/step - loss: 2.1462 - mse: 2.1462\n",
            "Epoch 155/300\n",
            "9/9 [==============================] - 0s 1ms/step - loss: 2.1461 - mse: 2.1461\n",
            "Epoch 156/300\n",
            "9/9 [==============================] - 0s 2ms/step - loss: 2.1461 - mse: 2.1461\n",
            "Epoch 157/300\n",
            "9/9 [==============================] - 0s 2ms/step - loss: 2.1461 - mse: 2.1461\n",
            "Epoch 158/300\n",
            "9/9 [==============================] - 0s 2ms/step - loss: 2.1461 - mse: 2.1461\n",
            "Epoch 159/300\n",
            "9/9 [==============================] - 0s 2ms/step - loss: 2.1461 - mse: 2.1461\n",
            "Epoch 160/300\n",
            "9/9 [==============================] - 0s 2ms/step - loss: 2.1461 - mse: 2.1461\n",
            "Epoch 161/300\n",
            "9/9 [==============================] - 0s 1ms/step - loss: 2.1461 - mse: 2.1461\n",
            "Epoch 162/300\n",
            "9/9 [==============================] - 0s 2ms/step - loss: 2.1461 - mse: 2.1461\n",
            "Epoch 163/300\n",
            "9/9 [==============================] - 0s 2ms/step - loss: 2.1461 - mse: 2.1461\n",
            "Epoch 164/300\n",
            "9/9 [==============================] - 0s 2ms/step - loss: 2.1461 - mse: 2.1461\n",
            "Epoch 165/300\n",
            "9/9 [==============================] - 0s 2ms/step - loss: 2.1461 - mse: 2.1461\n",
            "Epoch 166/300\n",
            "9/9 [==============================] - 0s 2ms/step - loss: 2.1461 - mse: 2.1461\n",
            "Epoch 167/300\n",
            "9/9 [==============================] - 0s 2ms/step - loss: 2.1461 - mse: 2.1461\n",
            "Epoch 168/300\n",
            "9/9 [==============================] - 0s 2ms/step - loss: 2.1461 - mse: 2.1461\n",
            "Epoch 169/300\n",
            "9/9 [==============================] - 0s 2ms/step - loss: 2.1461 - mse: 2.1461\n",
            "Epoch 170/300\n",
            "9/9 [==============================] - 0s 2ms/step - loss: 2.1461 - mse: 2.1461\n",
            "Epoch 171/300\n",
            "9/9 [==============================] - 0s 2ms/step - loss: 2.1461 - mse: 2.1461\n",
            "Epoch 172/300\n",
            "9/9 [==============================] - 0s 2ms/step - loss: 2.1461 - mse: 2.1461\n",
            "Epoch 173/300\n",
            "9/9 [==============================] - 0s 2ms/step - loss: 2.1461 - mse: 2.1461\n",
            "Epoch 174/300\n",
            "9/9 [==============================] - 0s 2ms/step - loss: 2.1461 - mse: 2.1461\n",
            "Epoch 175/300\n",
            "9/9 [==============================] - 0s 2ms/step - loss: 2.1461 - mse: 2.1461\n",
            "Epoch 176/300\n",
            "9/9 [==============================] - 0s 2ms/step - loss: 2.1461 - mse: 2.1461\n",
            "Epoch 177/300\n",
            "9/9 [==============================] - 0s 2ms/step - loss: 2.1461 - mse: 2.1461\n",
            "Epoch 178/300\n",
            "9/9 [==============================] - 0s 2ms/step - loss: 2.1461 - mse: 2.1461\n",
            "Epoch 179/300\n",
            "9/9 [==============================] - 0s 2ms/step - loss: 2.1461 - mse: 2.1461\n",
            "Epoch 180/300\n",
            "9/9 [==============================] - 0s 2ms/step - loss: 2.1461 - mse: 2.1461\n",
            "Epoch 181/300\n",
            "9/9 [==============================] - 0s 2ms/step - loss: 2.1461 - mse: 2.1461\n",
            "Epoch 182/300\n",
            "9/9 [==============================] - 0s 2ms/step - loss: 2.1461 - mse: 2.1461\n",
            "Epoch 183/300\n",
            "9/9 [==============================] - 0s 2ms/step - loss: 2.1461 - mse: 2.1461\n",
            "Epoch 184/300\n",
            "9/9 [==============================] - 0s 2ms/step - loss: 2.1461 - mse: 2.1461\n",
            "Epoch 185/300\n",
            "9/9 [==============================] - 0s 2ms/step - loss: 2.1461 - mse: 2.1461\n",
            "Epoch 186/300\n",
            "9/9 [==============================] - 0s 2ms/step - loss: 2.1461 - mse: 2.1461\n",
            "Epoch 187/300\n",
            "9/9 [==============================] - 0s 2ms/step - loss: 2.1461 - mse: 2.1461\n",
            "Epoch 188/300\n",
            "9/9 [==============================] - 0s 2ms/step - loss: 2.1461 - mse: 2.1461\n",
            "Epoch 189/300\n",
            "9/9 [==============================] - 0s 2ms/step - loss: 2.1461 - mse: 2.1461\n",
            "Epoch 190/300\n",
            "9/9 [==============================] - 0s 2ms/step - loss: 2.1461 - mse: 2.1461\n",
            "Epoch 191/300\n",
            "9/9 [==============================] - 0s 2ms/step - loss: 2.1461 - mse: 2.1461\n",
            "Epoch 192/300\n",
            "9/9 [==============================] - 0s 2ms/step - loss: 2.1461 - mse: 2.1461\n",
            "Epoch 193/300\n",
            "9/9 [==============================] - 0s 2ms/step - loss: 2.1461 - mse: 2.1461\n",
            "Epoch 194/300\n",
            "9/9 [==============================] - 0s 2ms/step - loss: 2.1461 - mse: 2.1461\n",
            "Epoch 195/300\n",
            "9/9 [==============================] - 0s 2ms/step - loss: 2.1461 - mse: 2.1461\n",
            "Epoch 196/300\n",
            "9/9 [==============================] - 0s 2ms/step - loss: 2.1461 - mse: 2.1461\n",
            "Epoch 197/300\n",
            "9/9 [==============================] - 0s 2ms/step - loss: 2.1461 - mse: 2.1461\n",
            "Epoch 198/300\n",
            "9/9 [==============================] - 0s 2ms/step - loss: 2.1461 - mse: 2.1461\n",
            "Epoch 199/300\n",
            "9/9 [==============================] - 0s 2ms/step - loss: 2.1461 - mse: 2.1461\n",
            "Epoch 200/300\n",
            "9/9 [==============================] - 0s 2ms/step - loss: 2.1461 - mse: 2.1461\n",
            "Epoch 201/300\n",
            "9/9 [==============================] - 0s 2ms/step - loss: 2.1461 - mse: 2.1461\n",
            "Epoch 202/300\n",
            "9/9 [==============================] - 0s 2ms/step - loss: 2.1460 - mse: 2.1460\n",
            "Epoch 203/300\n",
            "9/9 [==============================] - 0s 2ms/step - loss: 2.1461 - mse: 2.1461\n",
            "Epoch 204/300\n",
            "9/9 [==============================] - 0s 2ms/step - loss: 2.1461 - mse: 2.1461\n",
            "Epoch 205/300\n",
            "9/9 [==============================] - 0s 2ms/step - loss: 2.1460 - mse: 2.1460\n",
            "Epoch 206/300\n",
            "9/9 [==============================] - 0s 2ms/step - loss: 2.1460 - mse: 2.1460\n",
            "Epoch 207/300\n",
            "9/9 [==============================] - 0s 2ms/step - loss: 2.1460 - mse: 2.1460\n",
            "Epoch 208/300\n",
            "9/9 [==============================] - 0s 2ms/step - loss: 2.1460 - mse: 2.1460\n",
            "Epoch 209/300\n",
            "9/9 [==============================] - 0s 2ms/step - loss: 2.1460 - mse: 2.1460\n",
            "Epoch 210/300\n",
            "9/9 [==============================] - 0s 2ms/step - loss: 2.1460 - mse: 2.1460\n",
            "Epoch 211/300\n",
            "9/9 [==============================] - 0s 2ms/step - loss: 2.1460 - mse: 2.1460\n",
            "Epoch 212/300\n",
            "9/9 [==============================] - 0s 2ms/step - loss: 2.1460 - mse: 2.1460\n",
            "Epoch 213/300\n",
            "9/9 [==============================] - 0s 2ms/step - loss: 2.1460 - mse: 2.1460\n",
            "Epoch 214/300\n",
            "9/9 [==============================] - 0s 2ms/step - loss: 2.1460 - mse: 2.1460\n",
            "Epoch 215/300\n",
            "9/9 [==============================] - 0s 2ms/step - loss: 2.1460 - mse: 2.1460\n",
            "Epoch 216/300\n",
            "9/9 [==============================] - 0s 2ms/step - loss: 2.1460 - mse: 2.1460\n",
            "Epoch 217/300\n",
            "9/9 [==============================] - 0s 2ms/step - loss: 2.1460 - mse: 2.1460\n",
            "Epoch 218/300\n",
            "9/9 [==============================] - 0s 2ms/step - loss: 2.1460 - mse: 2.1460\n",
            "Epoch 219/300\n",
            "9/9 [==============================] - 0s 2ms/step - loss: 2.1460 - mse: 2.1460\n",
            "Epoch 220/300\n",
            "9/9 [==============================] - 0s 2ms/step - loss: 2.1460 - mse: 2.1460\n",
            "Epoch 221/300\n",
            "9/9 [==============================] - 0s 1ms/step - loss: 2.1460 - mse: 2.1460\n",
            "Epoch 222/300\n",
            "9/9 [==============================] - 0s 2ms/step - loss: 2.1460 - mse: 2.1460\n",
            "Epoch 223/300\n",
            "9/9 [==============================] - 0s 2ms/step - loss: 2.1460 - mse: 2.1460\n",
            "Epoch 224/300\n",
            "9/9 [==============================] - 0s 2ms/step - loss: 2.1460 - mse: 2.1460\n",
            "Epoch 225/300\n",
            "9/9 [==============================] - 0s 2ms/step - loss: 2.1460 - mse: 2.1460\n",
            "Epoch 226/300\n",
            "9/9 [==============================] - 0s 2ms/step - loss: 2.1460 - mse: 2.1460\n",
            "Epoch 227/300\n",
            "9/9 [==============================] - 0s 2ms/step - loss: 2.1460 - mse: 2.1460\n",
            "Epoch 228/300\n",
            "9/9 [==============================] - 0s 2ms/step - loss: 2.1460 - mse: 2.1460\n",
            "Epoch 229/300\n",
            "9/9 [==============================] - 0s 2ms/step - loss: 2.1460 - mse: 2.1460\n",
            "Epoch 230/300\n",
            "9/9 [==============================] - 0s 2ms/step - loss: 2.1460 - mse: 2.1460\n",
            "Epoch 231/300\n",
            "9/9 [==============================] - 0s 2ms/step - loss: 2.1460 - mse: 2.1460\n",
            "Epoch 232/300\n",
            "9/9 [==============================] - 0s 2ms/step - loss: 2.1460 - mse: 2.1460\n",
            "Epoch 233/300\n",
            "9/9 [==============================] - 0s 2ms/step - loss: 2.1460 - mse: 2.1460\n",
            "Epoch 234/300\n",
            "9/9 [==============================] - 0s 2ms/step - loss: 2.1460 - mse: 2.1460\n",
            "Epoch 235/300\n",
            "9/9 [==============================] - 0s 2ms/step - loss: 2.1460 - mse: 2.1460\n",
            "Epoch 236/300\n",
            "9/9 [==============================] - 0s 2ms/step - loss: 2.1460 - mse: 2.1460\n",
            "Epoch 237/300\n",
            "9/9 [==============================] - 0s 2ms/step - loss: 2.1460 - mse: 2.1460\n",
            "Epoch 238/300\n",
            "9/9 [==============================] - 0s 2ms/step - loss: 2.1460 - mse: 2.1460\n",
            "Epoch 239/300\n",
            "9/9 [==============================] - 0s 2ms/step - loss: 2.1460 - mse: 2.1460\n",
            "Epoch 240/300\n",
            "9/9 [==============================] - 0s 2ms/step - loss: 2.1460 - mse: 2.1460\n",
            "Epoch 241/300\n",
            "9/9 [==============================] - 0s 2ms/step - loss: 2.1460 - mse: 2.1460\n",
            "Epoch 242/300\n",
            "9/9 [==============================] - 0s 1ms/step - loss: 2.1460 - mse: 2.1460\n",
            "Epoch 243/300\n",
            "9/9 [==============================] - 0s 1ms/step - loss: 2.1460 - mse: 2.1460\n",
            "Epoch 244/300\n",
            "9/9 [==============================] - 0s 1ms/step - loss: 2.1460 - mse: 2.1460\n",
            "Epoch 245/300\n",
            "9/9 [==============================] - 0s 2ms/step - loss: 2.1460 - mse: 2.1460\n",
            "Epoch 246/300\n",
            "9/9 [==============================] - 0s 2ms/step - loss: 2.1460 - mse: 2.1460\n",
            "Epoch 247/300\n",
            "9/9 [==============================] - 0s 2ms/step - loss: 2.1460 - mse: 2.1460\n",
            "Epoch 248/300\n",
            "9/9 [==============================] - 0s 2ms/step - loss: 2.1460 - mse: 2.1460\n",
            "Epoch 249/300\n",
            "9/9 [==============================] - 0s 2ms/step - loss: 2.1460 - mse: 2.1460\n",
            "Epoch 250/300\n",
            "9/9 [==============================] - 0s 2ms/step - loss: 2.1460 - mse: 2.1460\n",
            "Epoch 251/300\n",
            "9/9 [==============================] - 0s 2ms/step - loss: 2.1460 - mse: 2.1460\n",
            "Epoch 252/300\n",
            "9/9 [==============================] - 0s 2ms/step - loss: 2.1460 - mse: 2.1460\n",
            "Epoch 253/300\n",
            "9/9 [==============================] - 0s 2ms/step - loss: 2.1460 - mse: 2.1460\n",
            "Epoch 254/300\n",
            "9/9 [==============================] - 0s 2ms/step - loss: 2.1460 - mse: 2.1460\n",
            "Epoch 255/300\n",
            "9/9 [==============================] - 0s 2ms/step - loss: 2.1460 - mse: 2.1460\n",
            "Epoch 256/300\n",
            "9/9 [==============================] - 0s 2ms/step - loss: 2.1460 - mse: 2.1460\n",
            "Epoch 257/300\n",
            "9/9 [==============================] - 0s 2ms/step - loss: 2.1460 - mse: 2.1460\n",
            "Epoch 258/300\n",
            "9/9 [==============================] - 0s 2ms/step - loss: 2.1460 - mse: 2.1460\n",
            "Epoch 259/300\n",
            "9/9 [==============================] - 0s 2ms/step - loss: 2.1460 - mse: 2.1460\n",
            "Epoch 260/300\n",
            "9/9 [==============================] - 0s 2ms/step - loss: 2.1460 - mse: 2.1460\n",
            "Epoch 261/300\n",
            "9/9 [==============================] - 0s 2ms/step - loss: 2.1460 - mse: 2.1460\n",
            "Epoch 262/300\n",
            "9/9 [==============================] - 0s 2ms/step - loss: 2.1460 - mse: 2.1460\n",
            "Epoch 263/300\n",
            "9/9 [==============================] - 0s 2ms/step - loss: 2.1460 - mse: 2.1460\n",
            "Epoch 264/300\n",
            "9/9 [==============================] - 0s 2ms/step - loss: 2.1460 - mse: 2.1460\n",
            "Epoch 265/300\n",
            "9/9 [==============================] - 0s 2ms/step - loss: 2.1460 - mse: 2.1460\n",
            "Epoch 266/300\n",
            "9/9 [==============================] - 0s 2ms/step - loss: 2.1460 - mse: 2.1460\n",
            "Epoch 267/300\n",
            "9/9 [==============================] - 0s 2ms/step - loss: 2.1460 - mse: 2.1460\n",
            "Epoch 268/300\n",
            "9/9 [==============================] - 0s 2ms/step - loss: 2.1460 - mse: 2.1460\n",
            "Epoch 269/300\n",
            "9/9 [==============================] - 0s 2ms/step - loss: 2.1460 - mse: 2.1460\n",
            "Epoch 270/300\n",
            "9/9 [==============================] - 0s 2ms/step - loss: 2.1460 - mse: 2.1460\n",
            "Epoch 271/300\n",
            "9/9 [==============================] - 0s 2ms/step - loss: 2.1460 - mse: 2.1460\n",
            "Epoch 272/300\n",
            "9/9 [==============================] - 0s 2ms/step - loss: 2.1460 - mse: 2.1460\n",
            "Epoch 273/300\n",
            "9/9 [==============================] - 0s 2ms/step - loss: 2.1460 - mse: 2.1460\n",
            "Epoch 274/300\n",
            "9/9 [==============================] - 0s 2ms/step - loss: 2.1460 - mse: 2.1460\n",
            "Epoch 275/300\n",
            "9/9 [==============================] - 0s 2ms/step - loss: 2.1460 - mse: 2.1460\n",
            "Epoch 276/300\n",
            "9/9 [==============================] - 0s 2ms/step - loss: 2.1460 - mse: 2.1460\n",
            "Epoch 277/300\n",
            "9/9 [==============================] - 0s 1ms/step - loss: 2.1460 - mse: 2.1460\n",
            "Epoch 278/300\n",
            "9/9 [==============================] - 0s 2ms/step - loss: 2.1460 - mse: 2.1460\n",
            "Epoch 279/300\n",
            "9/9 [==============================] - 0s 2ms/step - loss: 2.1460 - mse: 2.1460\n",
            "Epoch 280/300\n",
            "9/9 [==============================] - 0s 2ms/step - loss: 2.1460 - mse: 2.1460\n",
            "Epoch 281/300\n",
            "9/9 [==============================] - 0s 2ms/step - loss: 2.1460 - mse: 2.1460\n",
            "Epoch 282/300\n",
            "9/9 [==============================] - 0s 2ms/step - loss: 2.1460 - mse: 2.1460\n",
            "Epoch 283/300\n",
            "9/9 [==============================] - 0s 2ms/step - loss: 2.1460 - mse: 2.1460\n",
            "Epoch 284/300\n",
            "9/9 [==============================] - 0s 2ms/step - loss: 2.1460 - mse: 2.1460\n",
            "Epoch 285/300\n",
            "9/9 [==============================] - 0s 2ms/step - loss: 2.1460 - mse: 2.1460\n",
            "Epoch 286/300\n",
            "9/9 [==============================] - 0s 2ms/step - loss: 2.1460 - mse: 2.1460\n",
            "Epoch 287/300\n",
            "9/9 [==============================] - 0s 2ms/step - loss: 2.1460 - mse: 2.1460\n",
            "Epoch 288/300\n",
            "9/9 [==============================] - 0s 1ms/step - loss: 2.1460 - mse: 2.1460\n",
            "Epoch 289/300\n",
            "9/9 [==============================] - 0s 2ms/step - loss: 2.1460 - mse: 2.1460\n",
            "Epoch 290/300\n",
            "9/9 [==============================] - 0s 2ms/step - loss: 2.1460 - mse: 2.1460\n",
            "Epoch 291/300\n",
            "9/9 [==============================] - 0s 2ms/step - loss: 2.1460 - mse: 2.1460\n",
            "Epoch 292/300\n",
            "9/9 [==============================] - 0s 2ms/step - loss: 2.1460 - mse: 2.1460\n",
            "Epoch 293/300\n",
            "9/9 [==============================] - 0s 2ms/step - loss: 2.1460 - mse: 2.1460\n",
            "Epoch 294/300\n",
            "9/9 [==============================] - 0s 2ms/step - loss: 2.1460 - mse: 2.1460\n",
            "Epoch 295/300\n",
            "9/9 [==============================] - 0s 2ms/step - loss: 2.1460 - mse: 2.1460\n",
            "Epoch 296/300\n",
            "9/9 [==============================] - 0s 2ms/step - loss: 2.1460 - mse: 2.1460\n",
            "Epoch 297/300\n",
            "9/9 [==============================] - 0s 2ms/step - loss: 2.1460 - mse: 2.1460\n",
            "Epoch 298/300\n",
            "9/9 [==============================] - 0s 2ms/step - loss: 2.1460 - mse: 2.1460\n",
            "Epoch 299/300\n",
            "9/9 [==============================] - 0s 2ms/step - loss: 2.1460 - mse: 2.1460\n",
            "Epoch 300/300\n",
            "9/9 [==============================] - 0s 2ms/step - loss: 2.1460 - mse: 2.1460\n"
          ],
          "name": "stdout"
        },
        {
          "output_type": "execute_result",
          "data": {
            "text/plain": [
              "<tensorflow.python.keras.callbacks.History at 0x7f107459d198>"
            ]
          },
          "metadata": {
            "tags": []
          },
          "execution_count": 20
        }
      ]
    },
    {
      "cell_type": "code",
      "metadata": {
        "id": "C47FCExVBOin",
        "colab_type": "code",
        "colab": {
          "base_uri": "https://localhost:8080/",
          "height": 300
        },
        "outputId": "19588f28-688e-4d3a-a7a1-c85420da677f"
      },
      "source": [
        "%matplotlib inline\n",
        "import matplotlib.pyplot as plt\n",
        "plt.plot(X, model.predict(X), 'b', X,y, 'k.')"
      ],
      "execution_count": null,
      "outputs": [
        {
          "output_type": "execute_result",
          "data": {
            "text/plain": [
              "[<matplotlib.lines.Line2D at 0x7f0ffcebc6d8>,\n",
              " <matplotlib.lines.Line2D at 0x7f0ffcebc7f0>]"
            ]
          },
          "metadata": {
            "tags": []
          },
          "execution_count": 21
        },
        {
          "output_type": "display_data",
          "data": {
            "image/png": "[encoded data removed]",
            "text/plain": [
              "<Figure size 432x288 with 1 Axes>"
            ]
          },
          "metadata": {
            "tags": [],
            "needs_background": "light"
          }
        }
      ]
    },
    {
      "cell_type": "code",
      "metadata": {
        "id": "Kjs0sBF-BP3s",
        "colab_type": "code",
        "colab": {
          "base_uri": "https://localhost:8080/",
          "height": 34
        },
        "outputId": "8f30724c-c189-4608-c4e1-101e34844797"
      },
      "source": [
        "print(model.predict([9.5]))"
      ],
      "execution_count": null,
      "outputs": [
        {
          "output_type": "stream",
          "text": [
            "[[98.556465]]\n"
          ],
          "name": "stdout"
        }
      ]
    },
    {
      "cell_type": "markdown",
      "metadata": {
        "id": "6VpSK_S5BSsO",
        "colab_type": "text"
      },
      "source": [
        "# 로지스틱 회귀 구현하기"
      ]
    },
    {
      "cell_type": "code",
      "metadata": {
        "id": "rIP2hD_HBUaY",
        "colab_type": "code",
        "colab": {}
      },
      "source": [
        "%matplotlib inline\n",
        "import numpy as np # 넘파이 사용\n",
        "import matplotlib.pyplot as plt # 맷플롯립 사용"
      ],
      "execution_count": null,
      "outputs": []
    },
    {
      "cell_type": "code",
      "metadata": {
        "id": "LiYblVKQBW6I",
        "colab_type": "code",
        "colab": {
          "base_uri": "https://localhost:8080/",
          "height": 281
        },
        "outputId": "da2e804b-498d-4ea4-c660-59d9207e3350"
      },
      "source": [
        "def sigmoid(x):\n",
        "    return 1/(1+np.exp(-x))\n",
        "x = np.arange(-5.0, 5.0, 0.1)\n",
        "y = sigmoid(x)\n",
        "\n",
        "plt.plot(x, y, 'g')\n",
        "plt.plot([0,0],[1.0,0.0], ':') # 가운데 점선 추가\n",
        "plt.title('Sigmoid Function')\n",
        "plt.show()"
      ],
      "execution_count": null,
      "outputs": [
        {
          "output_type": "display_data",
          "data": {
            "image/png": "[encoded data removed]",
            "text/plain": [
              "<Figure size 432x288 with 1 Axes>"
            ]
          },
          "metadata": {
            "tags": [],
            "needs_background": "light"
          }
        }
      ]
    },
    {
      "cell_type": "code",
      "metadata": {
        "id": "Nws_UcQ5BZSD",
        "colab_type": "code",
        "colab": {
          "base_uri": "https://localhost:8080/",
          "height": 281
        },
        "outputId": "82276376-dcd0-456c-9057-d895d89071fe"
      },
      "source": [
        "def sigmoid(x):\n",
        "    return 1/(1+np.exp(-x))\n",
        "x = np.arange(-5.0, 5.0, 0.1)\n",
        "y1 = sigmoid(0.5*x)\n",
        "y2 = sigmoid(x)\n",
        "y3 = sigmoid(2*x)\n",
        "\n",
        "plt.plot(x, y1, 'r', linestyle='--') # W의 값이 0.5일때\n",
        "plt.plot(x, y2, 'g') # W의 값이 1일때\n",
        "plt.plot(x, y3, 'b', linestyle='--') # W의 값이 2일때\n",
        "plt.plot([0,0],[1.0,0.0], ':') # 가운데 점선 추가\n",
        "plt.title('Sigmoid Function')\n",
        "plt.show()"
      ],
      "execution_count": null,
      "outputs": [
        {
          "output_type": "display_data",
          "data": {
            "image/png": "[encoded data removed]",
            "text/plain": [
              "<Figure size 432x288 with 1 Axes>"
            ]
          },
          "metadata": {
            "tags": [],
            "needs_background": "light"
          }
        }
      ]
    },
    {
      "cell_type": "code",
      "metadata": {
        "id": "qWs6rh9iBauO",
        "colab_type": "code",
        "colab": {
          "base_uri": "https://localhost:8080/",
          "height": 281
        },
        "outputId": "cce086c2-74a3-4209-e30b-3ffe33daaaa7"
      },
      "source": [
        "def sigmoid(x):\n",
        "    return 1/(1+np.exp(-x))\n",
        "x = np.arange(-5.0, 5.0, 0.1)\n",
        "y1 = sigmoid(x+0.5)\n",
        "y2 = sigmoid(x+1)\n",
        "y3 = sigmoid(x+1.5)\n",
        "\n",
        "plt.plot(x, y1, 'r', linestyle='--') # x + 0.5\n",
        "plt.plot(x, y2, 'g') # x + 1\n",
        "plt.plot(x, y3, 'b', linestyle='--') # x + 1.5\n",
        "plt.plot([0,0],[1.0,0.0], ':') # 가운데 점선 추가\n",
        "plt.title('Sigmoid Function')\n",
        "plt.show()"
      ],
      "execution_count": null,
      "outputs": [
        {
          "output_type": "display_data",
          "data": {
            "image/png": "[encoded data removed]",
            "text/plain": [
              "<Figure size 432x288 with 1 Axes>"
            ]
          },
          "metadata": {
            "tags": [],
            "needs_background": "light"
          }
        }
      ]
    },
    {
      "cell_type": "code",
      "metadata": {
        "id": "UKasRKEXBc6q",
        "colab_type": "code",
        "colab": {}
      },
      "source": [
        "import numpy as np\n",
        "from tensorflow.keras.models import Sequential # 케라스의 Sequential()을 임포트\n",
        "from tensorflow.keras.layers import Dense # 케라스의 Dense()를 임포트\n",
        "from tensorflow.keras import optimizers # 케라스의 옵티마이저를 임포트"
      ],
      "execution_count": null,
      "outputs": []
    },
    {
      "cell_type": "code",
      "metadata": {
        "id": "uooupQZfBdmc",
        "colab_type": "code",
        "colab": {}
      },
      "source": [
        "X = np.array([-50, -40, -30, -20, -10, -5, 0, 5, 10, 20, 30, 40, 50])\n",
        "y = np.array([0, 0, 0, 0, 0, 0, 0, 0, 1, 1, 1, 1, 1]) #숫자 10부터 1"
      ],
      "execution_count": null,
      "outputs": []
    },
    {
      "cell_type": "code",
      "metadata": {
        "id": "L6vRBgppBfdS",
        "colab_type": "code",
        "colab": {
          "base_uri": "https://localhost:8080/",
          "height": 1000
        },
        "outputId": "08d6628a-c640-4dd5-c7db-86f89d58510e"
      },
      "source": [
        "model=Sequential()\n",
        "model.add(Dense(1, input_dim=1, activation='sigmoid'))\n",
        "sgd=optimizers.SGD(lr=0.01)\n",
        "model.compile(optimizer=sgd ,loss='binary_crossentropy',metrics=['binary_accuracy'])\n",
        "# 옵티마이저는 경사하강법 sgd를 사용합니다.\n",
        "# 손실 함수(Loss function)는 binary_crossentropy(이진 크로스 엔트로피)를 사용합니다.\n",
        "model.fit(X,y, batch_size=1, epochs=200, shuffle=False)\n",
        "# 주어진 X와 y데이터에 대해서 오차를 최소화하는 작업을 200번 시도합니다."
      ],
      "execution_count": null,
      "outputs": [
        {
          "output_type": "stream",
          "text": [
            "Epoch 1/200\n",
            "13/13 [==============================] - 0s 2ms/step - loss: 0.6573 - binary_accuracy: 0.9231\n",
            "Epoch 2/200\n",
            "13/13 [==============================] - 0s 2ms/step - loss: 0.6364 - binary_accuracy: 0.9231\n",
            "Epoch 3/200\n",
            "13/13 [==============================] - 0s 2ms/step - loss: 0.6155 - binary_accuracy: 0.9231\n",
            "Epoch 4/200\n",
            "13/13 [==============================] - 0s 2ms/step - loss: 0.5946 - binary_accuracy: 0.9231\n",
            "Epoch 5/200\n",
            "13/13 [==============================] - 0s 2ms/step - loss: 0.5737 - binary_accuracy: 0.9231\n",
            "Epoch 6/200\n",
            "13/13 [==============================] - 0s 2ms/step - loss: 0.5529 - binary_accuracy: 0.9231\n",
            "Epoch 7/200\n",
            "13/13 [==============================] - 0s 2ms/step - loss: 0.5321 - binary_accuracy: 0.9231\n",
            "Epoch 8/200\n",
            "13/13 [==============================] - 0s 2ms/step - loss: 0.5113 - binary_accuracy: 0.9231\n",
            "Epoch 9/200\n",
            "13/13 [==============================] - 0s 2ms/step - loss: 0.4906 - binary_accuracy: 0.9231\n",
            "Epoch 10/200\n",
            "13/13 [==============================] - 0s 2ms/step - loss: 0.4700 - binary_accuracy: 0.9231\n",
            "Epoch 11/200\n",
            "13/13 [==============================] - 0s 2ms/step - loss: 0.4494 - binary_accuracy: 0.9231\n",
            "Epoch 12/200\n",
            "13/13 [==============================] - 0s 2ms/step - loss: 0.4290 - binary_accuracy: 0.9231\n",
            "Epoch 13/200\n",
            "13/13 [==============================] - 0s 2ms/step - loss: 0.4086 - binary_accuracy: 0.9231\n",
            "Epoch 14/200\n",
            "13/13 [==============================] - 0s 2ms/step - loss: 0.3885 - binary_accuracy: 0.9231\n",
            "Epoch 15/200\n",
            "13/13 [==============================] - 0s 2ms/step - loss: 0.3685 - binary_accuracy: 0.9231\n",
            "Epoch 16/200\n",
            "13/13 [==============================] - 0s 2ms/step - loss: 0.3488 - binary_accuracy: 0.9231\n",
            "Epoch 17/200\n",
            "13/13 [==============================] - 0s 2ms/step - loss: 0.3294 - binary_accuracy: 0.9231\n",
            "Epoch 18/200\n",
            "13/13 [==============================] - 0s 2ms/step - loss: 0.3104 - binary_accuracy: 0.9231\n",
            "Epoch 19/200\n",
            "13/13 [==============================] - 0s 2ms/step - loss: 0.2919 - binary_accuracy: 0.9231\n",
            "Epoch 20/200\n",
            "13/13 [==============================] - 0s 2ms/step - loss: 0.2741 - binary_accuracy: 0.9231\n",
            "Epoch 21/200\n",
            "13/13 [==============================] - 0s 2ms/step - loss: 0.2571 - binary_accuracy: 0.9231\n",
            "Epoch 22/200\n",
            "13/13 [==============================] - 0s 2ms/step - loss: 0.2410 - binary_accuracy: 0.9231\n",
            "Epoch 23/200\n",
            "13/13 [==============================] - 0s 2ms/step - loss: 0.2262 - binary_accuracy: 0.9231\n",
            "Epoch 24/200\n",
            "13/13 [==============================] - 0s 2ms/step - loss: 0.2127 - binary_accuracy: 0.9231\n",
            "Epoch 25/200\n",
            "13/13 [==============================] - 0s 2ms/step - loss: 0.2008 - binary_accuracy: 0.9231\n",
            "Epoch 26/200\n",
            "13/13 [==============================] - 0s 2ms/step - loss: 0.1907 - binary_accuracy: 0.9231\n",
            "Epoch 27/200\n",
            "13/13 [==============================] - 0s 2ms/step - loss: 0.1824 - binary_accuracy: 0.9231\n",
            "Epoch 28/200\n",
            "13/13 [==============================] - 0s 2ms/step - loss: 0.1758 - binary_accuracy: 0.9231\n",
            "Epoch 29/200\n",
            "13/13 [==============================] - 0s 2ms/step - loss: 0.1709 - binary_accuracy: 0.9231\n",
            "Epoch 30/200\n",
            "13/13 [==============================] - 0s 2ms/step - loss: 0.1672 - binary_accuracy: 0.9231\n",
            "Epoch 31/200\n",
            "13/13 [==============================] - 0s 2ms/step - loss: 0.1646 - binary_accuracy: 0.9231\n",
            "Epoch 32/200\n",
            "13/13 [==============================] - 0s 2ms/step - loss: 0.1626 - binary_accuracy: 0.9231\n",
            "Epoch 33/200\n",
            "13/13 [==============================] - 0s 2ms/step - loss: 0.1611 - binary_accuracy: 0.9231\n",
            "Epoch 34/200\n",
            "13/13 [==============================] - 0s 2ms/step - loss: 0.1598 - binary_accuracy: 0.9231\n",
            "Epoch 35/200\n",
            "13/13 [==============================] - 0s 2ms/step - loss: 0.1587 - binary_accuracy: 0.9231\n",
            "Epoch 36/200\n",
            "13/13 [==============================] - 0s 2ms/step - loss: 0.1576 - binary_accuracy: 0.9231\n",
            "Epoch 37/200\n",
            "13/13 [==============================] - 0s 2ms/step - loss: 0.1566 - binary_accuracy: 0.9231\n",
            "Epoch 38/200\n",
            "13/13 [==============================] - 0s 2ms/step - loss: 0.1556 - binary_accuracy: 0.9231\n",
            "Epoch 39/200\n",
            "13/13 [==============================] - 0s 2ms/step - loss: 0.1547 - binary_accuracy: 0.9231\n",
            "Epoch 40/200\n",
            "13/13 [==============================] - 0s 2ms/step - loss: 0.1538 - binary_accuracy: 0.9231\n",
            "Epoch 41/200\n",
            "13/13 [==============================] - 0s 2ms/step - loss: 0.1529 - binary_accuracy: 0.9231\n",
            "Epoch 42/200\n",
            "13/13 [==============================] - 0s 2ms/step - loss: 0.1520 - binary_accuracy: 0.9231\n",
            "Epoch 43/200\n",
            "13/13 [==============================] - 0s 2ms/step - loss: 0.1511 - binary_accuracy: 0.9231\n",
            "Epoch 44/200\n",
            "13/13 [==============================] - 0s 2ms/step - loss: 0.1502 - binary_accuracy: 0.9231\n",
            "Epoch 45/200\n",
            "13/13 [==============================] - 0s 2ms/step - loss: 0.1494 - binary_accuracy: 0.9231\n",
            "Epoch 46/200\n",
            "13/13 [==============================] - 0s 2ms/step - loss: 0.1485 - binary_accuracy: 0.9231\n",
            "Epoch 47/200\n",
            "13/13 [==============================] - 0s 2ms/step - loss: 0.1477 - binary_accuracy: 0.9231\n",
            "Epoch 48/200\n",
            "13/13 [==============================] - 0s 2ms/step - loss: 0.1469 - binary_accuracy: 0.9231\n",
            "Epoch 49/200\n",
            "13/13 [==============================] - 0s 2ms/step - loss: 0.1461 - binary_accuracy: 0.9231\n",
            "Epoch 50/200\n",
            "13/13 [==============================] - 0s 2ms/step - loss: 0.1453 - binary_accuracy: 0.9231\n",
            "Epoch 51/200\n",
            "13/13 [==============================] - 0s 2ms/step - loss: 0.1445 - binary_accuracy: 0.9231\n",
            "Epoch 52/200\n",
            "13/13 [==============================] - 0s 2ms/step - loss: 0.1437 - binary_accuracy: 0.9231\n",
            "Epoch 53/200\n",
            "13/13 [==============================] - 0s 2ms/step - loss: 0.1430 - binary_accuracy: 0.9231\n",
            "Epoch 54/200\n",
            "13/13 [==============================] - 0s 2ms/step - loss: 0.1422 - binary_accuracy: 0.9231\n",
            "Epoch 55/200\n",
            "13/13 [==============================] - 0s 2ms/step - loss: 0.1415 - binary_accuracy: 0.9231\n",
            "Epoch 56/200\n",
            "13/13 [==============================] - 0s 2ms/step - loss: 0.1407 - binary_accuracy: 0.9231\n",
            "Epoch 57/200\n",
            "13/13 [==============================] - 0s 2ms/step - loss: 0.1400 - binary_accuracy: 0.9231\n",
            "Epoch 58/200\n",
            "13/13 [==============================] - 0s 2ms/step - loss: 0.1393 - binary_accuracy: 0.9231\n",
            "Epoch 59/200\n",
            "13/13 [==============================] - 0s 2ms/step - loss: 0.1386 - binary_accuracy: 0.9231\n",
            "Epoch 60/200\n",
            "13/13 [==============================] - 0s 2ms/step - loss: 0.1379 - binary_accuracy: 0.9231\n",
            "Epoch 61/200\n",
            "13/13 [==============================] - 0s 2ms/step - loss: 0.1372 - binary_accuracy: 0.9231\n",
            "Epoch 62/200\n",
            "13/13 [==============================] - 0s 2ms/step - loss: 0.1365 - binary_accuracy: 0.9231\n",
            "Epoch 63/200\n",
            "13/13 [==============================] - 0s 2ms/step - loss: 0.1359 - binary_accuracy: 0.9231\n",
            "Epoch 64/200\n",
            "13/13 [==============================] - 0s 2ms/step - loss: 0.1352 - binary_accuracy: 0.9231\n",
            "Epoch 65/200\n",
            "13/13 [==============================] - 0s 2ms/step - loss: 0.1346 - binary_accuracy: 0.9231\n",
            "Epoch 66/200\n",
            "13/13 [==============================] - 0s 2ms/step - loss: 0.1339 - binary_accuracy: 0.9231\n",
            "Epoch 67/200\n",
            "13/13 [==============================] - 0s 2ms/step - loss: 0.1333 - binary_accuracy: 0.9231\n",
            "Epoch 68/200\n",
            "13/13 [==============================] - 0s 2ms/step - loss: 0.1327 - binary_accuracy: 0.9231\n",
            "Epoch 69/200\n",
            "13/13 [==============================] - 0s 2ms/step - loss: 0.1320 - binary_accuracy: 0.9231\n",
            "Epoch 70/200\n",
            "13/13 [==============================] - 0s 2ms/step - loss: 0.1314 - binary_accuracy: 0.9231\n",
            "Epoch 71/200\n",
            "13/13 [==============================] - 0s 2ms/step - loss: 0.1308 - binary_accuracy: 0.9231\n",
            "Epoch 72/200\n",
            "13/13 [==============================] - 0s 2ms/step - loss: 0.1302 - binary_accuracy: 0.9231\n",
            "Epoch 73/200\n",
            "13/13 [==============================] - 0s 2ms/step - loss: 0.1296 - binary_accuracy: 0.9231\n",
            "Epoch 74/200\n",
            "13/13 [==============================] - 0s 2ms/step - loss: 0.1291 - binary_accuracy: 0.9231\n",
            "Epoch 75/200\n",
            "13/13 [==============================] - 0s 2ms/step - loss: 0.1285 - binary_accuracy: 0.9231\n",
            "Epoch 76/200\n",
            "13/13 [==============================] - 0s 2ms/step - loss: 0.1279 - binary_accuracy: 0.9231\n",
            "Epoch 77/200\n",
            "13/13 [==============================] - 0s 2ms/step - loss: 0.1274 - binary_accuracy: 0.9231\n",
            "Epoch 78/200\n",
            "13/13 [==============================] - 0s 2ms/step - loss: 0.1268 - binary_accuracy: 0.9231\n",
            "Epoch 79/200\n",
            "13/13 [==============================] - 0s 2ms/step - loss: 0.1263 - binary_accuracy: 0.9231\n",
            "Epoch 80/200\n",
            "13/13 [==============================] - 0s 2ms/step - loss: 0.1257 - binary_accuracy: 0.9231\n",
            "Epoch 81/200\n",
            "13/13 [==============================] - 0s 2ms/step - loss: 0.1252 - binary_accuracy: 0.9231\n",
            "Epoch 82/200\n",
            "13/13 [==============================] - 0s 2ms/step - loss: 0.1247 - binary_accuracy: 0.9231\n",
            "Epoch 83/200\n",
            "13/13 [==============================] - 0s 2ms/step - loss: 0.1242 - binary_accuracy: 0.9231\n",
            "Epoch 84/200\n",
            "13/13 [==============================] - 0s 2ms/step - loss: 0.1236 - binary_accuracy: 0.9231\n",
            "Epoch 85/200\n",
            "13/13 [==============================] - 0s 2ms/step - loss: 0.1231 - binary_accuracy: 0.9231\n",
            "Epoch 86/200\n",
            "13/13 [==============================] - 0s 2ms/step - loss: 0.1226 - binary_accuracy: 0.9231\n",
            "Epoch 87/200\n",
            "13/13 [==============================] - 0s 2ms/step - loss: 0.1221 - binary_accuracy: 0.9231\n",
            "Epoch 88/200\n",
            "13/13 [==============================] - 0s 2ms/step - loss: 0.1216 - binary_accuracy: 0.9231\n",
            "Epoch 89/200\n",
            "13/13 [==============================] - 0s 2ms/step - loss: 0.1212 - binary_accuracy: 0.9231\n",
            "Epoch 90/200\n",
            "13/13 [==============================] - 0s 2ms/step - loss: 0.1207 - binary_accuracy: 0.9231\n",
            "Epoch 91/200\n",
            "13/13 [==============================] - 0s 2ms/step - loss: 0.1202 - binary_accuracy: 0.9231\n",
            "Epoch 92/200\n",
            "13/13 [==============================] - 0s 2ms/step - loss: 0.1197 - binary_accuracy: 0.9231\n",
            "Epoch 93/200\n",
            "13/13 [==============================] - 0s 2ms/step - loss: 0.1193 - binary_accuracy: 0.9231\n",
            "Epoch 94/200\n",
            "13/13 [==============================] - 0s 2ms/step - loss: 0.1188 - binary_accuracy: 0.9231\n",
            "Epoch 95/200\n",
            "13/13 [==============================] - 0s 2ms/step - loss: 0.1183 - binary_accuracy: 0.9231\n",
            "Epoch 96/200\n",
            "13/13 [==============================] - 0s 2ms/step - loss: 0.1179 - binary_accuracy: 0.9231\n",
            "Epoch 97/200\n",
            "13/13 [==============================] - 0s 2ms/step - loss: 0.1175 - binary_accuracy: 0.9231\n",
            "Epoch 98/200\n",
            "13/13 [==============================] - 0s 2ms/step - loss: 0.1170 - binary_accuracy: 0.9231\n",
            "Epoch 99/200\n",
            "13/13 [==============================] - 0s 2ms/step - loss: 0.1166 - binary_accuracy: 0.9231\n",
            "Epoch 100/200\n",
            "13/13 [==============================] - 0s 2ms/step - loss: 0.1161 - binary_accuracy: 0.9231\n",
            "Epoch 101/200\n",
            "13/13 [==============================] - 0s 2ms/step - loss: 0.1157 - binary_accuracy: 0.9231\n",
            "Epoch 102/200\n",
            "13/13 [==============================] - 0s 2ms/step - loss: 0.1153 - binary_accuracy: 0.9231\n",
            "Epoch 103/200\n",
            "13/13 [==============================] - 0s 2ms/step - loss: 0.1149 - binary_accuracy: 0.9231\n",
            "Epoch 104/200\n",
            "13/13 [==============================] - 0s 2ms/step - loss: 0.1145 - binary_accuracy: 0.9231\n",
            "Epoch 105/200\n",
            "13/13 [==============================] - 0s 2ms/step - loss: 0.1141 - binary_accuracy: 0.9231\n",
            "Epoch 106/200\n",
            "13/13 [==============================] - 0s 2ms/step - loss: 0.1136 - binary_accuracy: 0.9231\n",
            "Epoch 107/200\n",
            "13/13 [==============================] - 0s 2ms/step - loss: 0.1132 - binary_accuracy: 0.9231\n",
            "Epoch 108/200\n",
            "13/13 [==============================] - 0s 2ms/step - loss: 0.1129 - binary_accuracy: 0.9231\n",
            "Epoch 109/200\n",
            "13/13 [==============================] - 0s 2ms/step - loss: 0.1125 - binary_accuracy: 0.9231\n",
            "Epoch 110/200\n",
            "13/13 [==============================] - 0s 2ms/step - loss: 0.1121 - binary_accuracy: 0.9231\n",
            "Epoch 111/200\n",
            "13/13 [==============================] - 0s 2ms/step - loss: 0.1117 - binary_accuracy: 0.9231\n",
            "Epoch 112/200\n",
            "13/13 [==============================] - 0s 2ms/step - loss: 0.1113 - binary_accuracy: 0.9231\n",
            "Epoch 113/200\n",
            "13/13 [==============================] - 0s 2ms/step - loss: 0.1109 - binary_accuracy: 0.9231\n",
            "Epoch 114/200\n",
            "13/13 [==============================] - 0s 2ms/step - loss: 0.1106 - binary_accuracy: 0.9231\n",
            "Epoch 115/200\n",
            "13/13 [==============================] - 0s 2ms/step - loss: 0.1102 - binary_accuracy: 0.9231\n",
            "Epoch 116/200\n",
            "13/13 [==============================] - 0s 2ms/step - loss: 0.1098 - binary_accuracy: 0.9231\n",
            "Epoch 117/200\n",
            "13/13 [==============================] - 0s 2ms/step - loss: 0.1095 - binary_accuracy: 0.9231\n",
            "Epoch 118/200\n",
            "13/13 [==============================] - 0s 2ms/step - loss: 0.1091 - binary_accuracy: 0.9231\n",
            "Epoch 119/200\n",
            "13/13 [==============================] - 0s 2ms/step - loss: 0.1087 - binary_accuracy: 0.9231\n",
            "Epoch 120/200\n",
            "13/13 [==============================] - 0s 2ms/step - loss: 0.1084 - binary_accuracy: 0.9231\n",
            "Epoch 121/200\n",
            "13/13 [==============================] - 0s 2ms/step - loss: 0.1080 - binary_accuracy: 0.9231\n",
            "Epoch 122/200\n",
            "13/13 [==============================] - 0s 2ms/step - loss: 0.1077 - binary_accuracy: 0.9231\n",
            "Epoch 123/200\n",
            "13/13 [==============================] - 0s 2ms/step - loss: 0.1073 - binary_accuracy: 0.9231\n",
            "Epoch 124/200\n",
            "13/13 [==============================] - 0s 2ms/step - loss: 0.1070 - binary_accuracy: 0.9231\n",
            "Epoch 125/200\n",
            "13/13 [==============================] - 0s 2ms/step - loss: 0.1067 - binary_accuracy: 0.9231\n",
            "Epoch 126/200\n",
            "13/13 [==============================] - 0s 2ms/step - loss: 0.1063 - binary_accuracy: 0.9231\n",
            "Epoch 127/200\n",
            "13/13 [==============================] - 0s 2ms/step - loss: 0.1060 - binary_accuracy: 0.9231\n",
            "Epoch 128/200\n",
            "13/13 [==============================] - 0s 2ms/step - loss: 0.1057 - binary_accuracy: 0.9231\n",
            "Epoch 129/200\n",
            "13/13 [==============================] - 0s 2ms/step - loss: 0.1054 - binary_accuracy: 0.9231\n",
            "Epoch 130/200\n",
            "13/13 [==============================] - 0s 2ms/step - loss: 0.1050 - binary_accuracy: 0.9231\n",
            "Epoch 131/200\n",
            "13/13 [==============================] - 0s 2ms/step - loss: 0.1047 - binary_accuracy: 0.9231\n",
            "Epoch 132/200\n",
            "13/13 [==============================] - 0s 2ms/step - loss: 0.1044 - binary_accuracy: 0.9231\n",
            "Epoch 133/200\n",
            "13/13 [==============================] - 0s 2ms/step - loss: 0.1041 - binary_accuracy: 0.9231\n",
            "Epoch 134/200\n",
            "13/13 [==============================] - 0s 2ms/step - loss: 0.1038 - binary_accuracy: 0.9231\n",
            "Epoch 135/200\n",
            "13/13 [==============================] - 0s 2ms/step - loss: 0.1035 - binary_accuracy: 0.9231\n",
            "Epoch 136/200\n",
            "13/13 [==============================] - 0s 2ms/step - loss: 0.1032 - binary_accuracy: 0.9231\n",
            "Epoch 137/200\n",
            "13/13 [==============================] - 0s 2ms/step - loss: 0.1029 - binary_accuracy: 0.9231\n",
            "Epoch 138/200\n",
            "13/13 [==============================] - 0s 2ms/step - loss: 0.1026 - binary_accuracy: 0.9231\n",
            "Epoch 139/200\n",
            "13/13 [==============================] - 0s 2ms/step - loss: 0.1023 - binary_accuracy: 0.9231\n",
            "Epoch 140/200\n",
            "13/13 [==============================] - 0s 2ms/step - loss: 0.1020 - binary_accuracy: 0.9231\n",
            "Epoch 141/200\n",
            "13/13 [==============================] - 0s 2ms/step - loss: 0.1017 - binary_accuracy: 0.9231\n",
            "Epoch 142/200\n",
            "13/13 [==============================] - 0s 2ms/step - loss: 0.1014 - binary_accuracy: 0.9231\n",
            "Epoch 143/200\n",
            "13/13 [==============================] - 0s 2ms/step - loss: 0.1011 - binary_accuracy: 0.9231\n",
            "Epoch 144/200\n",
            "13/13 [==============================] - 0s 2ms/step - loss: 0.1008 - binary_accuracy: 0.9231\n",
            "Epoch 145/200\n",
            "13/13 [==============================] - 0s 2ms/step - loss: 0.1005 - binary_accuracy: 0.9231\n",
            "Epoch 146/200\n",
            "13/13 [==============================] - 0s 2ms/step - loss: 0.1003 - binary_accuracy: 0.9231\n",
            "Epoch 147/200\n",
            "13/13 [==============================] - 0s 2ms/step - loss: 0.1000 - binary_accuracy: 0.9231\n",
            "Epoch 148/200\n",
            "13/13 [==============================] - 0s 2ms/step - loss: 0.0997 - binary_accuracy: 0.9231\n",
            "Epoch 149/200\n",
            "13/13 [==============================] - 0s 2ms/step - loss: 0.0994 - binary_accuracy: 0.9231\n",
            "Epoch 150/200\n",
            "13/13 [==============================] - 0s 2ms/step - loss: 0.0992 - binary_accuracy: 0.9231\n",
            "Epoch 151/200\n",
            "13/13 [==============================] - 0s 2ms/step - loss: 0.0989 - binary_accuracy: 0.9231\n",
            "Epoch 152/200\n",
            "13/13 [==============================] - 0s 2ms/step - loss: 0.0986 - binary_accuracy: 0.9231\n",
            "Epoch 153/200\n",
            "13/13 [==============================] - 0s 2ms/step - loss: 0.0984 - binary_accuracy: 0.9231\n",
            "Epoch 154/200\n",
            "13/13 [==============================] - 0s 2ms/step - loss: 0.0981 - binary_accuracy: 0.9231\n",
            "Epoch 155/200\n",
            "13/13 [==============================] - 0s 2ms/step - loss: 0.0978 - binary_accuracy: 0.9231\n",
            "Epoch 156/200\n",
            "13/13 [==============================] - 0s 2ms/step - loss: 0.0976 - binary_accuracy: 0.9231\n",
            "Epoch 157/200\n",
            "13/13 [==============================] - 0s 2ms/step - loss: 0.0973 - binary_accuracy: 0.9231\n",
            "Epoch 158/200\n",
            "13/13 [==============================] - 0s 2ms/step - loss: 0.0971 - binary_accuracy: 0.9231\n",
            "Epoch 159/200\n",
            "13/13 [==============================] - 0s 2ms/step - loss: 0.0968 - binary_accuracy: 0.9231\n",
            "Epoch 160/200\n",
            "13/13 [==============================] - 0s 2ms/step - loss: 0.0966 - binary_accuracy: 0.9231\n",
            "Epoch 161/200\n",
            "13/13 [==============================] - 0s 2ms/step - loss: 0.0963 - binary_accuracy: 0.9231\n",
            "Epoch 162/200\n",
            "13/13 [==============================] - 0s 2ms/step - loss: 0.0961 - binary_accuracy: 0.9231\n",
            "Epoch 163/200\n",
            "13/13 [==============================] - 0s 2ms/step - loss: 0.0958 - binary_accuracy: 0.9231\n",
            "Epoch 164/200\n",
            "13/13 [==============================] - 0s 2ms/step - loss: 0.0956 - binary_accuracy: 0.9231\n",
            "Epoch 165/200\n",
            "13/13 [==============================] - 0s 2ms/step - loss: 0.0953 - binary_accuracy: 0.9231\n",
            "Epoch 166/200\n",
            "13/13 [==============================] - 0s 2ms/step - loss: 0.0951 - binary_accuracy: 0.9231\n",
            "Epoch 167/200\n",
            "13/13 [==============================] - 0s 2ms/step - loss: 0.0949 - binary_accuracy: 0.9231\n",
            "Epoch 168/200\n",
            "13/13 [==============================] - 0s 2ms/step - loss: 0.0946 - binary_accuracy: 0.9231\n",
            "Epoch 169/200\n",
            "13/13 [==============================] - 0s 2ms/step - loss: 0.0944 - binary_accuracy: 0.9231\n",
            "Epoch 170/200\n",
            "13/13 [==============================] - 0s 2ms/step - loss: 0.0942 - binary_accuracy: 0.9231\n",
            "Epoch 171/200\n",
            "13/13 [==============================] - 0s 2ms/step - loss: 0.0939 - binary_accuracy: 0.9231\n",
            "Epoch 172/200\n",
            "13/13 [==============================] - 0s 2ms/step - loss: 0.0937 - binary_accuracy: 0.9231\n",
            "Epoch 173/200\n",
            "13/13 [==============================] - 0s 2ms/step - loss: 0.0935 - binary_accuracy: 0.9231\n",
            "Epoch 174/200\n",
            "13/13 [==============================] - 0s 2ms/step - loss: 0.0933 - binary_accuracy: 0.9231\n",
            "Epoch 175/200\n",
            "13/13 [==============================] - 0s 2ms/step - loss: 0.0930 - binary_accuracy: 0.9231\n",
            "Epoch 176/200\n",
            "13/13 [==============================] - 0s 2ms/step - loss: 0.0928 - binary_accuracy: 0.9231\n",
            "Epoch 177/200\n",
            "13/13 [==============================] - 0s 2ms/step - loss: 0.0926 - binary_accuracy: 0.9231\n",
            "Epoch 178/200\n",
            "13/13 [==============================] - 0s 2ms/step - loss: 0.0924 - binary_accuracy: 0.9231\n",
            "Epoch 179/200\n",
            "13/13 [==============================] - 0s 2ms/step - loss: 0.0921 - binary_accuracy: 0.9231\n",
            "Epoch 180/200\n",
            "13/13 [==============================] - 0s 2ms/step - loss: 0.0919 - binary_accuracy: 0.9231\n",
            "Epoch 181/200\n",
            "13/13 [==============================] - 0s 2ms/step - loss: 0.0917 - binary_accuracy: 0.9231\n",
            "Epoch 182/200\n",
            "13/13 [==============================] - 0s 2ms/step - loss: 0.0915 - binary_accuracy: 0.9231\n",
            "Epoch 183/200\n",
            "13/13 [==============================] - 0s 2ms/step - loss: 0.0913 - binary_accuracy: 0.9231\n",
            "Epoch 184/200\n",
            "13/13 [==============================] - 0s 2ms/step - loss: 0.0911 - binary_accuracy: 0.9231\n",
            "Epoch 185/200\n",
            "13/13 [==============================] - 0s 2ms/step - loss: 0.0909 - binary_accuracy: 0.9231\n",
            "Epoch 186/200\n",
            "13/13 [==============================] - 0s 2ms/step - loss: 0.0907 - binary_accuracy: 0.9231\n",
            "Epoch 187/200\n",
            "13/13 [==============================] - 0s 2ms/step - loss: 0.0905 - binary_accuracy: 0.9231\n",
            "Epoch 188/200\n",
            "13/13 [==============================] - 0s 2ms/step - loss: 0.0903 - binary_accuracy: 0.9231\n",
            "Epoch 189/200\n",
            "13/13 [==============================] - 0s 2ms/step - loss: 0.0901 - binary_accuracy: 0.9231\n",
            "Epoch 190/200\n",
            "13/13 [==============================] - 0s 2ms/step - loss: 0.0899 - binary_accuracy: 0.9231\n",
            "Epoch 191/200\n",
            "13/13 [==============================] - 0s 2ms/step - loss: 0.0897 - binary_accuracy: 1.0000\n",
            "Epoch 192/200\n",
            "13/13 [==============================] - 0s 2ms/step - loss: 0.0895 - binary_accuracy: 1.0000\n",
            "Epoch 193/200\n",
            "13/13 [==============================] - 0s 2ms/step - loss: 0.0893 - binary_accuracy: 1.0000\n",
            "Epoch 194/200\n",
            "13/13 [==============================] - 0s 2ms/step - loss: 0.0891 - binary_accuracy: 1.0000\n",
            "Epoch 195/200\n",
            "13/13 [==============================] - 0s 2ms/step - loss: 0.0889 - binary_accuracy: 1.0000\n",
            "Epoch 196/200\n",
            "13/13 [==============================] - 0s 2ms/step - loss: 0.0887 - binary_accuracy: 1.0000\n",
            "Epoch 197/200\n",
            "13/13 [==============================] - 0s 2ms/step - loss: 0.0885 - binary_accuracy: 1.0000\n",
            "Epoch 198/200\n",
            "13/13 [==============================] - 0s 2ms/step - loss: 0.0883 - binary_accuracy: 1.0000\n",
            "Epoch 199/200\n",
            "13/13 [==============================] - 0s 2ms/step - loss: 0.0881 - binary_accuracy: 1.0000\n",
            "Epoch 200/200\n",
            "13/13 [==============================] - 0s 2ms/step - loss: 0.0879 - binary_accuracy: 1.0000\n"
          ],
          "name": "stdout"
        },
        {
          "output_type": "execute_result",
          "data": {
            "text/plain": [
              "<tensorflow.python.keras.callbacks.History at 0x7f0ffc112240>"
            ]
          },
          "metadata": {
            "tags": []
          },
          "execution_count": 29
        }
      ]
    },
    {
      "cell_type": "code",
      "metadata": {
        "id": "5k8qzSmdBgpN",
        "colab_type": "code",
        "colab": {
          "base_uri": "https://localhost:8080/",
          "height": 300
        },
        "outputId": "98d5703d-bc68-44ae-acd3-31a6e2d5fe58"
      },
      "source": [
        "%matplotlib inline\n",
        "import matplotlib.pyplot as plt\n",
        "plt.plot(X, model.predict(X), 'b', X,y, 'k.')"
      ],
      "execution_count": null,
      "outputs": [
        {
          "output_type": "execute_result",
          "data": {
            "text/plain": [
              "[<matplotlib.lines.Line2D at 0x7f0ffb009cc0>,\n",
              " <matplotlib.lines.Line2D at 0x7f0ffb009dd8>]"
            ]
          },
          "metadata": {
            "tags": []
          },
          "execution_count": 30
        },
        {
          "output_type": "display_data",
          "data": {
            "image/png": "[encoded data removed]",
            "text/plain": [
              "<Figure size 432x288 with 1 Axes>"
            ]
          },
          "metadata": {
            "tags": [],
            "needs_background": "light"
          }
        }
      ]
    },
    {
      "cell_type": "code",
      "metadata": {
        "id": "BQvKbR9uBiDP",
        "colab_type": "code",
        "colab": {
          "base_uri": "https://localhost:8080/",
          "height": 194
        },
        "outputId": "8f1fa49e-4bce-40ae-af07-20c62b36cfcc"
      },
      "source": [
        "print(model.predict([1, 2, 3, 4, 4.5]))\n",
        "print(model.predict([11, 21, 31, 41, 500]))"
      ],
      "execution_count": null,
      "outputs": [
        {
          "output_type": "stream",
          "text": [
            "[[0.20940128]\n",
            " [0.26770684]\n",
            " [0.3353605 ]\n",
            " [0.41052654]\n",
            " [0.45000163]]\n",
            "[[0.8692062 ]\n",
            " [0.99403846]\n",
            " [0.99976104]\n",
            " [0.99999046]\n",
            " [1.        ]]\n"
          ],
          "name": "stdout"
        }
      ]
    },
    {
      "cell_type": "markdown",
      "metadata": {
        "id": "IPZ78iD2BpDl",
        "colab_type": "text"
      },
      "source": [
        "# 다중 선형 회귀 구현하기"
      ]
    },
    {
      "cell_type": "markdown",
      "metadata": {
        "id": "RTZd6iNBBves",
        "colab_type": "text"
      },
      "source": [
        "중간 고사, 기말 고사, 그리고 추가 점수를 어떤 공식을 통해 최종 점수를 계산한 데이터가 있고, 그 규칙을 찾고싶다면 이제는 더 이상 독립 변수가 1개가 아닙니다."
      ]
    },
    {
      "cell_type": "code",
      "metadata": {
        "id": "y6KmAu_gBqkm",
        "colab_type": "code",
        "colab": {}
      },
      "source": [
        "import numpy as np\n",
        "from tensorflow.keras.models import Sequential # 케라스의 Sequential()을 임포트\n",
        "from tensorflow.keras.layers import Dense # 케라스의 Dense()를 임포트\n",
        "from tensorflow.keras import optimizers # 케라스의 옵티마이저를 임포트"
      ],
      "execution_count": null,
      "outputs": []
    },
    {
      "cell_type": "code",
      "metadata": {
        "id": "4F5xc7BOBt0d",
        "colab_type": "code",
        "colab": {}
      },
      "source": [
        "X=np.array([[70,85,11],[71,89,18],[50,80,20],[99,20,10],[50,10,10]]) # 중간, 기말, 가산점\n",
        "# 입력 벡터의 차원은 3입니다. 즉, input_dim은 3입니다.\n",
        "y=np.array([73,82,72,57,34]) # 최종 성적\n",
        "# 출력 벡터의 차원은 1입니다. 즉, output_dim은 1입니다."
      ],
      "execution_count": null,
      "outputs": []
    },
    {
      "cell_type": "code",
      "metadata": {
        "id": "I0hgb43EBu4b",
        "colab_type": "code",
        "colab": {
          "base_uri": "https://localhost:8080/"
        },
        "outputId": "ec449ad8-abcf-463e-c163-a6186616201f"
      },
      "source": [
        "\n",
        "'''\n",
        "model=Sequential()\n",
        "model.add(Dense(1, input_dim=3, activation='linear'))\n",
        "sgd=optimizers.SGD(lr=0.00001)\n",
        "# 학습률(learning rate, lr)은 0.00001로 합니다.\n",
        "model.compile(optimizer=sgd ,loss='mse',metrics=['mse'])\n",
        "# sgd는 경사 하강법을 의미.\n",
        "# 손실 함수(Loss function)은 평균제곱오차 mse를 사용합니다.\n",
        "model.fit(X,y, batch_size=1, epochs=2000, shuffle=False)\n",
        "# 주어진 X와 y데이터에 대해서 오차를 최소화하는 작업을 2,000번 시도합니다.\n",
        "'''"
      ],
      "execution_count": null,
      "outputs": [
        {
          "output_type": "execute_result",
          "data": {
            "text/plain": [
              "\"\\nmodel=Sequential()\\nmodel.add(Dense(1, input_dim=3, activation='linear'))\\nsgd=optimizers.SGD(lr=0.00001)\\n# 학습률(learning rate, lr)은 0.00001로 합니다.\\nmodel.compile(optimizer=sgd ,loss='mse',metrics=['mse'])\\n# sgd는 경사 하강법을 의미.\\n# 손실 함수(Loss function)은 평균제곱오차 mse를 사용합니다.\\nmodel.fit(X,y, batch_size=1, epochs=2000, shuffle=False)\\n# 주어진 X와 y데이터에 대해서 오차를 최소화하는 작업을 2,000번 시도합니다.\\n\""
            ]
          },
          "metadata": {
            "tags": []
          },
          "execution_count": 34
        }
      ]
    },
    {
      "cell_type": "markdown",
      "metadata": {
        "id": "xOVfLLqvB_q0",
        "colab_type": "text"
      },
      "source": [
        "# 다중 로지스틱 회귀 구현하기"
      ]
    },
    {
      "cell_type": "code",
      "metadata": {
        "id": "nead3WjNB2T2",
        "colab_type": "code",
        "colab": {}
      },
      "source": [
        "import numpy as np\n",
        "from tensorflow.keras.models import Sequential # 케라스의 Sequential()을 임포트\n",
        "from tensorflow.keras.layers import Dense # 케라스의 Dense()를 임포트\n",
        "from tensorflow.keras import optimizers # 케라스의 옵티마이저를 임포트"
      ],
      "execution_count": null,
      "outputs": []
    },
    {
      "cell_type": "code",
      "metadata": {
        "id": "SXPeQu5vB5tK",
        "colab_type": "code",
        "colab": {}
      },
      "source": [
        "X=np.array([[0, 0], [0, 1], [1, 0], [1, 1]])\n",
        "# 입력 벡터의 차원은 2입니다. 즉, input_dim은 2입니다.\n",
        "y=np.array([0, 1, 1, 1])\n",
        "# 출력 벡터의 차원은 1입니다. 즉, output_dim은 1입니다."
      ],
      "execution_count": null,
      "outputs": []
    },
    {
      "cell_type": "code",
      "metadata": {
        "id": "DbmKSUssB7qR",
        "colab_type": "code",
        "colab": {
          "base_uri": "https://localhost:8080/",
          "height": 54
        },
        "outputId": "caef5d24-d4c6-49a7-bb44-e5efbbc62ccb"
      },
      "source": [
        "'''\n",
        "model=Sequential()\n",
        "model.add(Dense(1, input_dim=2, activation='sigmoid')) # 이제 입력의 차원은 2입니다.\n",
        "model.compile(optimizer='sgd' ,loss='binary_crossentropy',metrics=['binary_accuracy'])\n",
        "# sgd는 경사 하강법을 의미.\n",
        "# 손실 함수(Loss function)는 binary_crossentropy(이진 크로스 엔트로피)를 사용합니다.\n",
        "model.fit(X,y, batch_size=1, epochs=800, shuffle=False)\n",
        "# 주어진 X와 y데이터에 대해서 오차를 최소화하는 작업을 800번 시도합니다.\n",
        "'''"
      ],
      "execution_count": null,
      "outputs": [
        {
          "output_type": "execute_result",
          "data": {
            "text/plain": [
              "\"\\nmodel=Sequential()\\nmodel.add(Dense(1, input_dim=2, activation='sigmoid')) # 이제 입력의 차원은 2입니다.\\nmodel.compile(optimizer='sgd' ,loss='binary_crossentropy',metrics=['binary_accuracy'])\\n# sgd는 경사 하강법을 의미.\\n# 손실 함수(Loss function)는 binary_crossentropy(이진 크로스 엔트로피)를 사용합니다.\\nmodel.fit(X,y, batch_size=1, epochs=800, shuffle=False)\\n# 주어진 X와 y데이터에 대해서 오차를 최소화하는 작업을 800번 시도합니다.\\n\""
            ]
          },
          "metadata": {
            "tags": []
          },
          "execution_count": 37
        }
      ]
    },
    {
      "cell_type": "markdown",
      "metadata": {
        "id": "ewfoQrKdCIQa",
        "colab_type": "text"
      },
      "source": [
        "# 소프트맥스 회귀 구현하기"
      ]
    },
    {
      "cell_type": "code",
      "metadata": {
        "id": "DnHvujL0CS33",
        "colab_type": "code",
        "colab": {}
      },
      "source": [
        "import tensorflow as tf\n",
        "import numpy as np\n",
        "from tensorflow.keras.models import Sequential # 케라스의 Sequential()을 임포트\n",
        "from tensorflow.keras.layers import Dense, Flatten # 케라스의 Dense(), Flatten()를 임포트\n",
        "from tensorflow.keras import optimizers # 케라스의 옵티마이저를 임포트"
      ],
      "execution_count": null,
      "outputs": []
    },
    {
      "cell_type": "code",
      "metadata": {
        "id": "CqyGHAE3Cd2G",
        "colab_type": "code",
        "colab": {
          "base_uri": "https://localhost:8080/",
          "height": 52
        },
        "outputId": "034af493-100a-4ed8-87df-0d96975352c3"
      },
      "source": [
        "mnist = tf.keras.datasets.mnist\n",
        "\n",
        "(x_train, y_train), (x_test, y_test) = mnist.load_data()\n",
        "x_train, x_test = x_train / 255.0, x_test / 255.0"
      ],
      "execution_count": null,
      "outputs": [
        {
          "output_type": "stream",
          "text": [
            "Downloading data from https://storage.googleapis.com/tensorflow/tf-keras-datasets/mnist.npz\n",
            "11493376/11490434 [==============================] - 0s 0us/step\n"
          ],
          "name": "stdout"
        }
      ]
    },
    {
      "cell_type": "code",
      "metadata": {
        "id": "MRpskDDFCfnW",
        "colab_type": "code",
        "colab": {}
      },
      "source": [
        "model = Sequential([\n",
        "  Flatten(input_shape=(28, 28)),\n",
        "  Dense(128, activation='relu'),\n",
        "  Dropout(0.2),\n",
        "  Dense(10, activation='softmax')\n",
        "])\n",
        "\n",
        "model.compile(optimizer='adam',\n",
        "              loss='sparse_categorical_crossentropy',\n",
        "              metrics=['accuracy'])"
      ],
      "execution_count": null,
      "outputs": []
    },
    {
      "cell_type": "code",
      "metadata": {
        "id": "u5F-xbK_E9CM",
        "colab_type": "code",
        "colab": {
          "base_uri": "https://localhost:8080/",
          "height": 230
        },
        "outputId": "9324785a-fc59-43d6-d770-a70e4eb9e322"
      },
      "source": [
        "model.fit(x_train, y_train, epochs=5)\n",
        "\n",
        "model.evaluate(x_test,  y_test, verbose=2)"
      ],
      "execution_count": null,
      "outputs": [
        {
          "output_type": "stream",
          "text": [
            "Epoch 1/5\n",
            "1875/1875 [==============================] - 4s 2ms/step - loss: 0.3019 - accuracy: 0.9121\n",
            "Epoch 2/5\n",
            "1875/1875 [==============================] - 4s 2ms/step - loss: 0.1466 - accuracy: 0.9571\n",
            "Epoch 3/5\n",
            "1875/1875 [==============================] - 4s 2ms/step - loss: 0.1089 - accuracy: 0.9666\n",
            "Epoch 4/5\n",
            "1875/1875 [==============================] - 4s 2ms/step - loss: 0.0890 - accuracy: 0.9722\n",
            "Epoch 5/5\n",
            "1875/1875 [==============================] - 4s 2ms/step - loss: 0.0751 - accuracy: 0.9768\n",
            "313/313 - 1s - loss: 0.0780 - accuracy: 0.9758\n"
          ],
          "name": "stdout"
        },
        {
          "output_type": "execute_result",
          "data": {
            "text/plain": [
              "[0.07796133309602737, 0.9757999777793884]"
            ]
          },
          "metadata": {
            "tags": []
          },
          "execution_count": 66
        }
      ]
    },
    {
      "cell_type": "markdown",
      "metadata": {
        "id": "7SbQah4u_bKx",
        "colab_type": "text"
      },
      "source": [
        "# 다층 퍼셉트론으로 20개의 뉴스 분류하기"
      ]
    },
    {
      "cell_type": "code",
      "metadata": {
        "id": "yRy-YUaa_ei0",
        "colab_type": "code",
        "colab": {}
      },
      "source": [
        "import pandas as pd\n",
        "from sklearn.datasets import fetch_20newsgroups\n",
        "%matplotlib inline\n",
        "import matplotlib.pyplot as plt\n",
        "from tensorflow.keras.preprocessing.text import Tokenizer\n",
        "from tensorflow.keras.utils import to_categorical"
      ],
      "execution_count": null,
      "outputs": []
    },
    {
      "cell_type": "markdown",
      "metadata": {
        "id": "09c6MYJd_hcr",
        "colab_type": "text"
      },
      "source": [
        "사이킷런에서는 20개의 다른 주제를 가진 18,846개의 뉴스 그룹 이메일 데이터를 제공합니다."
      ]
    },
    {
      "cell_type": "code",
      "metadata": {
        "id": "lP9xAhZP_iAV",
        "colab_type": "code",
        "colab": {
          "base_uri": "https://localhost:8080/",
          "height": 52
        },
        "outputId": "e6f219f9-7970-48da-d4e5-894765870320"
      },
      "source": [
        "newsdata = fetch_20newsgroups(subset = 'train') # 'train'을 기재하면 훈련 데이터만 리턴한다."
      ],
      "execution_count": null,
      "outputs": [
        {
          "output_type": "stream",
          "text": [
            "Downloading 20news dataset. This may take a few minutes.\n",
            "Downloading dataset from https://ndownloader.figshare.com/files/5975967 (14 MB)\n"
          ],
          "name": "stderr"
        }
      ]
    },
    {
      "cell_type": "markdown",
      "metadata": {
        "id": "sju7AlXU_j_x",
        "colab_type": "text"
      },
      "source": [
        "위의 subset의 값으로 'all'을 넣으면 전체 데이터인 18,846개의 샘플을 다운로드할 수 있으며, 'train'을 넣으면 훈련 데이터를, 'test'를 넣으면 테스트 데이터를 다운로드할 수 있습니다. newsdata.keys()를 출력하면 해당 데이터의 속성을 확인할 수 있습니다."
      ]
    },
    {
      "cell_type": "code",
      "metadata": {
        "id": "Ysyh4pCg_k48",
        "colab_type": "code",
        "colab": {
          "base_uri": "https://localhost:8080/",
          "height": 34
        },
        "outputId": "d6f90984-9696-4a63-db3b-deacc2a6fb30"
      },
      "source": [
        "print(newsdata.keys())"
      ],
      "execution_count": null,
      "outputs": [
        {
          "output_type": "stream",
          "text": [
            "dict_keys(['data', 'filenames', 'target_names', 'target', 'DESCR'])\n"
          ],
          "name": "stdout"
        }
      ]
    },
    {
      "cell_type": "markdown",
      "metadata": {
        "id": "I8Mr61SS_r4h",
        "colab_type": "text"
      },
      "source": [
        "해당 데이터는 data, filenames, target_names, target, DESCR, description이라는 6개 속성을 갖고 있습니다. 이 중 실제로 훈련에 사용할 속성은 이메일 본문인 data와 메일이 어떤 주제인지 기재된 숫자 레이블인 target입니다. 우선 훈련용 샘플의 개수를 보겠습니다."
      ]
    },
    {
      "cell_type": "code",
      "metadata": {
        "id": "svpaeHsT_sTl",
        "colab_type": "code",
        "colab": {
          "base_uri": "https://localhost:8080/",
          "height": 34
        },
        "outputId": "97872e71-9f61-4400-8d97-776a25930dad"
      },
      "source": [
        "print('훈련용 샘플의 개수 : {}'.format(len(newsdata.data)))\n"
      ],
      "execution_count": null,
      "outputs": [
        {
          "output_type": "stream",
          "text": [
            "훈련용 샘플의 개수 : 11314\n"
          ],
          "name": "stdout"
        }
      ]
    },
    {
      "cell_type": "markdown",
      "metadata": {
        "id": "j2WB8hrG_u6s",
        "colab_type": "text"
      },
      "source": [
        "훈련 샘플은 11,314개가 존재합니다. target_names에는 20개의 주제의 이름을 담고있습니다. 어떤 주제가 있는지 확인해보겠습니다."
      ]
    },
    {
      "cell_type": "code",
      "metadata": {
        "id": "odY-n84K_tBd",
        "colab_type": "code",
        "colab": {
          "base_uri": "https://localhost:8080/",
          "height": 72
        },
        "outputId": "cdb906bf-6d6d-4b00-99da-c297af92b239"
      },
      "source": [
        "print('총 주제의 개수 : {}'.format(len(newsdata.target_names)))\n",
        "print(newsdata.target_names)"
      ],
      "execution_count": null,
      "outputs": [
        {
          "output_type": "stream",
          "text": [
            "총 주제의 개수 : 20\n",
            "['alt.atheism', 'comp.graphics', 'comp.os.ms-windows.misc', 'comp.sys.ibm.pc.hardware', 'comp.sys.mac.hardware', 'comp.windows.x', 'misc.forsale', 'rec.autos', 'rec.motorcycles', 'rec.sport.baseball', 'rec.sport.hockey', 'sci.crypt', 'sci.electronics', 'sci.med', 'sci.space', 'soc.religion.christian', 'talk.politics.guns', 'talk.politics.mideast', 'talk.politics.misc', 'talk.religion.misc']\n"
          ],
          "name": "stdout"
        }
      ]
    },
    {
      "cell_type": "markdown",
      "metadata": {
        "id": "hs4dWwb__w1j",
        "colab_type": "text"
      },
      "source": [
        "이번 챕터 실습의 목적은 테스트 데이터에서 이메일 본문을 보고 20개의 주제 중 어떤 주제인지를 맞추는 것입니다. 레이블인 target에는 총 0부터 19까지의 숫자가 들어가있는데 첫번째 샘플의 경우에는 몇 번 주제인지 확인해보겠습니다."
      ]
    },
    {
      "cell_type": "code",
      "metadata": {
        "id": "VnxPyBY5_wat",
        "colab_type": "code",
        "colab": {
          "base_uri": "https://localhost:8080/",
          "height": 34
        },
        "outputId": "b3bff38b-3b15-48fc-acc2-e13b6641591d"
      },
      "source": [
        "print('첫번째 샘플의 레이블 : {}'.format(newsdata.target[0]))"
      ],
      "execution_count": null,
      "outputs": [
        {
          "output_type": "stream",
          "text": [
            "첫번째 샘플의 레이블 : 7\n"
          ],
          "name": "stdout"
        }
      ]
    },
    {
      "cell_type": "code",
      "metadata": {
        "id": "br6HhWT5_yQl",
        "colab_type": "code",
        "colab": {
          "base_uri": "https://localhost:8080/",
          "height": 34
        },
        "outputId": "ada9a5f4-9480-470d-f00f-f5e51d135973"
      },
      "source": [
        "print('7번 레이블이 의미하는 주제 : {}'.format(newsdata.target_names[7]))\n"
      ],
      "execution_count": null,
      "outputs": [
        {
          "output_type": "stream",
          "text": [
            "7번 레이블이 의미하는 주제 : rec.autos\n"
          ],
          "name": "stdout"
        }
      ]
    },
    {
      "cell_type": "code",
      "metadata": {
        "id": "KcgW0oHg_1M1",
        "colab_type": "code",
        "colab": {
          "base_uri": "https://localhost:8080/",
          "height": 407
        },
        "outputId": "ea8d0b82-7016-4b14-f4d2-141f6de080db"
      },
      "source": [
        "print(newsdata.data[0]) # 첫번째 샘플 출력"
      ],
      "execution_count": null,
      "outputs": [
        {
          "output_type": "stream",
          "text": [
            "From: lerxst@wam.umd.edu (where's my thing)\n",
            "Subject: WHAT car is this!?\n",
            "Nntp-Posting-Host: rac3.wam.umd.edu\n",
            "Organization: University of Maryland, College Park\n",
            "Lines: 15\n",
            "\n",
            " I was wondering if anyone out there could enlighten me on this car I saw\n",
            "the other day. It was a 2-door sports car, looked to be from the late 60s/\n",
            "early 70s. It was called a Bricklin. The doors were really small. In addition,\n",
            "the front bumper was separate from the rest of the body. This is \n",
            "all I know. If anyone can tellme a model name, engine specs, years\n",
            "of production, where this car is made, history, or whatever info you\n",
            "have on this funky looking car, please e-mail.\n",
            "\n",
            "Thanks,\n",
            "- IL\n",
            "   ---- brought to you by your neighborhood Lerxst ----\n",
            "\n",
            "\n",
            "\n",
            "\n",
            "\n"
          ],
          "name": "stdout"
        }
      ]
    },
    {
      "cell_type": "code",
      "metadata": {
        "id": "orMWgpuM_2M1",
        "colab_type": "code",
        "colab": {
          "base_uri": "https://localhost:8080/",
          "height": 197
        },
        "outputId": "98ae9a2a-4366-40a8-a23c-3597511857b6"
      },
      "source": [
        "data = pd.DataFrame(newsdata.data, columns = ['email']) # data로부터 데이터프레임 생성\n",
        "data['target'] = pd.Series(newsdata.target) # target 열 추가\n",
        "data[:5] # 상위 5개 행을 출력"
      ],
      "execution_count": null,
      "outputs": [
        {
          "output_type": "execute_result",
          "data": {
            "text/html": [
              "<div>\n",
              "<style scoped>\n",
              "    .dataframe tbody tr th:only-of-type {\n",
              "        vertical-align: middle;\n",
              "    }\n",
              "\n",
              "    .dataframe tbody tr th {\n",
              "        vertical-align: top;\n",
              "    }\n",
              "\n",
              "    .dataframe thead th {\n",
              "        text-align: right;\n",
              "    }\n",
              "</style>\n",
              "<table border=\"1\" class=\"dataframe\">\n",
              "  <thead>\n",
              "    <tr style=\"text-align: right;\">\n",
              "      <th></th>\n",
              "      <th>email</th>\n",
              "      <th>target</th>\n",
              "    </tr>\n",
              "  </thead>\n",
              "  <tbody>\n",
              "    <tr>\n",
              "      <th>0</th>\n",
              "      <td>From: lerxst@wam.umd.edu (where's my thing)\\nS...</td>\n",
              "      <td>7</td>\n",
              "    </tr>\n",
              "    <tr>\n",
              "      <th>1</th>\n",
              "      <td>From: guykuo@carson.u.washington.edu (Guy Kuo)...</td>\n",
              "      <td>4</td>\n",
              "    </tr>\n",
              "    <tr>\n",
              "      <th>2</th>\n",
              "      <td>From: twillis@ec.ecn.purdue.edu (Thomas E Will...</td>\n",
              "      <td>4</td>\n",
              "    </tr>\n",
              "    <tr>\n",
              "      <th>3</th>\n",
              "      <td>From: jgreen@amber (Joe Green)\\nSubject: Re: W...</td>\n",
              "      <td>1</td>\n",
              "    </tr>\n",
              "    <tr>\n",
              "      <th>4</th>\n",
              "      <td>From: jcm@head-cfa.harvard.edu (Jonathan McDow...</td>\n",
              "      <td>14</td>\n",
              "    </tr>\n",
              "  </tbody>\n",
              "</table>\n",
              "</div>"
            ],
            "text/plain": [
              "                                               email  target\n",
              "0  From: lerxst@wam.umd.edu (where's my thing)\\nS...       7\n",
              "1  From: guykuo@carson.u.washington.edu (Guy Kuo)...       4\n",
              "2  From: twillis@ec.ecn.purdue.edu (Thomas E Will...       4\n",
              "3  From: jgreen@amber (Joe Green)\\nSubject: Re: W...       1\n",
              "4  From: jcm@head-cfa.harvard.edu (Jonathan McDow...      14"
            ]
          },
          "metadata": {
            "tags": []
          },
          "execution_count": 46
        }
      ]
    },
    {
      "cell_type": "code",
      "metadata": {
        "id": "FWIB0kuE_3IN",
        "colab_type": "code",
        "colab": {
          "base_uri": "https://localhost:8080/",
          "height": 176
        },
        "outputId": "a3b787ba-e89a-48a8-8983-6a1b855646df"
      },
      "source": [
        "data.info()"
      ],
      "execution_count": null,
      "outputs": [
        {
          "output_type": "stream",
          "text": [
            "<class 'pandas.core.frame.DataFrame'>\n",
            "RangeIndex: 11314 entries, 0 to 11313\n",
            "Data columns (total 2 columns):\n",
            " #   Column  Non-Null Count  Dtype \n",
            "---  ------  --------------  ----- \n",
            " 0   email   11314 non-null  object\n",
            " 1   target  11314 non-null  int64 \n",
            "dtypes: int64(1), object(1)\n",
            "memory usage: 176.9+ KB\n"
          ],
          "name": "stdout"
        }
      ]
    },
    {
      "cell_type": "code",
      "metadata": {
        "id": "odIgdJCL_37M",
        "colab_type": "code",
        "colab": {
          "base_uri": "https://localhost:8080/",
          "height": 34
        },
        "outputId": "762d22aa-3dba-465c-efd3-d8913f544e5b"
      },
      "source": [
        "data.isnull().values.any()"
      ],
      "execution_count": null,
      "outputs": [
        {
          "output_type": "execute_result",
          "data": {
            "text/plain": [
              "False"
            ]
          },
          "metadata": {
            "tags": []
          },
          "execution_count": 48
        }
      ]
    },
    {
      "cell_type": "code",
      "metadata": {
        "id": "C8MnmsTk_4vM",
        "colab_type": "code",
        "colab": {
          "base_uri": "https://localhost:8080/",
          "height": 52
        },
        "outputId": "4a3225b9-8d1d-4caa-d7bc-7f583dc600d3"
      },
      "source": [
        "print('중복을 제외한 샘플의 수 : {}'.format(data['email'].nunique()))\n",
        "print('중복을 제외한 주제의 수 : {}'.format(data['target'].nunique()))"
      ],
      "execution_count": null,
      "outputs": [
        {
          "output_type": "stream",
          "text": [
            "중복을 제외한 샘플의 수 : 11314\n",
            "중복을 제외한 주제의 수 : 20\n"
          ],
          "name": "stdout"
        }
      ]
    },
    {
      "cell_type": "code",
      "metadata": {
        "id": "0WTpdu7e_5ec",
        "colab_type": "code",
        "colab": {
          "base_uri": "https://localhost:8080/",
          "height": 267
        },
        "outputId": "22fd5213-9ded-4381-c31f-f3ba17fdb63b"
      },
      "source": [
        "data['target'].value_counts().plot(kind='bar');"
      ],
      "execution_count": null,
      "outputs": [
        {
          "output_type": "display_data",
          "data": {
            "image/png": "[encoded data removed]",
            "text/plain": [
              "<Figure size 432x288 with 1 Axes>"
            ]
          },
          "metadata": {
            "tags": [],
            "needs_background": "light"
          }
        }
      ]
    },
    {
      "cell_type": "code",
      "metadata": {
        "id": "LVpruQmD_6WN",
        "colab_type": "code",
        "colab": {
          "base_uri": "https://localhost:8080/",
          "height": 390
        },
        "outputId": "e0402273-756a-4293-95d9-f1f68ede374e"
      },
      "source": [
        "print(data.groupby('target').size().reset_index(name='count'))"
      ],
      "execution_count": null,
      "outputs": [
        {
          "output_type": "stream",
          "text": [
            "    target  count\n",
            "0        0    480\n",
            "1        1    584\n",
            "2        2    591\n",
            "3        3    590\n",
            "4        4    578\n",
            "5        5    593\n",
            "6        6    585\n",
            "7        7    594\n",
            "8        8    598\n",
            "9        9    597\n",
            "10      10    600\n",
            "11      11    595\n",
            "12      12    591\n",
            "13      13    594\n",
            "14      14    593\n",
            "15      15    599\n",
            "16      16    546\n",
            "17      17    564\n",
            "18      18    465\n",
            "19      19    377\n"
          ],
          "name": "stdout"
        }
      ]
    },
    {
      "cell_type": "code",
      "metadata": {
        "id": "JvNMFSTw_7I0",
        "colab_type": "code",
        "colab": {}
      },
      "source": [
        "newsdata_test = fetch_20newsgroups(subset='test', shuffle=True) # 'test'를 기재하면 테스트 데이터만 리턴한다.\n",
        "train_email = data['email'] # 훈련 데이터의 본문 저장\n",
        "train_label = data['target'] # 훈련 데이터의 레이블 저장\n",
        "test_email = newsdata_test.data # 테스트 데이터의 본문 저장\n",
        "test_label = newsdata_test.target # 테스트 데이터의 레이블 저장"
      ],
      "execution_count": null,
      "outputs": []
    },
    {
      "cell_type": "code",
      "metadata": {
        "id": "tQUlukql_8AU",
        "colab_type": "code",
        "colab": {}
      },
      "source": [
        "max_words = 10000 # 실습에 사용할 단어의 최대 개수\n",
        "num_classes = 20 # 레이블의 수"
      ],
      "execution_count": null,
      "outputs": []
    },
    {
      "cell_type": "code",
      "metadata": {
        "id": "auzMtd0u_8tV",
        "colab_type": "code",
        "colab": {}
      },
      "source": [
        "def prepare_data(train_data, test_data, mode): # 전처리 함수\n",
        "    t = Tokenizer(num_words = max_words) # max_words 개수만큼의 단어만 사용한다.\n",
        "    t.fit_on_texts(train_data)\n",
        "    X_train = t.texts_to_matrix(train_data, mode=mode) # 샘플 수 × max_words 크기의 행렬 생성\n",
        "    X_test = t.texts_to_matrix(test_data, mode=mode) # 샘플 수 × max_words 크기의 행렬 생성\n",
        "    return X_train, X_test, t.index_word"
      ],
      "execution_count": null,
      "outputs": []
    },
    {
      "cell_type": "code",
      "metadata": {
        "id": "piiW0JVM_9a0",
        "colab_type": "code",
        "colab": {}
      },
      "source": [
        "X_train, X_test, index_to_word = prepare_data(train_email, test_email, 'binary') # binary 모드로 변환\n",
        "y_train = to_categorical(train_label, num_classes) # 원-핫 인코딩\n",
        "y_test = to_categorical(test_label, num_classes) # 원-핫 인코딩"
      ],
      "execution_count": null,
      "outputs": []
    },
    {
      "cell_type": "code",
      "metadata": {
        "id": "QjfZTAgq_-fk",
        "colab_type": "code",
        "colab": {
          "base_uri": "https://localhost:8080/",
          "height": 87
        },
        "outputId": "ee378769-afaa-4b25-aff2-7cdccfb793ed"
      },
      "source": [
        "print('훈련 샘플 본문의 크기 : {}'.format(X_train.shape))\n",
        "print('훈련 샘플 레이블의 크기 : {}'.format(y_train.shape))\n",
        "print('테스트 샘플 본문의 크기 : {}'.format(X_test.shape))\n",
        "print('테스트 샘플 레이블의 크기 : {}'.format(y_test.shape))"
      ],
      "execution_count": null,
      "outputs": [
        {
          "output_type": "stream",
          "text": [
            "훈련 샘플 본문의 크기 : (11314, 10000)\n",
            "훈련 샘플 레이블의 크기 : (11314, 20)\n",
            "테스트 샘플 본문의 크기 : (7532, 10000)\n",
            "테스트 샘플 레이블의 크기 : (7532, 20)\n"
          ],
          "name": "stdout"
        }
      ]
    },
    {
      "cell_type": "code",
      "metadata": {
        "id": "ylqiP846__cU",
        "colab_type": "code",
        "colab": {
          "base_uri": "https://localhost:8080/",
          "height": 52
        },
        "outputId": "ab15d803-d498-48f6-9962-1ea600e822e1"
      },
      "source": [
        "print('빈도수 상위 1번 단어 : {}'.format(index_to_word[1]))\n",
        "print('빈도수 상위 9999번 단어 : {}'.format(index_to_word[9999]))"
      ],
      "execution_count": null,
      "outputs": [
        {
          "output_type": "stream",
          "text": [
            "빈도수 상위 1번 단어 : the\n",
            "빈도수 상위 9999번 단어 : mic\n"
          ],
          "name": "stdout"
        }
      ]
    },
    {
      "cell_type": "code",
      "metadata": {
        "id": "iMgQGHNtAAOE",
        "colab_type": "code",
        "colab": {}
      },
      "source": [
        "from tensorflow.keras.models import Sequential\n",
        "from tensorflow.keras.layers import Dense, Dropout"
      ],
      "execution_count": null,
      "outputs": []
    },
    {
      "cell_type": "code",
      "metadata": {
        "id": "yfqotVlaABTc",
        "colab_type": "code",
        "colab": {}
      },
      "source": [
        "def fit_and_evaluate(X_train, y_train, X_test, y_test):\n",
        "    model = Sequential()\n",
        "    model.add(Dense(256, input_shape=(max_words,), activation='relu'))\n",
        "    model.add(Dropout(0.5))\n",
        "    model.add(Dense(128, activation='relu'))\n",
        "    model.add(Dropout(0.5))\n",
        "    model.add(Dense(num_classes, activation='softmax'))\n",
        "\n",
        "    model.compile(loss='categorical_crossentropy', optimizer='adam', metrics=['accuracy'])\n",
        "    model.fit(X_train, y_train, batch_size=128, epochs=5, verbose=1, validation_split=0.1)\n",
        "    score = model.evaluate(X_test, y_test, batch_size=128, verbose=0)\n",
        "    return score[1]"
      ],
      "execution_count": null,
      "outputs": []
    },
    {
      "cell_type": "code",
      "metadata": {
        "id": "4hKd26WCACA1",
        "colab_type": "code",
        "colab": {
          "base_uri": "https://localhost:8080/",
          "height": 798
        },
        "outputId": "5a584f5f-3ca2-4006-a62f-74dbc601b44b"
      },
      "source": [
        "modes = ['binary', 'count', 'tfidf', 'freq'] # 4개의 모드를 리스트에 저장.\n",
        "\n",
        "for mode in modes: # 4개의 모드에 대해서 각각 아래의 작업을 반복한다.\n",
        "    X_train, X_test, _ = prepare_data(train_email, test_email, mode) # 모드에 따라서 데이터를 전처리\n",
        "    score = fit_and_evaluate(X_train, y_train, X_test, y_test) # 모델을 훈련하고 평가.\n",
        "    print(mode+' 모드의 테스트 정확도:', score)"
      ],
      "execution_count": null,
      "outputs": [
        {
          "output_type": "stream",
          "text": [
            "Epoch 1/5\n",
            "80/80 [==============================] - 1s 14ms/step - loss: 2.3028 - accuracy: 0.3381 - val_loss: 0.9875 - val_accuracy: 0.8348\n",
            "Epoch 2/5\n",
            "80/80 [==============================] - 1s 7ms/step - loss: 0.8687 - accuracy: 0.7612 - val_loss: 0.4757 - val_accuracy: 0.8772\n",
            "Epoch 3/5\n",
            "80/80 [==============================] - 1s 6ms/step - loss: 0.4369 - accuracy: 0.8840 - val_loss: 0.3406 - val_accuracy: 0.9108\n",
            "Epoch 4/5\n",
            "80/80 [==============================] - 1s 7ms/step - loss: 0.2592 - accuracy: 0.9350 - val_loss: 0.3160 - val_accuracy: 0.9152\n",
            "Epoch 5/5\n",
            "80/80 [==============================] - 1s 6ms/step - loss: 0.1853 - accuracy: 0.9557 - val_loss: 0.3072 - val_accuracy: 0.9099\n",
            "binary 모드의 테스트 정확도: 0.8266064524650574\n",
            "Epoch 1/5\n",
            "80/80 [==============================] - 1s 9ms/step - loss: 2.7914 - accuracy: 0.2474 - val_loss: 1.6552 - val_accuracy: 0.7323\n",
            "Epoch 2/5\n",
            "80/80 [==============================] - 1s 7ms/step - loss: 1.5090 - accuracy: 0.6208 - val_loss: 0.7008 - val_accuracy: 0.8498\n",
            "Epoch 3/5\n",
            "80/80 [==============================] - 1s 7ms/step - loss: 0.7983 - accuracy: 0.7967 - val_loss: 0.5172 - val_accuracy: 0.8781\n",
            "Epoch 4/5\n",
            "80/80 [==============================] - 1s 7ms/step - loss: 0.5545 - accuracy: 0.8729 - val_loss: 0.4377 - val_accuracy: 0.8869\n",
            "Epoch 5/5\n",
            "80/80 [==============================] - 1s 7ms/step - loss: 0.3685 - accuracy: 0.9099 - val_loss: 0.4089 - val_accuracy: 0.9002\n",
            "count 모드의 테스트 정확도: 0.8231545686721802\n",
            "Epoch 1/5\n",
            "80/80 [==============================] - 1s 8ms/step - loss: 2.2821 - accuracy: 0.3490 - val_loss: 0.8281 - val_accuracy: 0.8251\n",
            "Epoch 2/5\n",
            "80/80 [==============================] - 1s 6ms/step - loss: 0.8724 - accuracy: 0.7606 - val_loss: 0.4360 - val_accuracy: 0.8852\n",
            "Epoch 3/5\n",
            "80/80 [==============================] - 1s 6ms/step - loss: 0.4543 - accuracy: 0.8834 - val_loss: 0.3352 - val_accuracy: 0.9170\n",
            "Epoch 4/5\n",
            "80/80 [==============================] - 1s 6ms/step - loss: 0.2937 - accuracy: 0.9208 - val_loss: 0.3133 - val_accuracy: 0.9170\n",
            "Epoch 5/5\n",
            "80/80 [==============================] - 1s 6ms/step - loss: 0.2235 - accuracy: 0.9482 - val_loss: 0.3082 - val_accuracy: 0.9214\n",
            "tfidf 모드의 테스트 정확도: 0.8299256563186646\n",
            "Epoch 1/5\n",
            "80/80 [==============================] - 1s 8ms/step - loss: 2.9774 - accuracy: 0.0817 - val_loss: 2.9279 - val_accuracy: 0.1979\n",
            "Epoch 2/5\n",
            "80/80 [==============================] - 1s 6ms/step - loss: 2.7257 - accuracy: 0.2030 - val_loss: 2.4177 - val_accuracy: 0.3375\n",
            "Epoch 3/5\n",
            "80/80 [==============================] - 1s 6ms/step - loss: 2.2235 - accuracy: 0.3175 - val_loss: 1.9183 - val_accuracy: 0.5707\n",
            "Epoch 4/5\n",
            "80/80 [==============================] - 1s 6ms/step - loss: 1.7766 - accuracy: 0.4633 - val_loss: 1.4974 - val_accuracy: 0.6678\n",
            "Epoch 5/5\n",
            "80/80 [==============================] - 0s 6ms/step - loss: 1.4017 - accuracy: 0.5830 - val_loss: 1.1749 - val_accuracy: 0.7217\n",
            "freq 모드의 테스트 정확도: 0.6687467098236084\n"
          ],
          "name": "stdout"
        }
      ]
    },
    {
      "cell_type": "markdown",
      "metadata": {
        "id": "8Lz4ZCD_EdwH",
        "colab_type": "text"
      },
      "source": [
        "# 다층 퍼셉트론으로 네이버 영화 리뷰 분류하기"
      ]
    },
    {
      "cell_type": "markdown",
      "metadata": {
        "id": "4-IeRwF3KoKz",
        "colab_type": "text"
      },
      "source": [
        ""
      ]
    },
    {
      "cell_type": "code",
      "metadata": {
        "id": "Vs2toG0zEfLK",
        "colab_type": "code",
        "colab": {
          "base_uri": "https://localhost:8080/",
          "height": 34
        },
        "outputId": "1d13584f-4571-4e40-d539-bf262aad64d7"
      },
      "source": [
        "import urllib.request\n",
        "urllib.request.urlretrieve(\"https://raw.githubusercontent.com/e9t/nsmc/master/ratings_train.txt\", filename=\"ratings_train.txt\")\n",
        "urllib.request.urlretrieve(\"https://raw.githubusercontent.com/e9t/nsmc/master/ratings_test.txt\", filename=\"ratings_test.txt\")"
      ],
      "execution_count": null,
      "outputs": [
        {
          "output_type": "execute_result",
          "data": {
            "text/plain": [
              "('ratings_test.txt', <http.client.HTTPMessage at 0x7f0ff84a8ac8>)"
            ]
          },
          "metadata": {
            "tags": []
          },
          "execution_count": 99
        }
      ]
    },
    {
      "cell_type": "code",
      "metadata": {
        "id": "Q_QWpnK5IEft",
        "colab_type": "code",
        "colab": {}
      },
      "source": [
        "train_data = pd.read_table('ratings_train.txt')"
      ],
      "execution_count": null,
      "outputs": []
    },
    {
      "cell_type": "code",
      "metadata": {
        "id": "p4jbvYoeIFhh",
        "colab_type": "code",
        "colab": {
          "base_uri": "https://localhost:8080/",
          "height": 197
        },
        "outputId": "d3bdecf0-2c8d-4d09-f746-f432df27db08"
      },
      "source": [
        "train_data[:5] # 상위 5개 출력"
      ],
      "execution_count": null,
      "outputs": [
        {
          "output_type": "execute_result",
          "data": {
            "text/html": [
              "<div>\n",
              "<style scoped>\n",
              "    .dataframe tbody tr th:only-of-type {\n",
              "        vertical-align: middle;\n",
              "    }\n",
              "\n",
              "    .dataframe tbody tr th {\n",
              "        vertical-align: top;\n",
              "    }\n",
              "\n",
              "    .dataframe thead th {\n",
              "        text-align: right;\n",
              "    }\n",
              "</style>\n",
              "<table border=\"1\" class=\"dataframe\">\n",
              "  <thead>\n",
              "    <tr style=\"text-align: right;\">\n",
              "      <th></th>\n",
              "      <th>id</th>\n",
              "      <th>document</th>\n",
              "      <th>label</th>\n",
              "    </tr>\n",
              "  </thead>\n",
              "  <tbody>\n",
              "    <tr>\n",
              "      <th>0</th>\n",
              "      <td>9976970</td>\n",
              "      <td>아 더빙.. 진짜 짜증나네요 목소리</td>\n",
              "      <td>0</td>\n",
              "    </tr>\n",
              "    <tr>\n",
              "      <th>1</th>\n",
              "      <td>3819312</td>\n",
              "      <td>흠...포스터보고 초딩영화줄....오버연기조차 가볍지 않구나</td>\n",
              "      <td>1</td>\n",
              "    </tr>\n",
              "    <tr>\n",
              "      <th>2</th>\n",
              "      <td>10265843</td>\n",
              "      <td>너무재밓었다그래서보는것을추천한다</td>\n",
              "      <td>0</td>\n",
              "    </tr>\n",
              "    <tr>\n",
              "      <th>3</th>\n",
              "      <td>9045019</td>\n",
              "      <td>교도소 이야기구먼 ..솔직히 재미는 없다..평점 조정</td>\n",
              "      <td>0</td>\n",
              "    </tr>\n",
              "    <tr>\n",
              "      <th>4</th>\n",
              "      <td>6483659</td>\n",
              "      <td>사이몬페그의 익살스런 연기가 돋보였던 영화!스파이더맨에서 늙어보이기만 했던 커스틴 ...</td>\n",
              "      <td>1</td>\n",
              "    </tr>\n",
              "  </tbody>\n",
              "</table>\n",
              "</div>"
            ],
            "text/plain": [
              "         id                                           document  label\n",
              "0   9976970                                아 더빙.. 진짜 짜증나네요 목소리      0\n",
              "1   3819312                  흠...포스터보고 초딩영화줄....오버연기조차 가볍지 않구나      1\n",
              "2  10265843                                  너무재밓었다그래서보는것을추천한다      0\n",
              "3   9045019                      교도소 이야기구먼 ..솔직히 재미는 없다..평점 조정      0\n",
              "4   6483659  사이몬페그의 익살스런 연기가 돋보였던 영화!스파이더맨에서 늙어보이기만 했던 커스틴 ...      1"
            ]
          },
          "metadata": {
            "tags": []
          },
          "execution_count": 101
        }
      ]
    },
    {
      "cell_type": "code",
      "metadata": {
        "id": "n3NdfwpoIJce",
        "colab_type": "code",
        "colab": {}
      },
      "source": [
        "def read_data(filename):\n",
        "    with open(filename, 'r') as f:\n",
        "        data = [line.split('\\t') for line in f.read().splitlines()]\n",
        "        # txt 파일의 헤더(id document label)는 제외하기\n",
        "        data = data[1:]\n",
        "    return data\n",
        "\n",
        "train_data = read_data('ratings_train.txt')\n",
        "test_data = read_data('ratings_test.txt')"
      ],
      "execution_count": null,
      "outputs": []
    },
    {
      "cell_type": "code",
      "metadata": {
        "id": "eedF7Cr-IRhK",
        "colab_type": "code",
        "colab": {
          "base_uri": "https://localhost:8080/",
          "height": 87
        },
        "outputId": "abd50c4c-e973-4ce4-98c7-ed9fb9f4db36"
      },
      "source": [
        "print(len(train_data))\n",
        "print(len(train_data[0]))\n",
        "print(len(test_data))\n",
        "print(len(test_data[0]))"
      ],
      "execution_count": null,
      "outputs": [
        {
          "output_type": "stream",
          "text": [
            "150000\n",
            "3\n",
            "50000\n",
            "3\n"
          ],
          "name": "stdout"
        }
      ]
    },
    {
      "cell_type": "code",
      "metadata": {
        "id": "-SUi72snITHM",
        "colab_type": "code",
        "colab": {
          "base_uri": "https://localhost:8080/",
          "height": 54
        },
        "outputId": "fdccbe97-ead7-4d76-87f1-a4ad30047142"
      },
      "source": [
        "'''\n",
        "import json\n",
        "import os\n",
        "from pprint import pprint\n",
        "\n",
        "def tokenize(doc):\n",
        "    # norm은 정규화, stem은 근어로 표시하기를 나타냄\n",
        "    return ['/'.join(t) for t in okt.pos(doc, norm=True, stem=True)]\n",
        "\n",
        "if os.path.isfile('train_docs.json'):\n",
        "    with open('train_docs.json') as f:\n",
        "        train_docs = json.load(f)\n",
        "    with open('test_docs.json') as f:\n",
        "        test_docs = json.load(f)\n",
        "else:\n",
        "    train_docs = [(tokenize(row[1]), row[2]) for row in train_data]\n",
        "    test_docs = [(tokenize(row[1]), row[2]) for row in test_data]\n",
        "    # JSON 파일로 저장\n",
        "    with open('train_docs.json', 'w', encoding=\"utf-8\") as make_file:\n",
        "        json.dump(train_docs, make_file, ensure_ascii=False, indent=\"\\t\")\n",
        "    with open('test_docs.json', 'w', encoding=\"utf-8\") as make_file:\n",
        "        json.dump(test_docs, make_file, ensure_ascii=False, indent=\"\\t\")\n",
        "\n",
        "# 예쁘게(?) 출력하기 위해서 pprint 라이브러리 사용\n",
        "pprint(train_docs[0])\n",
        "'''"
      ],
      "execution_count": null,
      "outputs": [
        {
          "output_type": "execute_result",
          "data": {
            "text/plain": [
              "'\\nimport json\\nimport os\\nfrom pprint import pprint\\n\\ndef tokenize(doc):\\n    # norm은 정규화, stem은 근어로 표시하기를 나타냄\\n    return [\\'/\\'.join(t) for t in okt.pos(doc, norm=True, stem=True)]\\n\\nif os.path.isfile(\\'train_docs.json\\'):\\n    with open(\\'train_docs.json\\') as f:\\n        train_docs = json.load(f)\\n    with open(\\'test_docs.json\\') as f:\\n        test_docs = json.load(f)\\nelse:\\n    train_docs = [(tokenize(row[1]), row[2]) for row in train_data]\\n    test_docs = [(tokenize(row[1]), row[2]) for row in test_data]\\n    # JSON 파일로 저장\\n    with open(\\'train_docs.json\\', \\'w\\', encoding=\"utf-8\") as make_file:\\n        json.dump(train_docs, make_file, ensure_ascii=False, indent=\"\\t\")\\n    with open(\\'test_docs.json\\', \\'w\\', encoding=\"utf-8\") as make_file:\\n        json.dump(test_docs, make_file, ensure_ascii=False, indent=\"\\t\")\\n\\n# 예쁘게(?) 출력하기 위해서 pprint 라이브러리 사용\\npprint(train_docs[0])\\n'"
            ]
          },
          "metadata": {
            "tags": []
          },
          "execution_count": 104
        }
      ]
    },
    {
      "cell_type": "code",
      "metadata": {
        "id": "TLym1RsCIV68",
        "colab_type": "code",
        "colab": {
          "base_uri": "https://localhost:8080/",
          "height": 34
        },
        "outputId": "fe887ed0-902c-40f0-8893-640ba26211a0"
      },
      "source": [
        "'''\n",
        "tokens = [t for d in train_docs for t in d[0]]\n",
        "print(len(tokens))\n",
        "'''"
      ],
      "execution_count": null,
      "outputs": [
        {
          "output_type": "execute_result",
          "data": {
            "text/plain": [
              "'\\ntokens = [t for d in train_docs for t in d[0]]\\nprint(len(tokens))\\n'"
            ]
          },
          "metadata": {
            "tags": []
          },
          "execution_count": 105
        }
      ]
    },
    {
      "cell_type": "code",
      "metadata": {
        "id": "O440uu-JIZlF",
        "colab_type": "code",
        "colab": {
          "base_uri": "https://localhost:8080/",
          "height": 54
        },
        "outputId": "2c06377d-0cfa-4b4a-a426-aecbbb9e46c9"
      },
      "source": [
        "'''\n",
        "import nltk\n",
        "text = nltk.Text(tokens, name='NMSC')\n",
        "\n",
        "# 전체 토큰의 개수\n",
        "print(len(text.tokens))\n",
        "\n",
        "# 중복을 제외한 토큰의 개수\n",
        "print(len(set(text.tokens)))            \n",
        "\n",
        "# 출현 빈도가 높은 상위 토큰 10개\n",
        "pprint(text.vocab().most_common(10))\n",
        "'''"
      ],
      "execution_count": null,
      "outputs": [
        {
          "output_type": "execute_result",
          "data": {
            "text/plain": [
              "\"\\nimport nltk\\ntext = nltk.Text(tokens, name='NMSC')\\n\\n# 전체 토큰의 개수\\nprint(len(text.tokens))\\n\\n# 중복을 제외한 토큰의 개수\\nprint(len(set(text.tokens)))            \\n\\n# 출현 빈도가 높은 상위 토큰 10개\\npprint(text.vocab().most_common(10))\\n\""
            ]
          },
          "metadata": {
            "tags": []
          },
          "execution_count": 106
        }
      ]
    },
    {
      "cell_type": "code",
      "metadata": {
        "id": "Cwmeu2FMIasz",
        "colab_type": "code",
        "colab": {
          "base_uri": "https://localhost:8080/",
          "height": 54
        },
        "outputId": "85e7d664-37f3-4871-a75e-60ab05253763"
      },
      "source": [
        "'''\n",
        "import matplotlib.pyplot as plt\n",
        "from matplotlib import font_manager, rc\n",
        "%matplotlib inline\n",
        "\n",
        "font_fname = '/Library/Fonts/AppleGothic.ttf'\n",
        "font_name = font_manager.FontProperties(fname=font_fname).get_name()\n",
        "rc('font', family=font_name)\n",
        "\n",
        "plt.figure(figsize=(20,10))\n",
        "text.plot(50)\n",
        "'''"
      ],
      "execution_count": null,
      "outputs": [
        {
          "output_type": "execute_result",
          "data": {
            "text/plain": [
              "\"\\nimport matplotlib.pyplot as plt\\nfrom matplotlib import font_manager, rc\\n%matplotlib inline\\n\\nfont_fname = '/Library/Fonts/AppleGothic.ttf'\\nfont_name = font_manager.FontProperties(fname=font_fname).get_name()\\nrc('font', family=font_name)\\n\\nplt.figure(figsize=(20,10))\\ntext.plot(50)\\n\""
            ]
          },
          "metadata": {
            "tags": []
          },
          "execution_count": 107
        }
      ]
    },
    {
      "cell_type": "code",
      "metadata": {
        "id": "sznQMdKEIepG",
        "colab_type": "code",
        "colab": {
          "base_uri": "https://localhost:8080/",
          "height": 54
        },
        "outputId": "54728373-f4c4-4a43-d647-72805a42500d"
      },
      "source": [
        "'''\n",
        "# 시간이 꽤 걸립니다! 시간을 절약하고 싶으면 most_common의 매개변수를 줄여보세요.\n",
        "selected_words = [f[0] for f in text.vocab().most_common(10000)]\n",
        "\n",
        "def term_frequency(doc):\n",
        "    return [doc.count(word) for word in selected_words]\n",
        "\n",
        "train_x = [term_frequency(d) for d, _ in train_docs]\n",
        "test_x = [term_frequency(d) for d, _ in test_docs]\n",
        "train_y = [c for _, c in train_docs]\n",
        "test_y = [c for _, c in test_docs]\n",
        "'''"
      ],
      "execution_count": null,
      "outputs": [
        {
          "output_type": "execute_result",
          "data": {
            "text/plain": [
              "'\\n# 시간이 꽤 걸립니다! 시간을 절약하고 싶으면 most_common의 매개변수를 줄여보세요.\\nselected_words = [f[0] for f in text.vocab().most_common(10000)]\\n\\ndef term_frequency(doc):\\n    return [doc.count(word) for word in selected_words]\\n\\ntrain_x = [term_frequency(d) for d, _ in train_docs]\\ntest_x = [term_frequency(d) for d, _ in test_docs]\\ntrain_y = [c for _, c in train_docs]\\ntest_y = [c for _, c in test_docs]\\n'"
            ]
          },
          "metadata": {
            "tags": []
          },
          "execution_count": 108
        }
      ]
    },
    {
      "cell_type": "code",
      "metadata": {
        "id": "b9S4O-gsIf2E",
        "colab_type": "code",
        "colab": {
          "base_uri": "https://localhost:8080/",
          "height": 54
        },
        "outputId": "8221db11-0af5-40d7-c686-f23693d2aff2"
      },
      "source": [
        "'''\n",
        "import numpy as np\n",
        "\n",
        "x_train = np.asarray(train_x).astype('float32')\n",
        "x_test = np.asarray(test_x).astype('float32')\n",
        "\n",
        "y_train = np.asarray(train_y).astype('float32')\n",
        "y_test = np.asarray(test_y).astype('float32')\n",
        "'''"
      ],
      "execution_count": null,
      "outputs": [
        {
          "output_type": "execute_result",
          "data": {
            "text/plain": [
              "\"\\nimport numpy as np\\n\\nx_train = np.asarray(train_x).astype('float32')\\nx_test = np.asarray(test_x).astype('float32')\\n\\ny_train = np.asarray(train_y).astype('float32')\\ny_test = np.asarray(test_y).astype('float32')\\n\""
            ]
          },
          "metadata": {
            "tags": []
          },
          "execution_count": 109
        }
      ]
    },
    {
      "cell_type": "code",
      "metadata": {
        "id": "p2J3LVROIiu6",
        "colab_type": "code",
        "colab": {
          "base_uri": "https://localhost:8080/",
          "height": 54
        },
        "outputId": "34089f33-84c6-49fd-b8b0-efae5072eb7c"
      },
      "source": [
        "'''\n",
        "from tensorflow.keras.models import Sequential\n",
        "from tensorflow.keras.layers import Dense\n",
        "from tensorflow.keras import optimizers\n",
        "from tensorflow.keras import losses\n",
        "from tensorflow.keras import metrics\n",
        "\n",
        "model = models.Sequential()\n",
        "model.add(Dense(64, activation='relu', input_shape=(10000,)))\n",
        "model.add(Dense(64, activation='relu'))\n",
        "model.add(Dense(1, activation='sigmoid'))\n",
        "\n",
        "model.compile(optimizer=optimizers.RMSprop(lr=0.001),\n",
        "             loss=losses.binary_crossentropy,\n",
        "             metrics=[metrics.binary_accuracy])\n",
        "\n",
        "model.fit(x_train, y_train, epochs=10, batch_size=512)\n",
        "results = model.evaluate(x_test, y_test)\n",
        "'''"
      ],
      "execution_count": null,
      "outputs": [
        {
          "output_type": "execute_result",
          "data": {
            "text/plain": [
              "\"\\nfrom tensorflow.keras.models import Sequential\\nfrom tensorflow.keras.layers import Dense\\nfrom tensorflow.keras import optimizers\\nfrom tensorflow.keras import losses\\nfrom tensorflow.keras import metrics\\n\\nmodel = models.Sequential()\\nmodel.add(Dense(64, activation='relu', input_shape=(10000,)))\\nmodel.add(Dense(64, activation='relu'))\\nmodel.add(Dense(1, activation='sigmoid'))\\n\\nmodel.compile(optimizer=optimizers.RMSprop(lr=0.001),\\n             loss=losses.binary_crossentropy,\\n             metrics=[metrics.binary_accuracy])\\n\\nmodel.fit(x_train, y_train, epochs=10, batch_size=512)\\nresults = model.evaluate(x_test, y_test)\\n\""
            ]
          },
          "metadata": {
            "tags": []
          },
          "execution_count": 112
        }
      ]
    },
    {
      "cell_type": "markdown",
      "metadata": {
        "id": "XsHM192jK1vU",
        "colab_type": "text"
      },
      "source": [
        "# 함수형 API 이야기"
      ]
    },
    {
      "cell_type": "markdown",
      "metadata": {
        "id": "fG0IzJuXK3qc",
        "colab_type": "text"
      },
      "source": [
        "## sequential API로 만든 모델"
      ]
    },
    {
      "cell_type": "code",
      "metadata": {
        "id": "YmPQHJ3XK5kZ",
        "colab_type": "code",
        "colab": {}
      },
      "source": [
        "from tensorflow.keras.models import Sequential\n",
        "from tensorflow.keras.layers import Dense\n",
        "model=Sequential()\n",
        "model.add(Dense(3, input_dim=4, activation='softmax'))"
      ],
      "execution_count": null,
      "outputs": []
    },
    {
      "cell_type": "markdown",
      "metadata": {
        "id": "MkTnwPehK93s",
        "colab_type": "text"
      },
      "source": [
        "## functional API로 만든 모델"
      ]
    },
    {
      "cell_type": "markdown",
      "metadata": {
        "id": "df4VjgahL0Wa",
        "colab_type": "text"
      },
      "source": [
        "앞에서 케라스를 사용하여 모델을 설계하는 방식을 sequential API를 사용하였다고 합니다. 그런데 sequential API는 여러층을 공유하거나 다양한 종류의 입력과 출력을 사용하는 등의 복잡한 모델을 만드는 일을 하기에는 한계가 있습니다. 이번에는 복잡한 모델을 생성할 수 있는 방식인 functional API(함수형 API)에 대해서 알아봅니다."
      ]
    },
    {
      "cell_type": "markdown",
      "metadata": {
        "id": "JJk-9sqZL4dp",
        "colab_type": "text"
      },
      "source": [
        "functional API는 각 층을 일종의 함수(function)로서 정의합니다. 그리고 각 함수를 조합하기 위한 연산자들을 제공하는데, 이를 이용하여 신경망을 설계합니다. functional API로 FFNN, RNN 등 다양한 모델을 만들면서 기존의 sequential API와의 차이를 이해해봅시다.\n",
        "\n"
      ]
    },
    {
      "cell_type": "markdown",
      "metadata": {
        "id": "QFTLoLMTLCeH",
        "colab_type": "text"
      },
      "source": [
        "### 피드 포워드 신경망"
      ]
    },
    {
      "cell_type": "code",
      "metadata": {
        "id": "nIeK_HXwK_jA",
        "colab_type": "code",
        "colab": {}
      },
      "source": [
        "from tensorflow.keras.layers import Input, Dense\n",
        "from tensorflow.keras.models import Model\n",
        "\n",
        "# 입력\n",
        "inputs = Input(shape=(10,))\n",
        "\n",
        "hidden1 = Dense(64, activation='relu')(inputs)\n",
        "hidden2 = Dense(64, activation='relu')(hidden1)\n",
        "\n",
        "# 출력\n",
        "output = Dense(1, activation='sigmoid')(hidden2)\n",
        "\n",
        "# 입력과 출력 정의\n",
        "model = Model(inputs=inputs, outputs=output)"
      ],
      "execution_count": null,
      "outputs": []
    },
    {
      "cell_type": "markdown",
      "metadata": {
        "id": "yYF18dFoLNRP",
        "colab_type": "text"
      },
      "source": [
        "### 선형 회귀"
      ]
    },
    {
      "cell_type": "code",
      "metadata": {
        "id": "-rdcF2s2LRQq",
        "colab_type": "code",
        "colab": {}
      },
      "source": [
        "from tensorflow.keras.layers import Input, Dense\n",
        "from tensorflow.keras.models import Model\n",
        "\n",
        "inputs = Input(shape=(3,))\n",
        "output = Dense(1, activation='linear')(inputs)\n",
        "linear_model = Model(inputs, output)\n",
        "\n",
        "linear_model.compile(optimizer='sgd', loss='mse')"
      ],
      "execution_count": null,
      "outputs": []
    },
    {
      "cell_type": "markdown",
      "metadata": {
        "id": "vnzck6bmLbBu",
        "colab_type": "text"
      },
      "source": [
        "### 로지스틱 회귀"
      ]
    },
    {
      "cell_type": "code",
      "metadata": {
        "id": "g38giGvyLcL6",
        "colab_type": "code",
        "colab": {}
      },
      "source": [
        "from tensorflow.keras.layers import Input, Dense\n",
        "from tensorflow.keras.models import Model\n",
        "\n",
        "inputs = Input(shape=(3,))\n",
        "output = Dense(1, activation='sigmoid')(inputs)\n",
        "logistic_model = Model(inputs, output)\n",
        "\n",
        "logistic_model.compile(optimizer='sgd', loss = 'binary_crossentropy', metrics=['accuracy'])"
      ],
      "execution_count": null,
      "outputs": []
    },
    {
      "cell_type": "markdown",
      "metadata": {
        "id": "5S6Q1aZmLfL3",
        "colab_type": "text"
      },
      "source": [
        "### 다중 입력을 받는 모델(model that accepts multiple inputs)"
      ]
    },
    {
      "cell_type": "code",
      "metadata": {
        "id": "CurzrkxLLhqD",
        "colab_type": "code",
        "colab": {}
      },
      "source": [
        "from tensorflow.keras.layers import Input, Dense, concatenate\n",
        "from tensorflow.keras.models import Model\n",
        "\n",
        "# 두 개의 입력층을 정의\n",
        "inputA = Input(shape=(64,))\n",
        "inputB = Input(shape=(128,))\n",
        "\n",
        "# 첫번째 입력층으로부터 분기되어 진행되는 인공 신경망을 정의\n",
        "x = Dense(16, activation=\"relu\")(inputA)\n",
        "x = Dense(8, activation=\"relu\")(x)\n",
        "x = Model(inputs=inputA, outputs=x)\n",
        "\n",
        "# 두번째 입력층으로부터 분기되어 진행되는 인공 신경망을 정의\n",
        "y = Dense(64, activation=\"relu\")(inputB)\n",
        "y = Dense(32, activation=\"relu\")(y)\n",
        "y = Dense(8, activation=\"relu\")(y)\n",
        "y = Model(inputs=inputB, outputs=y)\n",
        "\n",
        "# 두개의 인공 신경망의 출력을 연결(concatenate)\n",
        "result = concatenate([x.output, y.output])\n",
        "\n",
        "# 연결된 값을 입력으로 받는 밀집층을 추가(Dense layer)\n",
        "z = Dense(2, activation=\"relu\")(result)\n",
        "# 선형 회귀를 위해 activation=linear를 설정\n",
        "z = Dense(1, activation=\"linear\")(z)\n",
        "\n",
        "# 결과적으로 이 모델은 두 개의 입력층으로부터 분기되어 진행된 후 마지막에는 하나의 출력을 예측하는 모델이 됨.\n",
        "model = Model(inputs=[x.input, y.input], outputs=z)"
      ],
      "execution_count": null,
      "outputs": []
    },
    {
      "cell_type": "markdown",
      "metadata": {
        "id": "B3uTuvhsLldi",
        "colab_type": "text"
      },
      "source": [
        "### 다르게 보이지만 동일한 표기"
      ]
    },
    {
      "cell_type": "markdown",
      "metadata": {
        "id": "1bOip8kdLndI",
        "colab_type": "text"
      },
      "source": [
        "encoder = Dense(128)(input)  \n",
        "\n",
        "이와 같은 표현은  \n",
        "\n",
        "encoder = Dense(128)  \n",
        "encoder(input)\n",
        "\n",
        "이 표현과 같습니다."
      ]
    },
    {
      "cell_type": "markdown",
      "metadata": {
        "id": "AShjrishFP9W",
        "colab_type": "text"
      },
      "source": [
        "# 번외 : Soynlp 이야기"
      ]
    },
    {
      "cell_type": "markdown",
      "metadata": {
        "id": "MYZPxP-TFqLq",
        "colab_type": "text"
      },
      "source": [
        "## OOV 문제"
      ]
    },
    {
      "cell_type": "code",
      "metadata": {
        "id": "_C6VPJUrFTAW",
        "colab_type": "code",
        "colab": {
          "base_uri": "https://localhost:8080/",
          "height": 34
        },
        "outputId": "18f54ba9-80b2-4f9a-807b-879e79986752"
      },
      "source": [
        "from konlpy.tag import Okt\n",
        "tokenizer = Okt()\n",
        "print(tokenizer.morphs('에이비식스 이대휘 1월 최애돌 기부 요정'))"
      ],
      "execution_count": null,
      "outputs": [
        {
          "output_type": "stream",
          "text": [
            "['에이', '비식스', '이대', '휘', '1월', '최애', '돌', '기부', '요정']\n"
          ],
          "name": "stdout"
        }
      ]
    },
    {
      "cell_type": "markdown",
      "metadata": {
        "id": "HH8z-NqbFtl5",
        "colab_type": "text"
      },
      "source": [
        "에이비식스는 아이돌의 이름이고, 이대휘는 에이비식스의 멤버이며, 최애돌은 최고로 애정하는 캐릭터라는 뜻이지만 위의 형태소 분석 결과에서는 전부 분리된 결과를 보여줍니다.\n",
        "\n",
        "그렇다면 텍스트 데이터에서 특정 문자 시퀀스가 함께 자주 등장하는 빈도가 높고, 앞 뒤로 조사 또는 완전히 다른 단어가 등장하는 것을 고려해서 해당 문자 시퀀스를 형태소라고 판단하는 형태소 분석기라면 어떨까요?\n",
        "\n",
        "예를 들어 에이비식스라는 문자열이 자주 연결되어 등장한다면 형태소라고 판단하고, 또한 에이비식스라는 단어 앞, 뒤에 '최고', '가수', '실력'과 같은 독립된 다른 단어들이 계속해서 등장한다면 에이비식스를 형태소로 파악하는 식이지요. 그리고 이런 아이디어를 가진 형태소 분석기가 soynlp입니다."
      ]
    },
    {
      "cell_type": "markdown",
      "metadata": {
        "id": "NFzimbZBFwgo",
        "colab_type": "text"
      },
      "source": [
        "## soynlp"
      ]
    },
    {
      "cell_type": "markdown",
      "metadata": {
        "id": "jeSk8fjkF0QP",
        "colab_type": "text"
      },
      "source": [
        "soynlp는 품사 태깅, 형태소 분석 등을 지원하는 한국어 형태소 분석기입니다. 비지도 학습으로 형태소 분석을 한다는 특징을 갖고 있으며, 데이터에 자주 등장하는 단어들을 형태소로 분석합니다. soynlp 형태소 분석기는 내부적으로 단어 점수 표로 동작합니다. 이 점수는 응집 확률(cohesion probability)과 브랜칭 엔트로피(branching entropy)를 활용합니다."
      ]
    },
    {
      "cell_type": "code",
      "metadata": {
        "id": "BQnqQXy4Fu_e",
        "colab_type": "code",
        "colab": {
          "base_uri": "https://localhost:8080/",
          "height": 194
        },
        "outputId": "f56a8dc3-6d76-4fd1-f9fe-b535507814d0"
      },
      "source": [
        "!pip install soynlp"
      ],
      "execution_count": null,
      "outputs": [
        {
          "output_type": "stream",
          "text": [
            "Collecting soynlp\n",
            "\u001b[?25l  Downloading https://files.pythonhosted.org/packages/7e/50/6913dc52a86a6b189419e59f9eef1b8d599cffb6f44f7bb91854165fc603/soynlp-0.0.493-py3-none-any.whl (416kB)\n",
            "\r\u001b[K     |▉                               | 10kB 19.0MB/s eta 0:00:01\r\u001b[K     |█▋                              | 20kB 3.1MB/s eta 0:00:01\r\u001b[K     |██▍                             | 30kB 3.6MB/s eta 0:00:01\r\u001b[K     |███▏                            | 40kB 3.9MB/s eta 0:00:01\r\u001b[K     |████                            | 51kB 3.5MB/s eta 0:00:01\r\u001b[K     |████▊                           | 61kB 3.8MB/s eta 0:00:01\r\u001b[K     |█████▌                          | 71kB 4.2MB/s eta 0:00:01\r\u001b[K     |██████▎                         | 81kB 4.5MB/s eta 0:00:01\r\u001b[K     |███████                         | 92kB 4.7MB/s eta 0:00:01\r\u001b[K     |███████▉                        | 102kB 4.7MB/s eta 0:00:01\r\u001b[K     |████████▋                       | 112kB 4.7MB/s eta 0:00:01\r\u001b[K     |█████████▍                      | 122kB 4.7MB/s eta 0:00:01\r\u001b[K     |██████████▏                     | 133kB 4.7MB/s eta 0:00:01\r\u001b[K     |███████████                     | 143kB 4.7MB/s eta 0:00:01\r\u001b[K     |███████████▉                    | 153kB 4.7MB/s eta 0:00:01\r\u001b[K     |████████████▋                   | 163kB 4.7MB/s eta 0:00:01\r\u001b[K     |█████████████▍                  | 174kB 4.7MB/s eta 0:00:01\r\u001b[K     |██████████████▏                 | 184kB 4.7MB/s eta 0:00:01\r\u001b[K     |███████████████                 | 194kB 4.7MB/s eta 0:00:01\r\u001b[K     |███████████████▊                | 204kB 4.7MB/s eta 0:00:01\r\u001b[K     |████████████████▌               | 215kB 4.7MB/s eta 0:00:01\r\u001b[K     |█████████████████▎              | 225kB 4.7MB/s eta 0:00:01\r\u001b[K     |██████████████████              | 235kB 4.7MB/s eta 0:00:01\r\u001b[K     |██████████████████▉             | 245kB 4.7MB/s eta 0:00:01\r\u001b[K     |███████████████████▋            | 256kB 4.7MB/s eta 0:00:01\r\u001b[K     |████████████████████▍           | 266kB 4.7MB/s eta 0:00:01\r\u001b[K     |█████████████████████▎          | 276kB 4.7MB/s eta 0:00:01\r\u001b[K     |██████████████████████          | 286kB 4.7MB/s eta 0:00:01\r\u001b[K     |██████████████████████▉         | 296kB 4.7MB/s eta 0:00:01\r\u001b[K     |███████████████████████▋        | 307kB 4.7MB/s eta 0:00:01\r\u001b[K     |████████████████████████▍       | 317kB 4.7MB/s eta 0:00:01\r\u001b[K     |█████████████████████████▏      | 327kB 4.7MB/s eta 0:00:01\r\u001b[K     |██████████████████████████      | 337kB 4.7MB/s eta 0:00:01\r\u001b[K     |██████████████████████████▊     | 348kB 4.7MB/s eta 0:00:01\r\u001b[K     |███████████████████████████▌    | 358kB 4.7MB/s eta 0:00:01\r\u001b[K     |████████████████████████████▎   | 368kB 4.7MB/s eta 0:00:01\r\u001b[K     |█████████████████████████████   | 378kB 4.7MB/s eta 0:00:01\r\u001b[K     |█████████████████████████████▉  | 389kB 4.7MB/s eta 0:00:01\r\u001b[K     |██████████████████████████████▋ | 399kB 4.7MB/s eta 0:00:01\r\u001b[K     |███████████████████████████████▌| 409kB 4.7MB/s eta 0:00:01\r\u001b[K     |████████████████████████████████| 419kB 4.7MB/s \n",
            "\u001b[?25hRequirement already satisfied: scikit-learn>=0.20.0 in /usr/local/lib/python3.6/dist-packages (from soynlp) (0.22.2.post1)\n",
            "Requirement already satisfied: scipy>=1.1.0 in /usr/local/lib/python3.6/dist-packages (from soynlp) (1.4.1)\n",
            "Requirement already satisfied: psutil>=5.0.1 in /usr/local/lib/python3.6/dist-packages (from soynlp) (5.4.8)\n",
            "Requirement already satisfied: numpy>=1.12.1 in /usr/local/lib/python3.6/dist-packages (from soynlp) (1.18.5)\n",
            "Requirement already satisfied: joblib>=0.11 in /usr/local/lib/python3.6/dist-packages (from scikit-learn>=0.20.0->soynlp) (0.15.1)\n",
            "Installing collected packages: soynlp\n",
            "Successfully installed soynlp-0.0.493\n"
          ],
          "name": "stdout"
        }
      ]
    },
    {
      "cell_type": "code",
      "metadata": {
        "id": "PR5hjIsmF1-o",
        "colab_type": "code",
        "colab": {
          "base_uri": "https://localhost:8080/",
          "height": 34
        },
        "outputId": "b2e731d2-7233-4071-bfc2-33bd2784ce87"
      },
      "source": [
        "import urllib.request\n",
        "urllib.request.urlretrieve(\"https://raw.githubusercontent.com/lovit/soynlp/master/tutorials/2016-10-20.txt\", filename=\"2016-10-20.txt\")"
      ],
      "execution_count": null,
      "outputs": [
        {
          "output_type": "execute_result",
          "data": {
            "text/plain": [
              "('2016-10-20.txt', <http.client.HTTPMessage at 0x7f0ff8d1bc18>)"
            ]
          },
          "metadata": {
            "tags": []
          },
          "execution_count": 70
        }
      ]
    },
    {
      "cell_type": "markdown",
      "metadata": {
        "id": "ZVULVPMdF6eE",
        "colab_type": "text"
      },
      "source": [
        "다운로드 한 말뭉치를 문서 단위로 분리합니다."
      ]
    },
    {
      "cell_type": "code",
      "metadata": {
        "id": "f0835RTkF45f",
        "colab_type": "code",
        "colab": {
          "base_uri": "https://localhost:8080/",
          "height": 34
        },
        "outputId": "d4f363b2-2890-4e0c-d170-589e96a30ce8"
      },
      "source": [
        "from soynlp import DoublespaceLineCorpus\n",
        "\n",
        "# 말뭉치에 대해서 다수의 문서로 분리\n",
        "corpus = DoublespaceLineCorpus(\"2016-10-20.txt\")\n",
        "len(corpus)"
      ],
      "execution_count": null,
      "outputs": [
        {
          "output_type": "execute_result",
          "data": {
            "text/plain": [
              "30091"
            ]
          },
          "metadata": {
            "tags": []
          },
          "execution_count": 71
        }
      ]
    },
    {
      "cell_type": "markdown",
      "metadata": {
        "id": "ibxbjyLlF-2k",
        "colab_type": "text"
      },
      "source": [
        "총 3만 91개의 문서가 존재합니다. 공백이 아닌 문서에 한해 상위 3개의 문서만 출력해봅시다."
      ]
    },
    {
      "cell_type": "code",
      "metadata": {
        "id": "-H52M98_F9JP",
        "colab_type": "code",
        "colab": {
          "base_uri": "https://localhost:8080/",
          "height": 90
        },
        "outputId": "ce1e9b1a-886a-4609-b8dd-57d9a0fad3ff"
      },
      "source": [
        "i = 0\n",
        "for document in corpus:\n",
        "  if len(document) > 0:\n",
        "    print(document)\n",
        "    i = i+1\n",
        "  if i == 3:\n",
        "    break"
      ],
      "execution_count": null,
      "outputs": [
        {
          "output_type": "stream",
          "text": [
            "19  1990  52 1 22\n",
            "오패산터널 총격전 용의자 검거 서울 연합뉴스 경찰 관계자들이 19일 오후 서울 강북구 오패산 터널 인근에서 사제 총기를 발사해 경찰을 살해한 용의자 성모씨를 검거하고 있다 성씨는 검거 당시 서바이벌 게임에서 쓰는 방탄조끼에 헬멧까지 착용한 상태였다 독자제공 영상 캡처 연합뉴스  서울 연합뉴스 김은경 기자 사제 총기로 경찰을 살해한 범인 성모 46 씨는 주도면밀했다  경찰에 따르면 성씨는 19일 오후 강북경찰서 인근 부동산 업소 밖에서 부동산업자 이모 67 씨가 나오기를 기다렸다 이씨와는 평소에도 말다툼을 자주 한 것으로 알려졌다  이씨가 나와 걷기 시작하자 성씨는 따라가면서 미리 준비해온 사제 총기를 이씨에게 발사했다 총알이 빗나가면서 이씨는 도망갔다 그 빗나간 총알은 지나가던 행인 71 씨의 배를 스쳤다  성씨는 강북서 인근 치킨집까지 이씨 뒤를 쫓으며 실랑이하다 쓰러뜨린 후 총기와 함께 가져온 망치로 이씨 머리를 때렸다  이 과정에서 오후 6시 20분께 강북구 번동 길 위에서 사람들이 싸우고 있다 총소리가 났다 는 등의 신고가 여러건 들어왔다  5분 후에 성씨의 전자발찌가 훼손됐다는 신고가 보호관찰소 시스템을 통해 들어왔다 성범죄자로 전자발찌를 차고 있던 성씨는 부엌칼로 직접 자신의 발찌를 끊었다  용의자 소지 사제총기 2정 서울 연합뉴스 임헌정 기자 서울 시내에서 폭행 용의자가 현장 조사를 벌이던 경찰관에게 사제총기를 발사해 경찰관이 숨졌다 19일 오후 6시28분 강북구 번동에서 둔기로 맞았다 는 폭행 피해 신고가 접수돼 현장에서 조사하던 강북경찰서 번동파출소 소속 김모 54 경위가 폭행 용의자 성모 45 씨가 쏜 사제총기에 맞고 쓰러진 뒤 병원에 옮겨졌으나 숨졌다 사진은 용의자가 소지한 사제총기  신고를 받고 번동파출소에서 김창호 54 경위 등 경찰들이 오후 6시 29분께 현장으로 출동했다 성씨는 그사이 부동산 앞에 놓아뒀던 가방을 챙겨 오패산 쪽으로 도망간 후였다  김 경위는 오패산 터널 입구 오른쪽의 급경사에서 성씨에게 접근하다가 오후 6시 33분께 풀숲에 숨은 성씨가 허공에 난사한 10여발의 총알 중 일부를 왼쪽 어깨 뒷부분에 맞고 쓰러졌다  김 경위는 구급차가 도착했을 때 이미 의식이 없었고 심폐소생술을 하며 병원으로 옮겨졌으나 총알이 폐를 훼손해 오후 7시 40분께 사망했다  김 경위는 외근용 조끼를 입고 있었으나 총알을 막기에는 역부족이었다  머리에 부상을 입은 이씨도 함께 병원으로 이송됐으나 생명에는 지장이 없는 것으로 알려졌다  성씨는 오패산 터널 밑쪽 숲에서 오후 6시 45분께 잡혔다  총격현장 수색하는 경찰들 서울 연합뉴스 이효석 기자 19일 오후 서울 강북구 오패산 터널 인근에서 경찰들이 폭행 용의자가 사제총기를 발사해 경찰관이 사망한 사건을 조사 하고 있다  총 때문에 쫓던 경관들과 민간인들이 몸을 숨겼는데 인근 신발가게 직원 이모씨가 다가가 성씨를 덮쳤고 이어 현장에 있던 다른 상인들과 경찰이 가세해 체포했다  성씨는 경찰에 붙잡힌 직후 나 자살하려고 한 거다 맞아 죽어도 괜찮다 고 말한 것으로 전해졌다  성씨 자신도 경찰이 발사한 공포탄 1발 실탄 3발 중 실탄 1발을 배에 맞았으나 방탄조끼를 입은 상태여서 부상하지는 않았다  경찰은 인근을 수색해 성씨가 만든 사제총 16정과 칼 7개를 압수했다 실제 폭발할지는 알 수 없는 요구르트병에 무언가를 채워두고 심지를 꽂은 사제 폭탄도 발견됐다  일부는 숲에서 발견됐고 일부는 성씨가 소지한 가방 안에 있었다\n",
            "테헤란 연합뉴스 강훈상 특파원 이용 승객수 기준 세계 최대 공항인 아랍에미리트 두바이국제공항은 19일 현지시간 이 공항을 이륙하는 모든 항공기의 탑승객은 삼성전자의 갤럭시노트7을 휴대하면 안 된다고 밝혔다  두바이국제공항은 여러 항공 관련 기구의 권고에 따라 안전성에 우려가 있는 스마트폰 갤럭시노트7을 휴대하고 비행기를 타면 안 된다 며 탑승 전 검색 중 발견되면 압수할 계획 이라고 발표했다  공항 측은 갤럭시노트7의 배터리가 폭발 우려가 제기된 만큼 이 제품을 갖고 공항 안으로 들어오지 말라고 이용객에 당부했다  이런 조치는 두바이국제공항 뿐 아니라 신공항인 두바이월드센터에도 적용된다  배터리 폭발문제로 회수된 갤럭시노트7 연합뉴스자료사진\n"
          ],
          "name": "stdout"
        }
      ]
    },
    {
      "cell_type": "markdown",
      "metadata": {
        "id": "ZmviMaUAGEH3",
        "colab_type": "text"
      },
      "source": [
        "soynlp는 비지도학습 형태소 분석기이므로 기존의 형태소 분석기와는 달리 학습 과정을 거쳐야 합니다. 이는 전체 코퍼스로부터 응집 확률과 브랜칭 엔트로피 단어 점수표를 만드는 과정이지요. WordExtractor.extract()를 통해서 전체 코퍼스에 대해 단어 점수표를 계산합니다."
      ]
    },
    {
      "cell_type": "code",
      "metadata": {
        "id": "H9wDUf8RGEsu",
        "colab_type": "code",
        "colab": {
          "base_uri": "https://localhost:8080/",
          "height": 87
        },
        "outputId": "ef4de1b5-cd76-4f7b-8659-dbed9f0cbfd9"
      },
      "source": [
        "from soynlp.word import WordExtractor\n",
        "word_extractor = WordExtractor()\n",
        "word_extractor.train(corpus)\n",
        "word_score_table = word_extractor.extract()"
      ],
      "execution_count": null,
      "outputs": [
        {
          "output_type": "stream",
          "text": [
            "training was done. used memory 5.186 Gb\n",
            "all cohesion probabilities was computed. # words = 223348\n",
            "all branching entropies was computed # words = 361598\n",
            "all accessor variety was computed # words = 361598\n"
          ],
          "name": "stdout"
        }
      ]
    },
    {
      "cell_type": "markdown",
      "metadata": {
        "id": "t4tAK15-GJiN",
        "colab_type": "text"
      },
      "source": [
        "## soynlp의 응집 확률(cohesion probability)"
      ]
    },
    {
      "cell_type": "markdown",
      "metadata": {
        "id": "YgV9OQplGMMV",
        "colab_type": "text"
      },
      "source": [
        "응집 확률은 내부 문자열(substring)이 얼마나 응집하여 자주 등장하는지를 판단하는 척도입니다. 응집 확률은 문자열을 문자 단위로 분리하여 내부 문자열을 만드는 과정에서 왼쪽부터 순서대로 문자를 추가하면서 각 문자열이 주어졌을 때 그 다음 문자가 나올 확률을 계산하여 누적곱을 한 값입니다. 이 값이 높을수록 전체 코퍼스에서 이 문자열 시퀀스는 하나의 단어로 등장할 가능성이 높습니다. 수식은 아래와 같습니다. "
      ]
    },
    {
      "cell_type": "code",
      "metadata": {
        "id": "Jx_dW5mRGNMD",
        "colab_type": "code",
        "colab": {
          "base_uri": "https://localhost:8080/",
          "height": 92
        },
        "outputId": "02b84240-f4b6-45c1-e72f-f7fd623e3920"
      },
      "source": [
        "from IPython.display import Image\n",
        "\n",
        "Image('https://wikidocs.net/images/page/84111/soynlp.png')"
      ],
      "execution_count": null,
      "outputs": [
        {
          "output_type": "execute_result",
          "data": {
            "image/png": "[encoded data removed]",
            "text/plain": [
              "<IPython.core.display.Image object>"
            ]
          },
          "metadata": {
            "tags": []
          },
          "execution_count": 75
        }
      ]
    },
    {
      "cell_type": "markdown",
      "metadata": {
        "id": "8_vszl7YG4uY",
        "colab_type": "text"
      },
      "source": [
        "아직은 아리송 할 거에요. '반포한강공원에'라는 7의 길이를 가진 문자 시퀀스에 대해서 각 내부 문자열의 스코어를 구하는 과정은 아래와 같습니다."
      ]
    },
    {
      "cell_type": "code",
      "metadata": {
        "id": "LPJa_edNGyOX",
        "colab_type": "code",
        "colab": {
          "base_uri": "https://localhost:8080/",
          "height": 208
        },
        "outputId": "1cc75649-4535-4512-d1be-d2a851eda334"
      },
      "source": [
        "Image('https://wikidocs.net/images/page/84111/soynlp2.png')"
      ],
      "execution_count": null,
      "outputs": [
        {
          "output_type": "execute_result",
          "data": {
            "image/png": "[encoded data removed]",
            "text/plain": [
              "<IPython.core.display.Image object>"
            ]
          },
          "metadata": {
            "tags": []
          },
          "execution_count": 76
        }
      ]
    },
    {
      "cell_type": "markdown",
      "metadata": {
        "id": "NXG0qmBBG76m",
        "colab_type": "text"
      },
      "source": [
        "실습을 통해 직접 응집 확률을 계산해보겠습니다."
      ]
    },
    {
      "cell_type": "code",
      "metadata": {
        "id": "u25oZKTCG1rP",
        "colab_type": "code",
        "colab": {
          "base_uri": "https://localhost:8080/",
          "height": 34
        },
        "outputId": "7d5c27e7-87be-40fe-e8e1-d40ea8ceb745"
      },
      "source": [
        "word_score_table[\"반포한\"].cohesion_forward"
      ],
      "execution_count": null,
      "outputs": [
        {
          "output_type": "execute_result",
          "data": {
            "text/plain": [
              "0.08838002913645132"
            ]
          },
          "metadata": {
            "tags": []
          },
          "execution_count": 79
        }
      ]
    },
    {
      "cell_type": "code",
      "metadata": {
        "id": "-sekKNFNG-d3",
        "colab_type": "code",
        "colab": {
          "base_uri": "https://localhost:8080/",
          "height": 34
        },
        "outputId": "007e93e2-92fb-4699-fac4-104709d38804"
      },
      "source": [
        "word_score_table[\"반포한강\"].cohesion_forward"
      ],
      "execution_count": null,
      "outputs": [
        {
          "output_type": "execute_result",
          "data": {
            "text/plain": [
              "0.19841268168224552"
            ]
          },
          "metadata": {
            "tags": []
          },
          "execution_count": 80
        }
      ]
    },
    {
      "cell_type": "code",
      "metadata": {
        "id": "tRT7n6N3G_TI",
        "colab_type": "code",
        "colab": {
          "base_uri": "https://localhost:8080/",
          "height": 34
        },
        "outputId": "1706fd48-1353-45d9-fd3c-af45fb646566"
      },
      "source": [
        "word_score_table[\"반포한강공\"].cohesion_forward"
      ],
      "execution_count": null,
      "outputs": [
        {
          "output_type": "execute_result",
          "data": {
            "text/plain": [
              "0.2972877884078849"
            ]
          },
          "metadata": {
            "tags": []
          },
          "execution_count": 81
        }
      ]
    },
    {
      "cell_type": "code",
      "metadata": {
        "id": "hKE32nDKHHo7",
        "colab_type": "code",
        "colab": {
          "base_uri": "https://localhost:8080/",
          "height": 34
        },
        "outputId": "2c810fc5-f145-44c8-a2eb-3cb4c7b69a62"
      },
      "source": [
        "word_score_table[\"반포한강공원\"].cohesion_forward"
      ],
      "execution_count": null,
      "outputs": [
        {
          "output_type": "execute_result",
          "data": {
            "text/plain": [
              "0.37891487632839754"
            ]
          },
          "metadata": {
            "tags": []
          },
          "execution_count": 84
        }
      ]
    },
    {
      "cell_type": "code",
      "metadata": {
        "id": "gVpqoRvfHI5K",
        "colab_type": "code",
        "colab": {
          "base_uri": "https://localhost:8080/",
          "height": 34
        },
        "outputId": "1dda7e90-bc2c-4607-b16e-29c64f949659"
      },
      "source": [
        "word_score_table[\"반포한강공원에\"].cohesion_forward"
      ],
      "execution_count": null,
      "outputs": [
        {
          "output_type": "execute_result",
          "data": {
            "text/plain": [
              "0.33492963377557666"
            ]
          },
          "metadata": {
            "tags": []
          },
          "execution_count": 88
        }
      ]
    },
    {
      "cell_type": "markdown",
      "metadata": {
        "id": "VVfhi2tTHPVl",
        "colab_type": "text"
      },
      "source": [
        "## soynlp의 브랜칭 엔트로피(branching entropy)"
      ]
    },
    {
      "cell_type": "markdown",
      "metadata": {
        "id": "QzzaSHi3HQC3",
        "colab_type": "text"
      },
      "source": [
        "Branching Entropy는 확률 분포의 엔트로피값을 사용합니다.  이는 주어진 문자열에서 얼마나 다음 문자가 등장할 수 있는지를 판단하는 척도입니다. 이해를 위해 퀴즈를 내보겠습니다. 제가 어떤 단어를 생각 중인데, 한 문자씩 말해드릴테니까 매번 다음 문자를 맞추는 것이 퀴즈입니다.\n",
        "\n",
        "첫번째 문자는 '디'입니다. 다음에 등장할 문자를 맞춰보세요. 솔직히 가늠이 잘 안 가지요? '디'로 시작하는 단어가 얼마나 많은데요. 이걸 어떻게 맞추냐구요. 정답은 '스' 입니다.\n",
        "\n",
        "이제 '디스'까지 나왔네요. '디스 '다음 문자는 뭘까요? 벌써 정답 단어를 예측한 분도 있을테고, 여전히 가늠이 잘 안가시는 분도 있을 거에요. '디스카운트'라는 단어가 있으니까 '카'일까? 아니면 '디스코드'라는 단어가 있으니까 '코'인가? 생각해보니 '디스코'가 정답일 수도 있겠네요. 그러면 '코'인가? '디스아너드'라는 게임이 있으니까 '아'? 전부 땡땡땡! 이 단어들을 생각하신 분들은 전부 틀렸습니다. 정답은 '플'이었습니다.\n",
        "\n",
        "'디스플'까지 왔습니다. 다음 문자 맞춰보세요. 이제 좀 명백해지는군요. 이 정도 되면 헷갈리시는 분들은 거의 없을거에요. 정답은 '레'입니다. '디스플레' 다음에는 어떤 문자일까요? 너무 명백해서 문제라고 보기도 어려워졌어요. 정답은 '이'입니다. 제가 생각한 단어는 '디스플레이'였습니다!\n",
        "\n",
        "저는 지금 브랜칭 엔트로피를 시뮬레이션한 겁니다. 브랜칭 엔트로피를 주어진 문자 시퀀스에서 다음 문자 예측을 위해 헷갈리는 정도로 비유해봅시다. 브랜칭 엔트로피의 값은 하나의 완성된 단어에 가까워질수록 문맥으로 인해 점점 정확히 예측할 수 있게 되면서 점점 줄어듭니다. 실습해볼게요."
      ]
    },
    {
      "cell_type": "code",
      "metadata": {
        "id": "WIitCxwbHRn3",
        "colab_type": "code",
        "colab": {
          "base_uri": "https://localhost:8080/",
          "height": 34
        },
        "outputId": "0a6fe423-0cd8-4b8c-95fb-e2accae83aba"
      },
      "source": [
        "word_score_table[\"디스\"].right_branching_entropy"
      ],
      "execution_count": null,
      "outputs": [
        {
          "output_type": "execute_result",
          "data": {
            "text/plain": [
              "1.6371694761537934"
            ]
          },
          "metadata": {
            "tags": []
          },
          "execution_count": 86
        }
      ]
    },
    {
      "cell_type": "code",
      "metadata": {
        "id": "JnKStLHyHXam",
        "colab_type": "code",
        "colab": {
          "base_uri": "https://localhost:8080/",
          "height": 34
        },
        "outputId": "1ca8ab95-88ad-4e33-d5be-5f1ee8017969"
      },
      "source": [
        "word_score_table[\"디스플\"].right_branching_entropy"
      ],
      "execution_count": null,
      "outputs": [
        {
          "output_type": "execute_result",
          "data": {
            "text/plain": [
              "-0.0"
            ]
          },
          "metadata": {
            "tags": []
          },
          "execution_count": 87
        }
      ]
    },
    {
      "cell_type": "markdown",
      "metadata": {
        "id": "8fzudrAAHccz",
        "colab_type": "text"
      },
      "source": [
        "'디스' 다음에는 다양한 문자가 올 수 있으니까 1.63이라는 값을 가지는 반면, '디스플'이라는 문자열 다음에는 다음 문자로 '레'가 오는 것이 너무나 명백하기 때문에 0이란 값을 가집니다."
      ]
    },
    {
      "cell_type": "code",
      "metadata": {
        "id": "yRKwW0q4HenU",
        "colab_type": "code",
        "colab": {
          "base_uri": "https://localhost:8080/",
          "height": 34
        },
        "outputId": "3715fc7e-318d-4c32-cf06-6066fc2bfa72"
      },
      "source": [
        "word_score_table[\"디스플레\"].right_branching_entropy"
      ],
      "execution_count": null,
      "outputs": [
        {
          "output_type": "execute_result",
          "data": {
            "text/plain": [
              "-0.0"
            ]
          },
          "metadata": {
            "tags": []
          },
          "execution_count": 89
        }
      ]
    },
    {
      "cell_type": "code",
      "metadata": {
        "id": "GCLchyiFHgHA",
        "colab_type": "code",
        "colab": {
          "base_uri": "https://localhost:8080/",
          "height": 34
        },
        "outputId": "01716d19-6bda-4cd0-aeb0-37db333a6f51"
      },
      "source": [
        "word_score_table[\"디스플레이\"].right_branching_entropy"
      ],
      "execution_count": null,
      "outputs": [
        {
          "output_type": "execute_result",
          "data": {
            "text/plain": [
              "3.1400392861792916"
            ]
          },
          "metadata": {
            "tags": []
          },
          "execution_count": 91
        }
      ]
    },
    {
      "cell_type": "markdown",
      "metadata": {
        "id": "5ktRy49nHlcR",
        "colab_type": "text"
      },
      "source": [
        "갑자기 값이 급증합니다. 그 이유는 문자 시퀀스 '디스플레이'라는 문자 시퀀스 다음에는 조사나 다른 단어와 같은 다양한 경우가 있을 수 있기 때문입니다. 이는 하나의 단어가 끝나면 그 경계 부분부터 다시 브랜칭 엔트로피 값이 증가하게 됨을 의미합니다. 그리고 이 값으로 단어를 판단하는 것이 가능하겠죠?"
      ]
    },
    {
      "cell_type": "markdown",
      "metadata": {
        "id": "DigXtkNpHnuZ",
        "colab_type": "text"
      },
      "source": [
        "## soynlp의 L tokenizer"
      ]
    },
    {
      "cell_type": "markdown",
      "metadata": {
        "id": "_-KO3A2HHsam",
        "colab_type": "text"
      },
      "source": [
        "한국어는 띄어쓰기 단위로 나눈 어절 토큰은 주로 L 토큰 + R 토큰의 형식을 가질 때가 많습니다. 예를 들어서 '공원에'는 '공원 + 에'로 나눌 수 있겠지요. 또는 '공부하는'은 '공부 + 하는'으로 나눌 수도 있을 것입니다. L 토크나이저는 L 토큰 + R 토큰으로 나누되, 분리 기준을 점수가 가장 높은 L 토큰을 찾아내는 원리를 가지고 있습니다."
      ]
    },
    {
      "cell_type": "code",
      "metadata": {
        "id": "uXrktIsSHrHo",
        "colab_type": "code",
        "colab": {
          "base_uri": "https://localhost:8080/",
          "height": 34
        },
        "outputId": "732b18b6-17fc-4e9c-fb20-22924c32e607"
      },
      "source": [
        "from soynlp.tokenizer import LTokenizer\n",
        "\n",
        "scores = {word:score.cohesion_forward for word, score in word_score_table.items()}\n",
        "l_tokenizer = LTokenizer(scores=scores)\n",
        "l_tokenizer.tokenize(\"국제사회와 우리의 노력들로 범죄를 척결하자\", flatten=False)"
      ],
      "execution_count": null,
      "outputs": [
        {
          "output_type": "execute_result",
          "data": {
            "text/plain": [
              "[('국제사회', '와'), ('우리', '의'), ('노력', '들로'), ('범죄', '를'), ('척결', '하자')]"
            ]
          },
          "metadata": {
            "tags": []
          },
          "execution_count": 93
        }
      ]
    },
    {
      "cell_type": "markdown",
      "metadata": {
        "id": "nh-YlIvnHySl",
        "colab_type": "text"
      },
      "source": [
        "## 최대 점수 토크나이저"
      ]
    },
    {
      "cell_type": "markdown",
      "metadata": {
        "id": "Ml5hwIWTH0fh",
        "colab_type": "text"
      },
      "source": [
        "최대 점수 토크나이저는 띄어쓰기가 되지 않는 문장에서 점수가 높은 글자 시퀀스를 순차적으로 찾아내는 토크나이저입니다. 띄어쓰기가 되어 있지 않은 문장을 넣어서 점수를 통해 토큰화 된 결과를 보겠습니다."
      ]
    },
    {
      "cell_type": "code",
      "metadata": {
        "id": "Y6k2y_q3HuAY",
        "colab_type": "code",
        "colab": {
          "base_uri": "https://localhost:8080/",
          "height": 34
        },
        "outputId": "2efac967-03a1-48aa-8f93-128215e4e0cf"
      },
      "source": [
        "from soynlp.tokenizer import MaxScoreTokenizer\n",
        "\n",
        "maxscore_tokenizer = MaxScoreTokenizer(scores=scores)\n",
        "maxscore_tokenizer.tokenize(\"국제사회와우리의노력들로범죄를척결하자\")"
      ],
      "execution_count": null,
      "outputs": [
        {
          "output_type": "execute_result",
          "data": {
            "text/plain": [
              "['국제사회', '와', '우리', '의', '노력', '들로', '범죄', '를', '척결', '하자']"
            ]
          },
          "metadata": {
            "tags": []
          },
          "execution_count": 94
        }
      ]
    }
  ]
}