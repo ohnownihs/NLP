{
  "nbformat": 4,
  "nbformat_minor": 0,
  "metadata": {
    "colab": {
      "name": "Learning_Spoons_5강_(개체명_인식)_1.ipynb",
      "provenance": [],
      "include_colab_link": true
    },
    "kernelspec": {
      "name": "python3",
      "display_name": "Python 3"
    },
    "accelerator": "GPU"
  },
  "cells": [
    {
      "cell_type": "markdown",
      "metadata": {
        "id": "view-in-github",
        "colab_type": "text"
      },
      "source": [
        "<a href=\"https://colab.research.google.com/github/ohnownihs/NLP/blob/master/Learning_Spoons_5%EA%B0%95_(%EA%B0%9C%EC%B2%B4%EB%AA%85_%EC%9D%B8%EC%8B%9D)_1.ipynb\" target=\"_parent\"><img src=\"https://colab.research.google.com/assets/colab-badge.svg\" alt=\"Open In Colab\"/></a>"
      ]
    },
    {
      "cell_type": "markdown",
      "metadata": {
        "id": "oBfWlhuw7MoQ",
        "colab_type": "text"
      },
      "source": [
        "# 양방향 LSTM을 이용한 영어 품사 태깅"
      ]
    },
    {
      "cell_type": "markdown",
      "metadata": {
        "id": "X_-Y-NaDIVO1",
        "colab_type": "text"
      },
      "source": [
        "## 데이터 로드하기"
      ]
    },
    {
      "cell_type": "code",
      "metadata": {
        "id": "MeG8_MhDFy-8",
        "colab_type": "code",
        "colab": {}
      },
      "source": [
        "import nltk\n",
        "import numpy as np\n",
        "%matplotlib inline\n",
        "import matplotlib.pyplot as plt\n",
        "from tensorflow.keras.preprocessing.text import Tokenizer\n",
        "from tensorflow.keras.preprocessing.sequence import pad_sequences\n",
        "from tensorflow.keras.utils import to_categorical\n",
        "from sklearn.model_selection import train_test_split"
      ],
      "execution_count": null,
      "outputs": []
    },
    {
      "cell_type": "code",
      "metadata": {
        "id": "rWnaV9PmF82y",
        "colab_type": "code",
        "colab": {
          "base_uri": "https://localhost:8080/",
          "height": 70
        },
        "outputId": "bdca5c61-17d7-45f4-a7f0-1a1889b3f684"
      },
      "source": [
        "nltk.download('treebank')"
      ],
      "execution_count": null,
      "outputs": [
        {
          "output_type": "stream",
          "text": [
            "[nltk_data] Downloading package treebank to /root/nltk_data...\n",
            "[nltk_data]   Unzipping corpora/treebank.zip.\n"
          ],
          "name": "stdout"
        },
        {
          "output_type": "execute_result",
          "data": {
            "text/plain": [
              "True"
            ]
          },
          "metadata": {
            "tags": []
          },
          "execution_count": 2
        }
      ]
    },
    {
      "cell_type": "code",
      "metadata": {
        "id": "IJSzPSCeF6kb",
        "colab_type": "code",
        "colab": {
          "base_uri": "https://localhost:8080/",
          "height": 34
        },
        "outputId": "a8182615-a5c1-4e61-f91b-0782798a7f08"
      },
      "source": [
        "tagged_sentences = nltk.corpus.treebank.tagged_sents() # 토큰화에 품사 태깅이 된 데이터 받아오기\n",
        "print(\"품사 태깅이 된 문장 개수: \", len(tagged_sentences)) # 문장 샘플의 개수 출력"
      ],
      "execution_count": null,
      "outputs": [
        {
          "output_type": "stream",
          "text": [
            "품사 태깅이 된 문장 개수:  3914\n"
          ],
          "name": "stdout"
        }
      ]
    },
    {
      "cell_type": "code",
      "metadata": {
        "id": "iUlTYOCdGAQb",
        "colab_type": "code",
        "colab": {
          "base_uri": "https://localhost:8080/",
          "height": 54
        },
        "outputId": "f5bdd6e5-2bb1-46a3-c486-565433a9d07e"
      },
      "source": [
        "print(tagged_sentences[0]) # 첫번째 샘플 출력"
      ],
      "execution_count": null,
      "outputs": [
        {
          "output_type": "stream",
          "text": [
            "[('Pierre', 'NNP'), ('Vinken', 'NNP'), (',', ','), ('61', 'CD'), ('years', 'NNS'), ('old', 'JJ'), (',', ','), ('will', 'MD'), ('join', 'VB'), ('the', 'DT'), ('board', 'NN'), ('as', 'IN'), ('a', 'DT'), ('nonexecutive', 'JJ'), ('director', 'NN'), ('Nov.', 'NNP'), ('29', 'CD'), ('.', '.')]\n"
          ],
          "name": "stdout"
        }
      ]
    },
    {
      "cell_type": "markdown",
      "metadata": {
        "id": "91LL4PeCIYeC",
        "colab_type": "text"
      },
      "source": [
        "## 데이터와 레이블 분리하기"
      ]
    },
    {
      "cell_type": "markdown",
      "metadata": {
        "id": "CwdEfHhdGIzG",
        "colab_type": "text"
      },
      "source": [
        "품사 태깅 전처리가 수행된 첫번째 문장이 출력된 것을 볼 수 있습니다. 이러한 문장 샘플이 총 3,914개가 있습니다. 그런데 훈련을 시키려면 훈련 데이터에서 단어에 해당되는 부분과 품사 태깅 정보에 해당되는 부분을 분리시켜야 합니다. 즉, [('Pierre', 'NNP'), ('Vinken', 'NNP')]와 같은 문장 샘플이 있다면 Pierre과 Vinken을 같이 저장하고, NNP와 NNP를 같이 저장할 필요가 있습니다.\n",
        "\n",
        "이런 경우 파이썬 함수 중에서 zip()함수가 유용한 역할을 합니다. zip()함수는 동일한 개수를 가지는 시퀀스 자료형에서 각 순서에 등장하는 원소들끼리 묶어주는 역할을 합니다."
      ]
    },
    {
      "cell_type": "code",
      "metadata": {
        "id": "E3hM6pmIGEkT",
        "colab_type": "code",
        "colab": {}
      },
      "source": [
        "sentences, pos_tags = [], [] \n",
        "for tagged_sentence in tagged_sentences: # 3,914개의 문장 샘플을 1개씩 불러온다.\n",
        "    sentence, tag_info = zip(*tagged_sentence) # 각 샘플에서 단어들은 sentence에 품사 태깅 정보들은 tag_info에 저장한다.\n",
        "    sentences.append(list(sentence)) # 각 샘플에서 단어 정보만 저장한다.\n",
        "    pos_tags.append(list(tag_info)) # 각 샘플에서 품사 태깅 정보만 저장한다."
      ],
      "execution_count": null,
      "outputs": []
    },
    {
      "cell_type": "code",
      "metadata": {
        "id": "EDY-LI14GKym",
        "colab_type": "code",
        "colab": {
          "base_uri": "https://localhost:8080/",
          "height": 52
        },
        "outputId": "027a5093-539e-4a48-a5e0-63b39d4b22ac"
      },
      "source": [
        "print(sentences[0])\n",
        "print(pos_tags[0])"
      ],
      "execution_count": null,
      "outputs": [
        {
          "output_type": "stream",
          "text": [
            "['Pierre', 'Vinken', ',', '61', 'years', 'old', ',', 'will', 'join', 'the', 'board', 'as', 'a', 'nonexecutive', 'director', 'Nov.', '29', '.']\n",
            "['NNP', 'NNP', ',', 'CD', 'NNS', 'JJ', ',', 'MD', 'VB', 'DT', 'NN', 'IN', 'DT', 'JJ', 'NN', 'NNP', 'CD', '.']\n"
          ],
          "name": "stdout"
        }
      ]
    },
    {
      "cell_type": "code",
      "metadata": {
        "id": "DqFzwn9YGM4a",
        "colab_type": "code",
        "colab": {
          "base_uri": "https://localhost:8080/",
          "height": 52
        },
        "outputId": "89e199cf-f685-4f6b-8f6c-ab8db06a3331"
      },
      "source": [
        "print(sentences[8])\n",
        "print(pos_tags[8])"
      ],
      "execution_count": null,
      "outputs": [
        {
          "output_type": "stream",
          "text": [
            "['We', \"'re\", 'talking', 'about', 'years', 'ago', 'before', 'anyone', 'heard', 'of', 'asbestos', 'having', 'any', 'questionable', 'properties', '.']\n",
            "['PRP', 'VBP', 'VBG', 'IN', 'NNS', 'IN', 'IN', 'NN', 'VBD', 'IN', 'NN', 'VBG', 'DT', 'JJ', 'NNS', '.']\n"
          ],
          "name": "stdout"
        }
      ]
    },
    {
      "cell_type": "markdown",
      "metadata": {
        "id": "LE9fhyZwI4Yq",
        "colab_type": "text"
      },
      "source": [
        "## 단어 집합 만들기 (데이터와 레이블)"
      ]
    },
    {
      "cell_type": "code",
      "metadata": {
        "id": "V7myuOX0GQDZ",
        "colab_type": "code",
        "colab": {}
      },
      "source": [
        "def tokenize(samples):\n",
        "  tokenizer = Tokenizer()\n",
        "  tokenizer.fit_on_texts(samples)\n",
        "  return tokenizer"
      ],
      "execution_count": null,
      "outputs": []
    },
    {
      "cell_type": "code",
      "metadata": {
        "id": "F7QEEl_NGStx",
        "colab_type": "code",
        "colab": {}
      },
      "source": [
        "src_tokenizer = tokenize(sentences)\n",
        "tar_tokenizer = tokenize(pos_tags)"
      ],
      "execution_count": null,
      "outputs": []
    },
    {
      "cell_type": "code",
      "metadata": {
        "id": "VFA4gybEGTpK",
        "colab_type": "code",
        "colab": {
          "base_uri": "https://localhost:8080/",
          "height": 52
        },
        "outputId": "3ac05b71-fafd-47aa-8a13-0c5a45d045a0"
      },
      "source": [
        "vocab_size = len(src_tokenizer.word_index) + 1\n",
        "tag_size = len(tar_tokenizer.word_index) + 1\n",
        "print('단어 집합의 크기 : {}'.format(vocab_size))\n",
        "print('태깅 정보 집합의 크기 : {}'.format(tag_size))"
      ],
      "execution_count": null,
      "outputs": [
        {
          "output_type": "stream",
          "text": [
            "단어 집합의 크기 : 11388\n",
            "태깅 정보 집합의 크기 : 47\n"
          ],
          "name": "stdout"
        }
      ]
    },
    {
      "cell_type": "markdown",
      "metadata": {
        "id": "7AfIwyPEI9r5",
        "colab_type": "text"
      },
      "source": [
        "## 정수 인코딩 (데이터와 레이블)"
      ]
    },
    {
      "cell_type": "code",
      "metadata": {
        "id": "hZ0PrnIrGVKR",
        "colab_type": "code",
        "colab": {}
      },
      "source": [
        "X_train = src_tokenizer.texts_to_sequences(sentences)\n",
        "y_train = tar_tokenizer.texts_to_sequences(pos_tags)"
      ],
      "execution_count": null,
      "outputs": []
    },
    {
      "cell_type": "code",
      "metadata": {
        "id": "7XsHlIqsGXMh",
        "colab_type": "code",
        "colab": {
          "base_uri": "https://localhost:8080/",
          "height": 52
        },
        "outputId": "00656fb3-fa29-4fee-ee14-83d8d1d3550e"
      },
      "source": [
        "print(X_train[:2])\n",
        "print(y_train[:2])"
      ],
      "execution_count": null,
      "outputs": [
        {
          "output_type": "stream",
          "text": [
            "[[5601, 3746, 1, 2024, 86, 331, 1, 46, 2405, 2, 131, 27, 6, 2025, 332, 459, 2026, 3], [31, 3746, 20, 177, 4, 5602, 2915, 1, 2, 2916, 637, 147, 3]]\n",
            "[[3, 3, 8, 10, 6, 7, 8, 21, 13, 4, 1, 2, 4, 7, 1, 3, 10, 9], [3, 3, 17, 1, 2, 3, 3, 8, 4, 3, 19, 1, 9]]\n"
          ],
          "name": "stdout"
        }
      ]
    },
    {
      "cell_type": "code",
      "metadata": {
        "id": "kQfgsQaKGb5q",
        "colab_type": "code",
        "colab": {
          "base_uri": "https://localhost:8080/",
          "height": 318
        },
        "outputId": "099df0d6-b860-42c5-8df9-6e8902480f58"
      },
      "source": [
        "print('샘플의 최대 길이 : %d' % max(len(l) for l in X_train))\n",
        "print('샘플의 평균 길이 : %f' % (sum(map(len, X_train))/len(X_train)))\n",
        "plt.hist([len(s) for s in X_train], bins=50)\n",
        "plt.xlabel('length of samples')\n",
        "plt.ylabel('number of samples')\n",
        "plt.show()"
      ],
      "execution_count": null,
      "outputs": [
        {
          "output_type": "stream",
          "text": [
            "샘플의 최대 길이 : 271\n",
            "샘플의 평균 길이 : 25.722024\n"
          ],
          "name": "stdout"
        },
        {
          "output_type": "display_data",
          "data": {
            "image/png": "[encoded data removed]",
            "text/plain": [
              "<Figure size 432x288 with 1 Axes>"
            ]
          },
          "metadata": {
            "tags": [],
            "needs_background": "light"
          }
        }
      ]
    },
    {
      "cell_type": "code",
      "metadata": {
        "id": "AjdtIfNWGgFN",
        "colab_type": "code",
        "colab": {
          "base_uri": "https://localhost:8080/",
          "height": 318
        },
        "outputId": "6b898e40-cf0c-4056-9696-22215969ff9c"
      },
      "source": [
        "print('샘플의 최대 길이 : %d' % max(len(l) for l in y_train))\n",
        "print('샘플의 평균 길이 : %f' % (sum(map(len, y_train))/len(y_train)))\n",
        "plt.hist([len(s) for s in X_train], bins=50)\n",
        "plt.xlabel('length of samples')\n",
        "plt.ylabel('number of samples')\n",
        "plt.show()"
      ],
      "execution_count": null,
      "outputs": [
        {
          "output_type": "stream",
          "text": [
            "샘플의 최대 길이 : 271\n",
            "샘플의 평균 길이 : 25.722024\n"
          ],
          "name": "stdout"
        },
        {
          "output_type": "display_data",
          "data": {
            "image/png": "[encoded data removed]",
            "text/plain": [
              "<Figure size 432x288 with 1 Axes>"
            ]
          },
          "metadata": {
            "tags": [],
            "needs_background": "light"
          }
        }
      ]
    },
    {
      "cell_type": "markdown",
      "metadata": {
        "id": "9wvITg_HJVge",
        "colab_type": "text"
      },
      "source": [
        "## 패딩(Padding)"
      ]
    },
    {
      "cell_type": "code",
      "metadata": {
        "id": "u5lbVwPpGYfE",
        "colab_type": "code",
        "colab": {}
      },
      "source": [
        "max_len = 150\n",
        "X_train = pad_sequences(X_train, padding='post', maxlen = max_len)\n",
        "y_train = pad_sequences(y_train, padding='post', maxlen = max_len)"
      ],
      "execution_count": null,
      "outputs": []
    },
    {
      "cell_type": "markdown",
      "metadata": {
        "id": "KcYn83RVJgYZ",
        "colab_type": "text"
      },
      "source": [
        "## 훈련 데이터와 테스트 데이터 분리"
      ]
    },
    {
      "cell_type": "code",
      "metadata": {
        "id": "jn2Ow20oGj7q",
        "colab_type": "code",
        "colab": {}
      },
      "source": [
        "X_train, X_test, y_train, y_test = train_test_split(X_train, y_train, test_size=.2, random_state=777)"
      ],
      "execution_count": null,
      "outputs": []
    },
    {
      "cell_type": "markdown",
      "metadata": {
        "id": "WcLsQ7kgJXKP",
        "colab_type": "text"
      },
      "source": [
        "## 레이블에 대한 원-핫 인코딩"
      ]
    },
    {
      "cell_type": "code",
      "metadata": {
        "id": "tVmWRYXEGmQ0",
        "colab_type": "code",
        "colab": {}
      },
      "source": [
        "y_train = to_categorical(y_train, num_classes=tag_size)\n",
        "y_test = to_categorical(y_test, num_classes=tag_size)"
      ],
      "execution_count": null,
      "outputs": []
    },
    {
      "cell_type": "code",
      "metadata": {
        "id": "xcbcDTOoGnmb",
        "colab_type": "code",
        "colab": {
          "base_uri": "https://localhost:8080/",
          "height": 87
        },
        "outputId": "8f9ace2b-9b3f-4f97-d6f2-5cee7700b781"
      },
      "source": [
        "print('훈련 샘플 문장의 크기 : {}'.format(X_train.shape))\n",
        "print('훈련 샘플 레이블의 크기 : {}'.format(y_train.shape))\n",
        "print('테스트 샘플 문장의 크기 : {}'.format(X_test.shape))\n",
        "print('테스트 샘플 레이블의 크기 : {}'.format(y_test.shape))"
      ],
      "execution_count": null,
      "outputs": [
        {
          "output_type": "stream",
          "text": [
            "훈련 샘플 문장의 크기 : (3131, 150)\n",
            "훈련 샘플 레이블의 크기 : (3131, 150, 47)\n",
            "테스트 샘플 문장의 크기 : (783, 150)\n",
            "테스트 샘플 레이블의 크기 : (783, 150, 47)\n"
          ],
          "name": "stdout"
        }
      ]
    },
    {
      "cell_type": "markdown",
      "metadata": {
        "id": "t6T3TQx8KC0N",
        "colab_type": "text"
      },
      "source": [
        "## 양방향 LSTM으로 시퀀스 레이블링하기"
      ]
    },
    {
      "cell_type": "code",
      "metadata": {
        "id": "qcmSwNn5GoqR",
        "colab_type": "code",
        "colab": {
          "base_uri": "https://localhost:8080/",
          "height": 34
        },
        "outputId": "9c10abbc-63d7-49d8-a851-17911e80cfad"
      },
      "source": [
        "from keras.models import Sequential\n",
        "from keras.layers import Dense, LSTM, InputLayer, Bidirectional, TimeDistributed, Embedding\n",
        "from keras.optimizers import Adam"
      ],
      "execution_count": null,
      "outputs": [
        {
          "output_type": "stream",
          "text": [
            "Using TensorFlow backend.\n"
          ],
          "name": "stderr"
        }
      ]
    },
    {
      "cell_type": "code",
      "metadata": {
        "id": "p9gQmY7XGrCc",
        "colab_type": "code",
        "colab": {}
      },
      "source": [
        "model = Sequential()\n",
        "model.add(Embedding(vocab_size, 128, input_length=max_len, mask_zero=True))\n",
        "model.add(Bidirectional(LSTM(256, return_sequences=True)))\n",
        "model.add(TimeDistributed(Dense(tag_size, activation=('softmax'))))\n",
        "model.compile(loss='categorical_crossentropy', optimizer=Adam(0.001), metrics=['accuracy'])"
      ],
      "execution_count": null,
      "outputs": []
    },
    {
      "cell_type": "code",
      "metadata": {
        "id": "MgLykQPlGsLt",
        "colab_type": "code",
        "colab": {
          "base_uri": "https://localhost:8080/",
          "height": 301
        },
        "outputId": "e2e09e4f-088a-44d5-aab2-fe439e0d73bf"
      },
      "source": [
        "model.fit(X_train, y_train, batch_size=128, epochs=6,  validation_data=(X_test, y_test))"
      ],
      "execution_count": null,
      "outputs": [
        {
          "output_type": "stream",
          "text": [
            "/usr/local/lib/python3.6/dist-packages/tensorflow/python/framework/indexed_slices.py:434: UserWarning: Converting sparse IndexedSlices to a dense Tensor of unknown shape. This may consume a large amount of memory.\n",
            "  \"Converting sparse IndexedSlices to a dense Tensor of unknown shape. \"\n"
          ],
          "name": "stderr"
        },
        {
          "output_type": "stream",
          "text": [
            "Train on 3131 samples, validate on 783 samples\n",
            "Epoch 1/6\n",
            "3131/3131 [==============================] - 28s 9ms/step - loss: 0.5777 - accuracy: 0.1375 - val_loss: 0.5089 - val_accuracy: 0.1468\n",
            "Epoch 2/6\n",
            "3131/3131 [==============================] - 25s 8ms/step - loss: 0.4922 - accuracy: 0.2294 - val_loss: 0.4603 - val_accuracy: 0.3389\n",
            "Epoch 3/6\n",
            "3131/3131 [==============================] - 25s 8ms/step - loss: 0.4032 - accuracy: 0.4385 - val_loss: 0.3183 - val_accuracy: 0.5062\n",
            "Epoch 4/6\n",
            "3131/3131 [==============================] - 25s 8ms/step - loss: 0.2511 - accuracy: 0.6189 - val_loss: 0.1848 - val_accuracy: 0.7334\n",
            "Epoch 5/6\n",
            "3131/3131 [==============================] - 25s 8ms/step - loss: 0.1322 - accuracy: 0.8307 - val_loss: 0.1010 - val_accuracy: 0.8651\n",
            "Epoch 6/6\n",
            "3131/3131 [==============================] - 25s 8ms/step - loss: 0.0676 - accuracy: 0.9155 - val_loss: 0.0669 - val_accuracy: 0.9043\n"
          ],
          "name": "stdout"
        },
        {
          "output_type": "execute_result",
          "data": {
            "text/plain": [
              "<keras.callbacks.callbacks.History at 0x7f463a7bf4e0>"
            ]
          },
          "metadata": {
            "tags": []
          },
          "execution_count": 22
        }
      ]
    },
    {
      "cell_type": "markdown",
      "metadata": {
        "id": "Sk7gCqQXK3xt",
        "colab_type": "text"
      },
      "source": [
        "## 테스트 데이터에 대한 평가"
      ]
    },
    {
      "cell_type": "code",
      "metadata": {
        "id": "efcQ3tauGuF3",
        "colab_type": "code",
        "colab": {
          "base_uri": "https://localhost:8080/",
          "height": 70
        },
        "outputId": "b1dbeea1-022d-4af7-f63c-adf19a541b88"
      },
      "source": [
        "print(\"\\n 테스트 정확도: %.4f\" % (model.evaluate(X_test, y_test)[1]))"
      ],
      "execution_count": null,
      "outputs": [
        {
          "output_type": "stream",
          "text": [
            "783/783 [==============================] - 3s 4ms/step\n",
            "\n",
            " 테스트 정확도: 0.9043\n"
          ],
          "name": "stdout"
        }
      ]
    },
    {
      "cell_type": "code",
      "metadata": {
        "id": "KMsuUCmYGvoh",
        "colab_type": "code",
        "colab": {
          "base_uri": "https://localhost:8080/",
          "height": 461
        },
        "outputId": "6e908422-654e-467d-c1bd-29990e0e1e50"
      },
      "source": [
        "index_to_word=src_tokenizer.index_word\n",
        "index_to_tag=tar_tokenizer.index_word\n",
        "\n",
        "i=10 # 확인하고 싶은 테스트용 샘플의 인덱스.\n",
        "y_predicted = model.predict(np.array([X_test[i]])) # 입력한 테스트용 샘플에 대해서 예측 y를 리턴\n",
        "y_predicted = np.argmax(y_predicted, axis=-1) # 원-핫 인코딩을 다시 정수 인코딩으로 변경함.\n",
        "true = np.argmax(y_test[i], -1) # 원-핫 인코딩을 다시 정수 인코딩으로 변경함.\n",
        "\n",
        "print(\"{:15}|{:5}|{}\".format(\"단어\", \"실제값\", \"예측값\"))\n",
        "print(35 * \"-\")\n",
        "\n",
        "for w, t, pred in zip(X_test[i], true, y_predicted[0]):\n",
        "    if w != 0: # PAD값은 제외함.\n",
        "        print(\"{:17}: {:7} {}\".format(index_to_word[w], index_to_tag[t].upper(), index_to_tag[pred].upper()))"
      ],
      "execution_count": null,
      "outputs": [
        {
          "output_type": "stream",
          "text": [
            "단어             |실제값  |예측값\n",
            "-----------------------------------\n",
            "in               : IN      IN\n",
            "addition         : NN      NN\n",
            ",                : ,       ,\n",
            "buick            : NNP     NNP\n",
            "is               : VBZ     VBZ\n",
            "a                : DT      DT\n",
            "relatively       : RB      RB\n",
            "respected        : VBN     VBN\n",
            "nameplate        : NN      NN\n",
            "among            : IN      IN\n",
            "american         : NNP     NNP\n",
            "express          : NNP     NNP\n",
            "card             : NN      NN\n",
            "holders          : NNS     NNS\n",
            ",                : ,       ,\n",
            "says             : VBZ     VBZ\n",
            "0                : -NONE-  -NONE-\n",
            "*t*-1            : -NONE-  -NONE-\n",
            "an               : DT      DT\n",
            "american         : NNP     NNP\n",
            "express          : NNP     NNP\n",
            "spokeswoman      : NN      NN\n",
            ".                : .       .\n"
          ],
          "name": "stdout"
        }
      ]
    },
    {
      "cell_type": "markdown",
      "metadata": {
        "id": "Cfeq5SrYFz8p",
        "colab_type": "text"
      },
      "source": [
        "# 양방향 LSTM을 이용한 영어 개체명 인식"
      ]
    },
    {
      "cell_type": "markdown",
      "metadata": {
        "id": "Xgo7yya-7Rtd",
        "colab_type": "text"
      },
      "source": [
        "## 데이터 로드하기"
      ]
    },
    {
      "cell_type": "code",
      "metadata": {
        "id": "WkZc_Ozv7QJN",
        "colab_type": "code",
        "colab": {}
      },
      "source": [
        "import urllib.request\n",
        "import re\n",
        "%matplotlib inline\n",
        "import matplotlib.pyplot as plt\n",
        "from tensorflow.keras.preprocessing.text import Tokenizer\n",
        "from tensorflow.keras.preprocessing.sequence import pad_sequences\n",
        "from tensorflow.keras.utils import to_categorical\n",
        "from sklearn.model_selection import train_test_split\n",
        "import numpy as np"
      ],
      "execution_count": null,
      "outputs": []
    },
    {
      "cell_type": "code",
      "metadata": {
        "id": "vCO66GJM7bcE",
        "colab_type": "code",
        "colab": {
          "base_uri": "https://localhost:8080/",
          "height": 34
        },
        "outputId": "b06e6343-6279-472c-d292-ab8af7bd8b53"
      },
      "source": [
        "urllib.request.urlretrieve(\"https://raw.githubusercontent.com/Franck-Dernoncourt/NeuroNER/master/neuroner/data/conll2003/en/train.txt\", filename=\"train.txt\")"
      ],
      "execution_count": null,
      "outputs": [
        {
          "output_type": "execute_result",
          "data": {
            "text/plain": [
              "('train.txt', <http.client.HTTPMessage at 0x7f2795590c18>)"
            ]
          },
          "metadata": {
            "tags": []
          },
          "execution_count": 10
        }
      ]
    },
    {
      "cell_type": "markdown",
      "metadata": {
        "id": "bAVuDVjt8gGe",
        "colab_type": "text"
      },
      "source": [
        "## 데이터 살펴보기 "
      ]
    },
    {
      "cell_type": "code",
      "metadata": {
        "id": "ev_N6fVJ8fWt",
        "colab_type": "code",
        "colab": {}
      },
      "source": [
        "f = open('train.txt', 'r')"
      ],
      "execution_count": null,
      "outputs": []
    },
    {
      "cell_type": "code",
      "metadata": {
        "id": "nuicOKKi8k3l",
        "colab_type": "code",
        "colab": {
          "base_uri": "https://localhost:8080/",
          "height": 230
        },
        "outputId": "ab136572-fc40-44fc-8118-8819fde61e23"
      },
      "source": [
        "# 불필요한 줄은 출력하지 않되, 데이터에서 12번째 줄까지 출력 \n",
        "i = 0\n",
        "for line in f:\n",
        "  if len(line) == 0 or line.startswith('-DOCSTART'):\n",
        "    continue\n",
        "  i = i + 1\n",
        "  if i == 1:\n",
        "    continue\n",
        "  print(line, end='')\n",
        "  if i == 13:\n",
        "    break"
      ],
      "execution_count": null,
      "outputs": [
        {
          "output_type": "stream",
          "text": [
            "EU NNP B-NP B-ORG\n",
            "rejects VBZ B-VP O\n",
            "German JJ B-NP B-MISC\n",
            "call NN I-NP O\n",
            "to TO B-VP O\n",
            "boycott VB I-VP O\n",
            "British JJ B-NP B-MISC\n",
            "lamb NN I-NP O\n",
            ". . O O\n",
            "\n",
            "Peter NNP B-NP B-PER\n",
            "Blackburn NNP I-NP I-PER\n"
          ],
          "name": "stdout"
        }
      ]
    },
    {
      "cell_type": "markdown",
      "metadata": {
        "id": "dWOJw8yk86kb",
        "colab_type": "text"
      },
      "source": [
        "  데이터의 형식은 [단어] [품사 태깅] [청크 태깅] [개체명 태깅]의 형식으로 되어있습니다.  \n",
        "\n",
        "품사 태깅이 의미하는 바는 아래 링크에서 자세하게 확인할 수 있는데, 예를 들어서 EU 옆에 붙어있는 NNP는 고유 명사 단수형을 의미하며, rejects 옆에 있는 VBZ는 3인칭 단수 동사 현재형을 의미합니다. (사실 이번 실습에서 중요하지는 않습니다.)\n",
        "https://www.ling.upenn.edu/courses/Fall_2003/ling001/penn_treebank_pos.html  \n",
        "\n",
        " 개체명 태깅의 경우에는 LOC는 location, ORG는 organization, PER은 person, MISC는 miscellaneous를 의미합니다. 해당 데이터는 BIO 표현 방법을 사용하고 있기 때문에, 개체명의 시작 부분이면서 Organization을 의미하는 German에는 B-ORG라는 개체명 태깅이 붙습니다. 다만, German 그 자체로 개체명 하나이기 때문에 거기서 개체명 인식은 종료되면서 뒤에 I가 별도로 붙는 단어가 나오지는 않았습니다. 이에 German 뒤에 나오는 call은 개체명이 아니기 때문에 O가 태깅이 됩니다.  \n",
        "\n",
        " 또 하나 기억해두어야할 것은. . O O 다음에 11번째 줄 Peter가 나오는 부분 사이에서 줄바꿈이 한 번 더 되어 있는데, 새로운 문장이 시작됨을 의미합니다.  \n",
        "\n",
        " 새로운 문장에서는 개체명이 하나의 단어로 끝나지 않았을 때, 어떻게 다음 단어로 개체명 인식이 이어지는지를 보여줍니다. Peter는 개체명이 시작되면서 person에 해당되기 때문에 B-PER이라는 개체명 태깅이 붙습니다. 그리고 아직 개체명에 대한 인식은 끝나지 않았으므로 뒤에 붙는 Blackburn에서는 I가 나오면서 I-PER이 개체명 태깅으로 붙습니다. 즉, Peter Blackburn이 person이라는 하나의 개체명입니다.  "
      ]
    },
    {
      "cell_type": "markdown",
      "metadata": {
        "id": "TyQi_Rl2_j2e",
        "colab_type": "text"
      },
      "source": [
        "## 간단한 전처리 후 샘플 저장하기"
      ]
    },
    {
      "cell_type": "code",
      "metadata": {
        "id": "7mH8-xeu7j-3",
        "colab_type": "code",
        "colab": {}
      },
      "source": [
        "f = open('train.txt', 'r')\n",
        "tagged_sentences = []\n",
        "sentence = []\n",
        "\n",
        "for line in f:\n",
        "    if len(line)==0 or line.startswith('-DOCSTART') or line[0]==\"\\n\":\n",
        "        if len(sentence) > 0:\n",
        "            tagged_sentences.append(sentence)\n",
        "            sentence = []\n",
        "        continue\n",
        "    splits = line.split(' ') # 공백을 기준으로 속성을 구분한다.\n",
        "    splits[-1] = re.sub(r'\\n', '', splits[-1]) # 줄바꿈 표시 \\n을 제거한다.\n",
        "    word = splits[0].lower() # 단어들은 소문자로 바꿔서 저장한다.\n",
        "    sentence.append([word, splits[-1]]) # 단어와 개체명 태깅만 기록한다."
      ],
      "execution_count": null,
      "outputs": []
    },
    {
      "cell_type": "code",
      "metadata": {
        "id": "290ZtHOF9cuM",
        "colab_type": "code",
        "colab": {
          "base_uri": "https://localhost:8080/",
          "height": 34
        },
        "outputId": "8c1e0393-a213-43a0-e3a4-171b979a95c6"
      },
      "source": [
        "print(\"전체 샘플 개수: \", len(tagged_sentences)) # 전체 샘플의 개수 출력"
      ],
      "execution_count": null,
      "outputs": [
        {
          "output_type": "stream",
          "text": [
            "전체 샘플 개수:  14041\n"
          ],
          "name": "stdout"
        }
      ]
    },
    {
      "cell_type": "code",
      "metadata": {
        "id": "RaT0wswD9ecL",
        "colab_type": "code",
        "colab": {
          "base_uri": "https://localhost:8080/",
          "height": 34
        },
        "outputId": "5a2cf383-df73-4a4c-e758-0f041295e6eb"
      },
      "source": [
        "print(tagged_sentences[0]) # 첫번째 샘플 출력"
      ],
      "execution_count": null,
      "outputs": [
        {
          "output_type": "stream",
          "text": [
            "[['eu', 'B-ORG'], ['rejects', 'O'], ['german', 'B-MISC'], ['call', 'O'], ['to', 'O'], ['boycott', 'O'], ['british', 'B-MISC'], ['lamb', 'O'], ['.', 'O']]\n"
          ],
          "name": "stdout"
        }
      ]
    },
    {
      "cell_type": "markdown",
      "metadata": {
        "id": "IBVlD0UbIf4v",
        "colab_type": "text"
      },
      "source": [
        "## 데이터와 레이블 분리하기"
      ]
    },
    {
      "cell_type": "markdown",
      "metadata": {
        "id": "c242dklL_t5b",
        "colab_type": "text"
      },
      "source": [
        "전처리가 수행된 첫번째 샘플이 출력된 것을 볼 수 있습니다. 이러한 샘플이 총 14,041개가 있습니다. 그런데 훈련을 시키려면 훈련 데이터에서 단어에 해당되는 부분과 개체명 태깅 정보에 해당되는 부분을 분리시켜야 합니다. 즉, [('eu', 'B-ORG'), ('rejects', 'O')]와 같은 문장 샘플이 있다면 eu와 rejects는 같이 저장하고, B-ORG와 O를 같이 저장할 필요가 있습니다.\n",
        "\n",
        "이런 경우 파이썬 함수 중에서 zip()함수가 유용한 역할을 합니다. zip()함수는 동일한 개수를 가지는 시퀀스 자료형에서 각 순서에 등장하는 원소들끼리 묶어주는 역할을 합니다."
      ]
    },
    {
      "cell_type": "code",
      "metadata": {
        "id": "zEAh2WHl_qZT",
        "colab_type": "code",
        "colab": {}
      },
      "source": [
        "# 데이터와 레이블 분리\n",
        "sentences, ner_tags = [], [] \n",
        "for tagged_sentence in tagged_sentences: # 14,041개의 문장 샘플을 1개씩 불러온다.\n",
        "    sentence, tag_info = zip(*tagged_sentence) # 각 샘플에서 단어들은 sentence에 개체명 태깅 정보들은 tag_info에 저장.\n",
        "    sentences.append(list(sentence)) # 각 샘플에서 단어 정보만 저장한다.\n",
        "    ner_tags.append(list(tag_info)) # 각 샘플에서 개체명 태깅 정보만 저장한다."
      ],
      "execution_count": null,
      "outputs": []
    },
    {
      "cell_type": "code",
      "metadata": {
        "id": "Cxve2i0u_sLS",
        "colab_type": "code",
        "colab": {
          "base_uri": "https://localhost:8080/",
          "height": 52
        },
        "outputId": "e3e2c332-b6b7-4b11-ef5b-6c4c68169e64"
      },
      "source": [
        "print(sentences[0])\n",
        "print(ner_tags[0])"
      ],
      "execution_count": null,
      "outputs": [
        {
          "output_type": "stream",
          "text": [
            "['eu', 'rejects', 'german', 'call', 'to', 'boycott', 'british', 'lamb', '.']\n",
            "['B-ORG', 'O', 'B-MISC', 'O', 'O', 'O', 'B-MISC', 'O', 'O']\n"
          ],
          "name": "stdout"
        }
      ]
    },
    {
      "cell_type": "markdown",
      "metadata": {
        "id": "9HpoM2-h_1OD",
        "colab_type": "text"
      },
      "source": [
        "첫번째 샘플에 대해서 단어에 대해서만 sentences[0]에, 또한 개체명에 대해서만 ner_tags[0]에 저장된 것을 볼 수 있습니다. 뒤에서 보겠지만, sentences는 예측을 위한 X에 해당되며 ner_tags는 예측 대상인 y에 해당됩니다. 다른 샘플들에 대해서도 처리가 되었는지 확인하기 위해 임의로 13번째 샘플에 대해서도 확인해보겠습니다."
      ]
    },
    {
      "cell_type": "code",
      "metadata": {
        "id": "il0uXb9i_1ub",
        "colab_type": "code",
        "colab": {
          "base_uri": "https://localhost:8080/",
          "height": 52
        },
        "outputId": "d470ec90-63f0-4a2b-8469-f600df0447d9"
      },
      "source": [
        "print(sentences[12])\n",
        "print(ner_tags[12])"
      ],
      "execution_count": null,
      "outputs": [
        {
          "output_type": "stream",
          "text": [
            "['only', 'france', 'and', 'britain', 'backed', 'fischler', \"'s\", 'proposal', '.']\n",
            "['O', 'B-LOC', 'O', 'B-LOC', 'O', 'B-PER', 'O', 'O', 'O']\n"
          ],
          "name": "stdout"
        }
      ]
    },
    {
      "cell_type": "markdown",
      "metadata": {
        "id": "b6SeujIHIrtP",
        "colab_type": "text"
      },
      "source": [
        "## 단어 집합 만들기 (데이터와 레이블)"
      ]
    },
    {
      "cell_type": "code",
      "metadata": {
        "id": "zd8znYAv_8eM",
        "colab_type": "code",
        "colab": {}
      },
      "source": [
        "# 개체명 인식 데이터에 대해서 최대 단어수는 4,000개로 제한.\n",
        "max_words = 4000\n",
        "src_tokenizer = Tokenizer(num_words=max_words, oov_token='OOV')\n",
        "src_tokenizer.fit_on_texts(sentences)"
      ],
      "execution_count": null,
      "outputs": []
    },
    {
      "cell_type": "code",
      "metadata": {
        "id": "YhNhhxC3AN7z",
        "colab_type": "code",
        "colab": {}
      },
      "source": [
        "# 레이블 데이터 또한 시퀀스 데이터므로 똑같이 각 토큰에 고유한 정수 부여.\n",
        "# 레이블의 단어 집합을 만든다.\n",
        "tar_tokenizer = Tokenizer()\n",
        "tar_tokenizer.fit_on_texts(ner_tags)"
      ],
      "execution_count": null,
      "outputs": []
    },
    {
      "cell_type": "code",
      "metadata": {
        "id": "pMi1QeM-AHWD",
        "colab_type": "code",
        "colab": {
          "base_uri": "https://localhost:8080/",
          "height": 52
        },
        "outputId": "87e15e6b-9f81-410b-83d4-65768f46a912"
      },
      "source": [
        "vocab_size = max_words + 2\n",
        "tag_size = len(tar_tokenizer.word_index) + 1\n",
        "print('단어 집합의 크기 : {}'.format(vocab_size))\n",
        "print('개체명 태깅 정보 집합의 크기 : {}'.format(tag_size))"
      ],
      "execution_count": null,
      "outputs": [
        {
          "output_type": "stream",
          "text": [
            "단어 집합의 크기 : 4002\n",
            "개체명 태깅 정보 집합의 크기 : 10\n"
          ],
          "name": "stdout"
        }
      ]
    },
    {
      "cell_type": "markdown",
      "metadata": {
        "id": "NOLsPoEIJEsG",
        "colab_type": "text"
      },
      "source": [
        "## 정수 인코딩 (데이터와 레이블)"
      ]
    },
    {
      "cell_type": "code",
      "metadata": {
        "id": "SQEwzJB-AMPN",
        "colab_type": "code",
        "colab": {}
      },
      "source": [
        "# 정수 인코딩\n",
        "X_train = src_tokenizer.texts_to_sequences(sentences)\n",
        "y_train = tar_tokenizer.texts_to_sequences(ner_tags)"
      ],
      "execution_count": null,
      "outputs": []
    },
    {
      "cell_type": "code",
      "metadata": {
        "id": "i8Nym9LDAcHt",
        "colab_type": "code",
        "colab": {
          "base_uri": "https://localhost:8080/",
          "height": 52
        },
        "outputId": "e1363b36-3446-434c-e1bf-4248196389a7"
      },
      "source": [
        "print(X_train[0])\n",
        "print(y_train[0])"
      ],
      "execution_count": null,
      "outputs": [
        {
          "output_type": "stream",
          "text": [
            "[989, 1, 205, 629, 7, 3939, 216, 1, 3]\n",
            "[4, 1, 7, 1, 1, 1, 7, 1, 1]\n"
          ],
          "name": "stdout"
        }
      ]
    },
    {
      "cell_type": "code",
      "metadata": {
        "id": "CV3kyGDnAjxN",
        "colab_type": "code",
        "colab": {}
      },
      "source": [
        "index_to_word = src_tokenizer.index_word\n",
        "index_to_ner = tar_tokenizer.index_word"
      ],
      "execution_count": null,
      "outputs": []
    },
    {
      "cell_type": "code",
      "metadata": {
        "id": "Z0hR3vFGAkoT",
        "colab_type": "code",
        "colab": {
          "base_uri": "https://localhost:8080/",
          "height": 52
        },
        "outputId": "f89d69de-d7b4-40e3-cf09-068e27e1ebe7"
      },
      "source": [
        "decoded = []\n",
        "for index in X_train[0] : # 첫번째 샘플 안의 인덱스들에 대해서\n",
        "    decoded.append(index_to_word[index]) # 다시 단어로 변환\n",
        "\n",
        "print('기존 문장 : {}'.format(sentences[0]))\n",
        "print('빈도수가 낮은 단어가 OOV 처리된 문장 : {}'.format(decoded))"
      ],
      "execution_count": null,
      "outputs": [
        {
          "output_type": "stream",
          "text": [
            "기존 문장 : ['eu', 'rejects', 'german', 'call', 'to', 'boycott', 'british', 'lamb', '.']\n",
            "빈도수가 낮은 단어가 OOV 처리된 문장 : ['eu', 'OOV', 'german', 'call', 'to', 'boycott', 'british', 'OOV', '.']\n"
          ],
          "name": "stdout"
        }
      ]
    },
    {
      "cell_type": "code",
      "metadata": {
        "id": "q4kRhQkb_3PK",
        "colab_type": "code",
        "colab": {
          "base_uri": "https://localhost:8080/",
          "height": 314
        },
        "outputId": "40a99e15-8fc1-4d74-b8ea-0ede113e652a"
      },
      "source": [
        "print('샘플의 최대 길이 : %d' % max(len(l) for l in X_train))\n",
        "print('샘플의 평균 길이 : %f' % (sum(map(len, X_train))/len(X_train)))\n",
        "plt.hist([len(s) for s in X_train], bins=50)\n",
        "plt.xlabel('length of samples')\n",
        "plt.ylabel('number of samples')\n",
        "plt.show()"
      ],
      "execution_count": null,
      "outputs": [
        {
          "output_type": "stream",
          "text": [
            "샘플의 최대 길이 : 113\n",
            "샘플의 평균 길이 : 14.501887\n"
          ],
          "name": "stdout"
        },
        {
          "output_type": "display_data",
          "data": {
            "image/png": "[encoded data removed]",
            "text/plain": [
              "<Figure size 432x288 with 1 Axes>"
            ]
          },
          "metadata": {
            "tags": [],
            "needs_background": "light"
          }
        }
      ]
    },
    {
      "cell_type": "markdown",
      "metadata": {
        "id": "s5bypQ6tJcuL",
        "colab_type": "text"
      },
      "source": [
        "## 패딩(Padding)"
      ]
    },
    {
      "cell_type": "code",
      "metadata": {
        "id": "AnL4W3l-_5zJ",
        "colab_type": "code",
        "colab": {}
      },
      "source": [
        "max_len = 70\n",
        "X_train = pad_sequences(X_train, padding='post', maxlen=max_len)\n",
        "# X_train의 모든 샘플들의 길이를 맞출 때 뒤의 공간에 숫자 0으로 채움.\n",
        "y_train = pad_sequences(y_train, padding='post', maxlen=max_len)\n",
        "# y_train의 모든 샘플들의 길이를 맞출 때 뒤의 공간에 숫자 0으로 채움."
      ],
      "execution_count": null,
      "outputs": []
    },
    {
      "cell_type": "code",
      "metadata": {
        "id": "VgzhGL0eAu3R",
        "colab_type": "code",
        "colab": {
          "base_uri": "https://localhost:8080/",
          "height": 314
        },
        "outputId": "306110fc-6839-4e67-9b96-7e3decd663ed"
      },
      "source": [
        "print('샘플의 최대 길이 : %d' % max(len(l) for l in X_train))\n",
        "print('샘플의 평균 길이 : %f' % (sum(map(len, X_train))/len(X_train)))\n",
        "plt.hist([len(s) for s in X_train], bins=50)\n",
        "plt.xlabel('length of samples')\n",
        "plt.ylabel('number of samples')\n",
        "plt.show()"
      ],
      "execution_count": null,
      "outputs": [
        {
          "output_type": "stream",
          "text": [
            "샘플의 최대 길이 : 70\n",
            "샘플의 평균 길이 : 70.000000\n"
          ],
          "name": "stdout"
        },
        {
          "output_type": "display_data",
          "data": {
            "image/png": "[encoded data removed]",
            "text/plain": [
              "<Figure size 432x288 with 1 Axes>"
            ]
          },
          "metadata": {
            "tags": [],
            "needs_background": "light"
          }
        }
      ]
    },
    {
      "cell_type": "markdown",
      "metadata": {
        "id": "EHTpHusHJkho",
        "colab_type": "text"
      },
      "source": [
        "## 훈련 데이터와 테스트 데이터 분리"
      ]
    },
    {
      "cell_type": "code",
      "metadata": {
        "id": "97Ul2CvkAwyp",
        "colab_type": "code",
        "colab": {}
      },
      "source": [
        "X_train, X_test, y_train, y_test = train_test_split(X_train, y_train, test_size=.2, random_state=777)"
      ],
      "execution_count": null,
      "outputs": []
    },
    {
      "cell_type": "markdown",
      "metadata": {
        "id": "iqPWjGqaJn5x",
        "colab_type": "text"
      },
      "source": [
        "## 레이블에 대한 원-핫 인코딩"
      ]
    },
    {
      "cell_type": "code",
      "metadata": {
        "id": "45R5oJCkAzUh",
        "colab_type": "code",
        "colab": {}
      },
      "source": [
        "y_train = to_categorical(y_train, num_classes=tag_size)\n",
        "y_test = to_categorical(y_test, num_classes=tag_size)"
      ],
      "execution_count": null,
      "outputs": []
    },
    {
      "cell_type": "code",
      "metadata": {
        "id": "b6I8jzCjA0UZ",
        "colab_type": "code",
        "colab": {
          "base_uri": "https://localhost:8080/",
          "height": 87
        },
        "outputId": "6befa07b-01f7-4256-bb28-35400d183cee"
      },
      "source": [
        "print('훈련 샘플 문장의 크기 : {}'.format(X_train.shape))\n",
        "print('훈련 샘플 레이블의 크기 : {}'.format(y_train.shape))\n",
        "print('테스트 샘플 문장의 크기 : {}'.format(X_test.shape))\n",
        "print('테스트 샘플 레이블의 크기 : {}'.format(y_test.shape))"
      ],
      "execution_count": null,
      "outputs": [
        {
          "output_type": "stream",
          "text": [
            "훈련 샘플 문장의 크기 : (11232, 70)\n",
            "훈련 샘플 레이블의 크기 : (11232, 70, 10)\n",
            "테스트 샘플 문장의 크기 : (2809, 70)\n",
            "테스트 샘플 레이블의 크기 : (2809, 70, 10)\n"
          ],
          "name": "stdout"
        }
      ]
    },
    {
      "cell_type": "markdown",
      "metadata": {
        "id": "ynCP7JZkKHly",
        "colab_type": "text"
      },
      "source": [
        "## 양방향 LSTM으로 시퀀스 레이블링하기"
      ]
    },
    {
      "cell_type": "code",
      "metadata": {
        "id": "3Lc-KBBhA1R5",
        "colab_type": "code",
        "colab": {}
      },
      "source": [
        "from keras.models import Sequential\n",
        "from keras.layers import Dense, Embedding, LSTM, Bidirectional, TimeDistributed\n",
        "from keras.optimizers import Adam"
      ],
      "execution_count": null,
      "outputs": []
    },
    {
      "cell_type": "code",
      "metadata": {
        "id": "-xmWKXt-A5ep",
        "colab_type": "code",
        "colab": {}
      },
      "source": [
        "model = Sequential()\n",
        "model.add(Embedding(input_dim=vocab_size, output_dim=128, input_length=max_len, mask_zero=True))\n",
        "model.add(Bidirectional(LSTM(256, return_sequences=True)))\n",
        "model.add(Dense(tag_size, activation='softmax'))"
      ],
      "execution_count": null,
      "outputs": []
    },
    {
      "cell_type": "code",
      "metadata": {
        "id": "uphE8wdHA7rx",
        "colab_type": "code",
        "colab": {}
      },
      "source": [
        "model.compile(loss='categorical_crossentropy', optimizer=Adam(0.001), metrics=['accuracy'])"
      ],
      "execution_count": null,
      "outputs": []
    },
    {
      "cell_type": "code",
      "metadata": {
        "id": "ZSwTUbP-A-NB",
        "colab_type": "code",
        "colab": {
          "base_uri": "https://localhost:8080/",
          "height": 463
        },
        "outputId": "17164805-4216-474c-da90-d9d49a9e5385"
      },
      "source": [
        "model.fit(X_train, y_train, batch_size = 256, epochs = 10,  validation_data=(X_test, y_test))"
      ],
      "execution_count": null,
      "outputs": [
        {
          "output_type": "stream",
          "text": [
            "/usr/local/lib/python3.6/dist-packages/tensorflow/python/framework/indexed_slices.py:434: UserWarning: Converting sparse IndexedSlices to a dense Tensor of unknown shape. This may consume a large amount of memory.\n",
            "  \"Converting sparse IndexedSlices to a dense Tensor of unknown shape. \"\n"
          ],
          "name": "stderr"
        },
        {
          "output_type": "stream",
          "text": [
            "Train on 11232 samples, validate on 2809 samples\n",
            "Epoch 1/10\n",
            "11232/11232 [==============================] - 15s 1ms/step - loss: 0.2241 - accuracy: 0.8160 - val_loss: 0.1544 - val_accuracy: 0.8331\n",
            "Epoch 2/10\n",
            "11232/11232 [==============================] - 14s 1ms/step - loss: 0.1446 - accuracy: 0.8321 - val_loss: 0.1200 - val_accuracy: 0.8339\n",
            "Epoch 3/10\n",
            "11232/11232 [==============================] - 14s 1ms/step - loss: 0.1040 - accuracy: 0.8463 - val_loss: 0.0875 - val_accuracy: 0.8670\n",
            "Epoch 4/10\n",
            "11232/11232 [==============================] - 14s 1ms/step - loss: 0.0799 - accuracy: 0.8808 - val_loss: 0.0687 - val_accuracy: 0.8972\n",
            "Epoch 5/10\n",
            "11232/11232 [==============================] - 14s 1ms/step - loss: 0.0626 - accuracy: 0.9091 - val_loss: 0.0538 - val_accuracy: 0.9223\n",
            "Epoch 6/10\n",
            "11232/11232 [==============================] - 14s 1ms/step - loss: 0.0489 - accuracy: 0.9299 - val_loss: 0.0438 - val_accuracy: 0.9383\n",
            "Epoch 7/10\n",
            "11232/11232 [==============================] - 14s 1ms/step - loss: 0.0389 - accuracy: 0.9447 - val_loss: 0.0386 - val_accuracy: 0.9449\n",
            "Epoch 8/10\n",
            "11232/11232 [==============================] - 14s 1ms/step - loss: 0.0328 - accuracy: 0.9535 - val_loss: 0.0360 - val_accuracy: 0.9501\n",
            "Epoch 9/10\n",
            "11232/11232 [==============================] - 14s 1ms/step - loss: 0.0287 - accuracy: 0.9594 - val_loss: 0.0336 - val_accuracy: 0.9534\n",
            "Epoch 10/10\n",
            "11232/11232 [==============================] - 14s 1ms/step - loss: 0.0252 - accuracy: 0.9642 - val_loss: 0.0332 - val_accuracy: 0.9539\n"
          ],
          "name": "stdout"
        },
        {
          "output_type": "execute_result",
          "data": {
            "text/plain": [
              "<keras.callbacks.callbacks.History at 0x7f26e83ba828>"
            ]
          },
          "metadata": {
            "tags": []
          },
          "execution_count": 111
        }
      ]
    },
    {
      "cell_type": "markdown",
      "metadata": {
        "id": "ZemfF069K5xu",
        "colab_type": "text"
      },
      "source": [
        "## 테스트 데이터에 대한 평가"
      ]
    },
    {
      "cell_type": "code",
      "metadata": {
        "id": "RwjdRtYtA_UA",
        "colab_type": "code",
        "colab": {
          "base_uri": "https://localhost:8080/",
          "height": 745
        },
        "outputId": "c86551a2-55e1-40c2-b50a-16b547f9b274"
      },
      "source": [
        "i=10 # 확인하고 싶은 테스트용 샘플의 인덱스.\n",
        "y_predicted = model.predict(np.array([X_test[i]])) # 입력한 테스트용 샘플에 대해서 예측 y를 리턴\n",
        "y_predicted = np.argmax(y_predicted, axis=-1) # 원-핫 인코딩을 다시 정수 인코딩으로 변경함.\n",
        "true = np.argmax(y_test[i], -1) # 원-핫 인코딩을 다시 정수 인코딩으로 변경함.\n",
        "\n",
        "print(\"{:15}|{:5}|{}\".format(\"단어\", \"실제값\", \"예측값\"))\n",
        "print(35 * \"-\")\n",
        "\n",
        "for w, t, pred in zip(X_test[i], true, y_predicted[0]):\n",
        "    if w != 0: # PAD값은 제외함.\n",
        "        print(\"{:17}: {:7} {}\".format(index_to_word[w], index_to_ner[t].upper(), index_to_ner[pred].upper()))"
      ],
      "execution_count": null,
      "outputs": [
        {
          "output_type": "stream",
          "text": [
            "단어             |실제값  |예측값\n",
            "-----------------------------------\n",
            "sarah            : B-PER   B-PER\n",
            "brady            : I-PER   I-PER\n",
            ",                : O       O\n",
            "whose            : O       O\n",
            "republican       : B-MISC  B-MISC\n",
            "husband          : O       O\n",
            "was              : O       O\n",
            "OOV              : O       O\n",
            "OOV              : O       O\n",
            "in               : O       O\n",
            "an               : O       O\n",
            "OOV              : O       O\n",
            "attempt          : O       O\n",
            "on               : O       O\n",
            "president        : O       O\n",
            "ronald           : B-PER   B-PER\n",
            "reagan           : I-PER   I-PER\n",
            ",                : O       O\n",
            "took             : O       O\n",
            "centre           : O       O\n",
            "stage            : O       O\n",
            "at               : O       O\n",
            "the              : O       O\n",
            "democratic       : B-MISC  B-MISC\n",
            "national         : I-MISC  I-MISC\n",
            "convention       : I-MISC  I-MISC\n",
            "on               : O       O\n",
            "monday           : O       O\n",
            "night            : O       O\n",
            "to               : O       O\n",
            "OOV              : O       O\n",
            "president        : O       O\n",
            "bill             : B-PER   B-PER\n",
            "clinton          : I-PER   I-PER\n",
            "'s               : O       O\n",
            "gun              : O       O\n",
            "control          : O       O\n",
            "efforts          : O       O\n",
            ".                : O       O\n"
          ],
          "name": "stdout"
        }
      ]
    },
    {
      "cell_type": "markdown",
      "metadata": {
        "id": "a5dDCXRMMYO0",
        "colab_type": "text"
      },
      "source": [
        "# 양방향LSTM-CNN을 이용한 한국어 개체명 인식"
      ]
    },
    {
      "cell_type": "code",
      "metadata": {
        "id": "w3EzFJqpMbsm",
        "colab_type": "code",
        "colab": {
          "base_uri": "https://localhost:8080/",
          "height": 585
        },
        "outputId": "a3b93438-3429-40d4-dd29-397ae53e5f7c"
      },
      "source": [
        "!pip install konlpy"
      ],
      "execution_count": null,
      "outputs": [
        {
          "output_type": "stream",
          "text": [
            "Collecting konlpy\n",
            "\u001b[?25l  Downloading https://files.pythonhosted.org/packages/85/0e/f385566fec837c0b83f216b2da65db9997b35dd675e107752005b7d392b1/konlpy-0.5.2-py2.py3-none-any.whl (19.4MB)\n",
            "\u001b[K     |████████████████████████████████| 19.4MB 67.1MB/s \n",
            "\u001b[?25hCollecting tweepy>=3.7.0\n",
            "  Downloading https://files.pythonhosted.org/packages/36/1b/2bd38043d22ade352fc3d3902cf30ce0e2f4bf285be3b304a2782a767aec/tweepy-3.8.0-py2.py3-none-any.whl\n",
            "Requirement already satisfied: numpy>=1.6 in /usr/local/lib/python3.6/dist-packages (from konlpy) (1.18.5)\n",
            "Requirement already satisfied: lxml>=4.1.0 in /usr/local/lib/python3.6/dist-packages (from konlpy) (4.2.6)\n",
            "Collecting JPype1>=0.7.0\n",
            "\u001b[?25l  Downloading https://files.pythonhosted.org/packages/2d/9b/e115101a833605b3c0e6f3a2bc1f285c95aaa1d93ab808314ca1bde63eed/JPype1-0.7.5-cp36-cp36m-manylinux2010_x86_64.whl (3.6MB)\n",
            "\u001b[K     |████████████████████████████████| 3.6MB 61.0MB/s \n",
            "\u001b[?25hCollecting colorama\n",
            "  Downloading https://files.pythonhosted.org/packages/c9/dc/45cdef1b4d119eb96316b3117e6d5708a08029992b2fee2c143c7a0a5cc5/colorama-0.4.3-py2.py3-none-any.whl\n",
            "Collecting beautifulsoup4==4.6.0\n",
            "\u001b[?25l  Downloading https://files.pythonhosted.org/packages/9e/d4/10f46e5cfac773e22707237bfcd51bbffeaf0a576b0a847ec7ab15bd7ace/beautifulsoup4-4.6.0-py3-none-any.whl (86kB)\n",
            "\u001b[K     |████████████████████████████████| 92kB 11.8MB/s \n",
            "\u001b[?25hRequirement already satisfied: PySocks>=1.5.7 in /usr/local/lib/python3.6/dist-packages (from tweepy>=3.7.0->konlpy) (1.7.1)\n",
            "Requirement already satisfied: requests>=2.11.1 in /usr/local/lib/python3.6/dist-packages (from tweepy>=3.7.0->konlpy) (2.23.0)\n",
            "Requirement already satisfied: six>=1.10.0 in /usr/local/lib/python3.6/dist-packages (from tweepy>=3.7.0->konlpy) (1.12.0)\n",
            "Requirement already satisfied: requests-oauthlib>=0.7.0 in /usr/local/lib/python3.6/dist-packages (from tweepy>=3.7.0->konlpy) (1.3.0)\n",
            "Requirement already satisfied: chardet<4,>=3.0.2 in /usr/local/lib/python3.6/dist-packages (from requests>=2.11.1->tweepy>=3.7.0->konlpy) (3.0.4)\n",
            "Requirement already satisfied: certifi>=2017.4.17 in /usr/local/lib/python3.6/dist-packages (from requests>=2.11.1->tweepy>=3.7.0->konlpy) (2020.6.20)\n",
            "Requirement already satisfied: urllib3!=1.25.0,!=1.25.1,<1.26,>=1.21.1 in /usr/local/lib/python3.6/dist-packages (from requests>=2.11.1->tweepy>=3.7.0->konlpy) (1.24.3)\n",
            "Requirement already satisfied: idna<3,>=2.5 in /usr/local/lib/python3.6/dist-packages (from requests>=2.11.1->tweepy>=3.7.0->konlpy) (2.9)\n",
            "Requirement already satisfied: oauthlib>=3.0.0 in /usr/local/lib/python3.6/dist-packages (from requests-oauthlib>=0.7.0->tweepy>=3.7.0->konlpy) (3.1.0)\n",
            "Installing collected packages: tweepy, JPype1, colorama, beautifulsoup4, konlpy\n",
            "  Found existing installation: tweepy 3.6.0\n",
            "    Uninstalling tweepy-3.6.0:\n",
            "      Successfully uninstalled tweepy-3.6.0\n",
            "  Found existing installation: beautifulsoup4 4.6.3\n",
            "    Uninstalling beautifulsoup4-4.6.3:\n",
            "      Successfully uninstalled beautifulsoup4-4.6.3\n",
            "Successfully installed JPype1-0.7.5 beautifulsoup4-4.6.0 colorama-0.4.3 konlpy-0.5.2 tweepy-3.8.0\n"
          ],
          "name": "stdout"
        }
      ]
    },
    {
      "cell_type": "code",
      "metadata": {
        "id": "FRXO2SVfMc8D",
        "colab_type": "code",
        "colab": {}
      },
      "source": [
        "import urllib.request\n",
        "from konlpy.tag import Okt\n",
        "from tensorflow.keras.preprocessing.text import Tokenizer\n",
        "from collections import Counter\n",
        "from tensorflow.keras.preprocessing.sequence import pad_sequences\n",
        "import numpy as np"
      ],
      "execution_count": null,
      "outputs": []
    },
    {
      "cell_type": "code",
      "metadata": {
        "id": "Kzu8q0J3oAKT",
        "colab_type": "code",
        "colab": {}
      },
      "source": [
        "def createBatches(data):\n",
        "    l = []\n",
        "    for i in data:\n",
        "        l.append(len(i[0]))\n",
        "    l = set(l)\n",
        "    batches = []\n",
        "    batch_len = []\n",
        "    z = 0\n",
        "    for i in l:\n",
        "        for batch in data:\n",
        "            if len(batch[0]) == i:\n",
        "                batches.append(batch)\n",
        "                z += 1\n",
        "        batch_len.append(z)\n",
        "    return batches,batch_len\n",
        "\n",
        "def iterate_minibatches(dataset,batch_len): \n",
        "    start = 0\n",
        "    for i in batch_len:\n",
        "        tokens = []\n",
        "        char = []\n",
        "        labels = []\n",
        "        data = dataset[start:i]\n",
        "        start = i\n",
        "        for dt in data:\n",
        "            t,ch,l = dt\n",
        "            l = np.expand_dims(l,-1)\n",
        "            tokens.append(t)\n",
        "            char.append(ch)\n",
        "            labels.append(l)\n",
        "        yield np.asarray(labels),np.asarray(tokens),np.asarray(char)"
      ],
      "execution_count": null,
      "outputs": []
    },
    {
      "cell_type": "code",
      "metadata": {
        "id": "FcOO_BUoQf22",
        "colab_type": "code",
        "colab": {}
      },
      "source": [
        "okt = Okt()"
      ],
      "execution_count": null,
      "outputs": []
    },
    {
      "cell_type": "code",
      "metadata": {
        "id": "woxVoM3dMgpB",
        "colab_type": "code",
        "colab": {
          "base_uri": "https://localhost:8080/",
          "height": 34
        },
        "outputId": "00047878-9047-40d8-c842-e3f98468e84a"
      },
      "source": [
        "urllib.request.urlretrieve(\"https://raw.githubusercontent.com/elymas/ai_chatbot_class/master/07_chatbot_class/tuto07(Intent%2C%20Entity)/Entity/train_entity.csv\", filename=\"train_entity.csv\")"
      ],
      "execution_count": null,
      "outputs": [
        {
          "output_type": "execute_result",
          "data": {
            "text/plain": [
              "('train_entity.csv', <http.client.HTTPMessage at 0x7fc1f25a4c18>)"
            ]
          },
          "metadata": {
            "tags": []
          },
          "execution_count": 5
        }
      ]
    },
    {
      "cell_type": "code",
      "metadata": {
        "id": "ZjCQUYQsPuGX",
        "colab_type": "code",
        "colab": {}
      },
      "source": [
        "f = open('train_entity.csv', encoding='euc-kr')"
      ],
      "execution_count": null,
      "outputs": []
    },
    {
      "cell_type": "code",
      "metadata": {
        "id": "r5Hog_ioPhja",
        "colab_type": "code",
        "colab": {
          "base_uri": "https://localhost:8080/",
          "height": 212
        },
        "outputId": "6218b41c-5ef3-4d70-d58f-cb3370292283"
      },
      "source": [
        "# 불필요한 줄은 출력하지 않되, 데이터에서 11번째 줄까지 출력 \n",
        "i = 0\n",
        "for line in f:\n",
        "  if len(line) == 0 or line.startswith('-DOCSTART'):\n",
        "    continue\n",
        "  i = i + 1\n",
        "  print(line, end='')\n",
        "  if i == 11:\n",
        "    break"
      ],
      "execution_count": null,
      "outputs": [
        {
          "output_type": "stream",
          "text": [
            "다음 DATE\n",
            "주 DATE\n",
            "전주 LOCATION\n",
            "비 O\n",
            "오려나 O\n",
            "\n",
            "이번 DATE\n",
            "주 DATE\n",
            "서울 LOCATION\n",
            "눈 O\n",
            "오니 O\n"
          ],
          "name": "stdout"
        }
      ]
    },
    {
      "cell_type": "markdown",
      "metadata": {
        "id": "tW4KHWHYRQz2",
        "colab_type": "text"
      },
      "source": [
        "데이터가 이미 토큰화되어 제공되고 있으나, 한국어의 경우 단순 띄어쓰기 기준으로 토큰화를 하는 것이 아니라 형태소 분석기에 따라서 토큰화 결과가 다르므로 사용하고자 하는 형태소 분석기에 맞게 재토큰화를 해보겠습니다."
      ]
    },
    {
      "cell_type": "code",
      "metadata": {
        "id": "DMO9oT-tPQJj",
        "colab_type": "code",
        "colab": {}
      },
      "source": [
        "with open('train_entity.csv', encoding='euc-kr') as f:\n",
        "    tokenized_sentences, labels = [], []\n",
        "    tokenized_sentence, label = [], []\n",
        "    for line in f:\n",
        "        line = line.strip()\n",
        "        if (len(line) == 0 or line.startswith(\"-DOCSTART-\")):\n",
        "            if not len(tokenized_sentence) == 0:\n",
        "                tokenized_sentences.append(tokenized_sentence)\n",
        "                labels.append(label)\n",
        "                tokenized_sentence, label = [], [] #초기화\n",
        "        else:\n",
        "            word, tag = line.split(' ')\n",
        "            tokenized_sentence.append(word)\n",
        "            label.append(tag)"
      ],
      "execution_count": null,
      "outputs": []
    },
    {
      "cell_type": "code",
      "metadata": {
        "id": "Xab993IqPV4Y",
        "colab_type": "code",
        "colab": {
          "base_uri": "https://localhost:8080/",
          "height": 105
        },
        "outputId": "779ad871-e941-4705-f825-21d4dbb2f217"
      },
      "source": [
        "tokenized_sentences[:5]"
      ],
      "execution_count": null,
      "outputs": [
        {
          "output_type": "execute_result",
          "data": {
            "text/plain": [
              "[['다음', '주', '전주', '비', '오려나'],\n",
              " ['이번', '주', '서울', '눈', '오니'],\n",
              " ['이번', '주', '대구', '날씨', '비', '오는지', '알려줘'],\n",
              " ['부산', '이번', '주', '날씨', '맑은지', '알려줄래'],\n",
              " ['광주', '이번', '주', '눈', '오려나']]"
            ]
          },
          "metadata": {
            "tags": []
          },
          "execution_count": 9
        }
      ]
    },
    {
      "cell_type": "code",
      "metadata": {
        "id": "Licbzja2QyG6",
        "colab_type": "code",
        "colab": {
          "base_uri": "https://localhost:8080/",
          "height": 105
        },
        "outputId": "74c1eb8d-1559-40d3-c61f-d170b039f04a"
      },
      "source": [
        "labels[:5]"
      ],
      "execution_count": null,
      "outputs": [
        {
          "output_type": "execute_result",
          "data": {
            "text/plain": [
              "[['DATE', 'DATE', 'LOCATION', 'O', 'O'],\n",
              " ['DATE', 'DATE', 'LOCATION', 'O', 'O'],\n",
              " ['DATE', 'DATE', 'LOCATION', 'O', 'O', 'O', 'O'],\n",
              " ['LOCATION', 'DATE', 'DATE', 'O', 'O', 'O'],\n",
              " ['LOCATION', 'DATE', 'DATE', 'O', 'O']]"
            ]
          },
          "metadata": {
            "tags": []
          },
          "execution_count": 10
        }
      ]
    },
    {
      "cell_type": "code",
      "metadata": {
        "id": "bd6RXcvjQE0M",
        "colab_type": "code",
        "colab": {}
      },
      "source": [
        "for ts, label in zip(tokenized_sentences, labels):\n",
        "    for idx, word in enumerate(ts):\n",
        "        if len(okt.morphs(word))>1:\n",
        "            tokenized_word = okt.morphs(word)\n",
        "            ts.pop(idx)\n",
        "            tag = label.pop(idx)\n",
        "            for i in tokenized_word[::-1]:\n",
        "                ts.insert(idx, i)\n",
        "                label.insert(idx, tag)"
      ],
      "execution_count": null,
      "outputs": []
    },
    {
      "cell_type": "code",
      "metadata": {
        "id": "3871FDQCQnn-",
        "colab_type": "code",
        "colab": {
          "base_uri": "https://localhost:8080/",
          "height": 105
        },
        "outputId": "8c803d8c-f00a-4bc8-c172-ff0af3c0a681"
      },
      "source": [
        "tokenized_sentences[:5]"
      ],
      "execution_count": null,
      "outputs": [
        {
          "output_type": "execute_result",
          "data": {
            "text/plain": [
              "[['다음', '주', '전주', '비', '오려나'],\n",
              " ['이번', '주', '서울', '눈', '오니'],\n",
              " ['이번', '주', '대구', '날씨', '비', '오는지', '알려줘'],\n",
              " ['부산', '이번', '주', '날씨', '맑은', '지', '알려줄래'],\n",
              " ['광주', '이번', '주', '눈', '오려나']]"
            ]
          },
          "metadata": {
            "tags": []
          },
          "execution_count": 12
        }
      ]
    },
    {
      "cell_type": "code",
      "metadata": {
        "id": "t-3gFNW8QtzH",
        "colab_type": "code",
        "colab": {
          "base_uri": "https://localhost:8080/",
          "height": 105
        },
        "outputId": "6f05f999-fae1-463a-da34-6d7227991e85"
      },
      "source": [
        "labels[:5]"
      ],
      "execution_count": null,
      "outputs": [
        {
          "output_type": "execute_result",
          "data": {
            "text/plain": [
              "[['DATE', 'DATE', 'LOCATION', 'O', 'O'],\n",
              " ['DATE', 'DATE', 'LOCATION', 'O', 'O'],\n",
              " ['DATE', 'DATE', 'LOCATION', 'O', 'O', 'O', 'O'],\n",
              " ['LOCATION', 'DATE', 'DATE', 'O', 'O', 'O', 'O'],\n",
              " ['LOCATION', 'DATE', 'DATE', 'O', 'O']]"
            ]
          },
          "metadata": {
            "tags": []
          },
          "execution_count": 13
        }
      ]
    },
    {
      "cell_type": "code",
      "metadata": {
        "id": "tlPEvzUXlgOv",
        "colab_type": "code",
        "colab": {
          "base_uri": "https://localhost:8080/",
          "height": 52
        },
        "outputId": "3fc6b119-ff0e-434f-d92b-1578f34f0be0"
      },
      "source": [
        "print('샘플 수 :',len(tokenized_sentences))\n",
        "print('레이블 수 :',len(labels))"
      ],
      "execution_count": null,
      "outputs": [
        {
          "output_type": "stream",
          "text": [
            "샘플 수 : 3851\n",
            "레이블 수 : 3851\n"
          ],
          "name": "stdout"
        }
      ]
    },
    {
      "cell_type": "code",
      "metadata": {
        "id": "N2D-vfKmVAqG",
        "colab_type": "code",
        "colab": {}
      },
      "source": [
        "frequency_cnt_set = Counter(sum(tokenized_sentences, []))"
      ],
      "execution_count": null,
      "outputs": []
    },
    {
      "cell_type": "code",
      "metadata": {
        "id": "yi91T_RPVV2T",
        "colab_type": "code",
        "colab": {
          "base_uri": "https://localhost:8080/",
          "height": 54
        },
        "outputId": "07743784-e620-460f-d96f-77f6e07d6d78"
      },
      "source": [
        "print(frequency_cnt_set)"
      ],
      "execution_count": null,
      "outputs": [
        {
          "output_type": "stream",
          "text": [
            "Counter({'날씨': 1757, '우산': 985, '하니': 825, '내일': 744, '오늘': 664, '써야': 590, '주': 553, '알려줘': 481, '이번': 473, '모레': 438, '말': 418, '알려줄래': 351, '마스크': 295, '비': 269, '챙길까': 240, '해줘': 172, '해주세요': 170, '울산': 168, '옷': 160, '입을까': 160, '우비': 160, '입어야': 160, '상태': 158, '전주': 156, '서울': 145, '쓸까': 145, '써야해': 140, '부산': 138, '광주': 138, '어떠니': 132, '뭐': 128, '야': 128, '공기': 126, '눈': 114, '오니': 110, '전북': 108, '지': 103, '좀': 92, '인천': 90, '군산': 90, '좋니': 86, '쓰기': 85, '고민': 85, '내': 84, '일': 84, '다음': 80, '말까': 80, '돼': 80, '챙겨야': 80, '어때': 72, '이천': 70, '오려나': 69, '뭔': 68, '맑니': 66, '알고있니': 66, '양주': 62, '해줄래': 60, '대구': 58, '알려주라': 57, '바람': 57, '하늘': 54, '강릉': 52, '오산': 50, '경상북도': 50, '알려주세요': 49, '강원도': 48, '마포구': 46, '싫은데': 45, '오는지': 44, '알려줄': 40, '수': 40, '알려': 40, '줘': 40, '싫어': 40, '알려줘요': 40, '있니': 38, '서산': 36, '맑은': 35, '맑아': 34, '전라북도': 34, '전라남도': 34, '서울시': 34, '강원': 34, '충청남도': 34, '충남': 34, '어떤지': 34, '알': 34, '아': 34, '미세먼지': 34, '경기도': 30, '전남': 30, '경남': 30, '경상남도': 30, '속초': 28, '공주': 27, '과천': 26, '안양': 26, '완주': 26, '충청북도': 22, '시': 22, '부니': 22, '불어': 22, '경북': 22, '이태원': 21, '충북': 20, '삼례': 20, '동천동': 20, '신촌': 20, '종로': 20, '여의도': 20, '고창': 20, '남원': 20, '안암': 20, '구리': 18, '청주': 18, '수원': 18, '미세': 18, '먼지': 18, '해주': 16, '라': 16, '광진구': 16, '대전': 15, '횡성군': 14, '삼척시': 14, '군산시': 14, '고령군': 14, '제주': 14, '부안': 13, '많이': 13, '부는지': 13, '세종': 12, '제주도': 12, '평택': 12, '동구': 12, '중구': 12, '무주군': 12, '양산': 12, '부산시': 12, '마산': 12, '12월': 11, '금천구': 10, '미룡동': 10, '김포': 10, '강북구': 10, '노원구': 10, '당진': 10, '예천군': 10, '의령군': 10, '홍대': 9, '금암동': 8, '인제': 8, '서초구': 8, '의정부': 8, '날짜': 8, '대구광역시': 8, '안성': 8, '성남': 8, '대': 8, '고성군': 8, '양양군': 8, '서천': 8, '옥서면': 8, '장수군': 8, '고창군': 8, '순창군': 8, '완도군': 8, '경주': 8, '울진군': 8, '북구': 8, '남구': 8, '울': 8, '산시': 8, '9월': 7, '12일': 7, '1월': 7, '창포': 6, '길': 6, '관악구': 6, '삼척': 6, '경기': 6, '동두천': 6, '광역시': 6, '시흥': 6, '안산': 6, '남양주': 6, '화남': 6, '종로구': 6, '구로구': 6, '용산구': 6, '영등포구': 6, '송파구': 6, '11월': 6, '도봉구': 6, '서': 6, '2월': 6, '진천': 6, '홍천군': 6, '원주시': 6, '인제군': 6, '동해시': 6, '영월군': 6, '평창군': 6, '속초시': 6, '단양군': 6, '당진시': 6, '임실': 6, '완주군': 6, '김제': 6, '김제시': 6, '진도군': 6, '영광군': 6, '광주시': 6, '나주시': 6, '나주': 6, '고흥군': 6, '무안군': 6, '구미시': 6, '포항시': 6, '문경시': 6, '청송군': 6, '진주': 6, '산청군': 6, '하동': 6, '하동군': 6, '창원': 6, '사천': 6, '창녕': 6, '양산시': 6, '대구시': 6, '전시': 6, '농도': 6, '충정': 6, '여수': 5, '8월': 5, '양구': 5, '13일': 5, '11일': 5, '괴산': 5, '하나': 5, '되네': 5, '달': 4, '원주': 4, '춘천': 4, '고양': 4, '송천동': 4, '서울특별시': 4, '화성': 4, '광명': 4, '용인': 4, '하남': 4, '의왕': 4, '광': 4, '동대문구': 4, '성북구': 4, '9일': 4, '동작구': 4, '서대문구': 4, '화천군': 4, '횡성': 4, '태백시': 4, '정선군': 4, '고성': 4, '양구군': 4, '괴산군': 4, '보은군': 4, '보은': 4, '영동군': 4, '영동': 4, '옥천군': 4, '옥천': 4, '음성군': 4, '음성': 4, '단양': 4, '증평군': 4, '증평': 4, '태안군': 4, '태안': 4, '공주시': 4, '부여군': 4, '부여': 4, '금산군': 4, '금산': 4, '서천군': 4, '옥구읍': 4, '옥구': 4, '청양군': 4, '청양': 4, '논산시': 4, '논산': 4, '보령시': 4, '보령': 4, '예산군': 4, '예산': 4, '아산시': 4, '아산': 4, '천안시': 4, '천안': 4, '홍성군': 4, '홍성': 4, '계룡시': 4, '계룡': 4, '천시': 4, '대야': 4, '임실군': 4, '정읍': 4, '익산시': 4, '남원시': 4, '익산': 4, '진안': 4, '진안군': 4, '부안군': 4, '진도': 4, '곡성군': 4, '보성군': 4, '해남': 4, '장성군': 4, '광양시': 4, '함평': 4, '목포시': 4, '담양': 4, '고령': 4, '경산': 4, '구미': 4, '포항': 4, '봉화군': 4, '울진': 4, '군위군': 4, '청도군': 4, '성주군': 4, '영덕군': 4, '함안군': 4, '거창': 4, '10월': 4, '통영': 4, '10일': 4, '합천군': 4, '밀양시': 4, '밀양': 4, '한림읍': 4, '애월읍': 4, '구좌읍': 4, '동': 4, '서구': 4, '광산구': 4, '사상구': 4, '달성군': 4, '대덕구': 4, '남도': 4, '여주': 3, '용산': 3, '양양': 3, '25일': 3, '5월': 3, '7월': 3, '6월': 3, '3월': 3, '덕진구': 2, '반월동': 2, '조촌동': 2, '강남구': 2, '부천': 2, '울릉도': 2, '나운동': 2, '화순': 2, '광양': 2, '순천': 2, '가평': 2, '안동': 2, '은평구': 2, '영등포': 2, '송파': 2, '30일': 2, '파주': 2, '분구': 2, '17일': 2, '22일': 2, '양천구': 2, '있겠니': 2, '화천': 2, '홍천': 2, '태백': 2, '동해': 2, '영월': 2, '정성': 2, '정성군': 2, '평창': 2, '삼': 2, '철': 2, '제천': 2, '제천시': 2, '대야면': 2, '무주': 2, '장수': 2, '완도': 2, '여수시': 2, '신안': 2, '구례군': 2, '구례': 2, '화순군': 2, '고흥': 2, '영': 2, '광시': 2, '영광': 2, '담양군': 2, '함평군': 2, '목포': 2, '장성': 2, '화산': 2, '무안': 2, '경산시': 2, '상주시': 2, '칠곡군': 2, '김천': 2, '김천시': 2, '칠곡': 2, '문경': 2, '울릉군': 2, '봉화': 2, '영양군': 2, '의성군': 2, '양천시': 2, '청도': 2, '영덕': 2, '군위': 2, '영주시': 2, '김해': 2, '통영시': 2, '의령': 2, '거제': 2, '18일': 2, '남해': 2, '창녕군': 2, '함양군': 2, '함양': 2, '산청': 2, '4월': 2, '거제시': 2, '김해시': 2, '사천시': 2, '서귀포': 2, '서귀포시': 2, '안덕면': 2, '대정읍': 2, '조': 2, '전': 2, '읍': 2, '성산읍': 2, '표선면': 2, '남원읍': 2, '한경면': 2, '청라': 2, '2': 2, '원당동': 2, '당': 2, '오류': 2, '황': 2, '길동': 2, '연희동': 2, '검': 2, '암': 2, '경서동': 2, '불로': 2, '대곡동': 2, '검단동': 2, '계양구': 2, '부평구': 2, '남동구': 2, '대청동': 2, '효동': 2, '산내동': 2, '평화동': 2, '덕진동': 2, '해운대구': 2, '영도구': 2, '사하구': 2, '강서구': 2, '해연': 2, '제': 2, '구구': 2, '동래구': 2, '수영구': 2, '구': 2, '부산진구': 2, '남구구': 2, '보수동': 2, '중앙': 2, '제송동': 2, '송정동': 2, '영주동': 2, '동광동': 2, '광복동': 2, '남포동': 2, '수성구': 2, '달서구': 2, '유성구': 2, '특별자치시': 2, '세종시': 2, '울주군': 2, '용산역': 2, '성주': 2, '성산': 2, '상주': 2, '북도': 2, '전라도': 2, '전라': 2, '충청도': 2, '충청': 2, '경상도': 2, '경상': 2, '24일': 1, '동대문': 1, '14일': 1, '일산': 1, '19일': 1, '순창': 1, '곡성': 1, '15일': 1, '해운대': 1, '왕십리': 1, '28일': 1, '송퍼구': 1, '29일': 1, '31일': 1, '8일': 1, '7일': 1, '6일': 1, '5일': 1, '3일': 1, '2일': 1, '23일': 1, '16일': 1})\n"
          ],
          "name": "stdout"
        }
      ]
    },
    {
      "cell_type": "code",
      "metadata": {
        "id": "ZjlAtJioVsFO",
        "colab_type": "code",
        "colab": {
          "base_uri": "https://localhost:8080/",
          "height": 54
        },
        "outputId": "1a49fd7b-cad6-4f5e-bc8d-e0fd02328e05"
      },
      "source": [
        "frequency_cnt_set = frequency_cnt_set.most_common() # 빈도순으로 정렬 + 리스트로 형변환\n",
        "print(frequency_cnt_set)"
      ],
      "execution_count": null,
      "outputs": [
        {
          "output_type": "stream",
          "text": [
            "[('날씨', 1757), ('우산', 985), ('하니', 825), ('내일', 744), ('오늘', 664), ('써야', 590), ('주', 553), ('알려줘', 481), ('이번', 473), ('모레', 438), ('말', 418), ('알려줄래', 351), ('마스크', 295), ('비', 269), ('챙길까', 240), ('해줘', 172), ('해주세요', 170), ('울산', 168), ('옷', 160), ('입을까', 160), ('우비', 160), ('입어야', 160), ('상태', 158), ('전주', 156), ('서울', 145), ('쓸까', 145), ('써야해', 140), ('부산', 138), ('광주', 138), ('어떠니', 132), ('뭐', 128), ('야', 128), ('공기', 126), ('눈', 114), ('오니', 110), ('전북', 108), ('지', 103), ('좀', 92), ('인천', 90), ('군산', 90), ('좋니', 86), ('쓰기', 85), ('고민', 85), ('내', 84), ('일', 84), ('다음', 80), ('말까', 80), ('돼', 80), ('챙겨야', 80), ('어때', 72), ('이천', 70), ('오려나', 69), ('뭔', 68), ('맑니', 66), ('알고있니', 66), ('양주', 62), ('해줄래', 60), ('대구', 58), ('알려주라', 57), ('바람', 57), ('하늘', 54), ('강릉', 52), ('오산', 50), ('경상북도', 50), ('알려주세요', 49), ('강원도', 48), ('마포구', 46), ('싫은데', 45), ('오는지', 44), ('알려줄', 40), ('수', 40), ('알려', 40), ('줘', 40), ('싫어', 40), ('알려줘요', 40), ('있니', 38), ('서산', 36), ('맑은', 35), ('맑아', 34), ('전라북도', 34), ('전라남도', 34), ('서울시', 34), ('강원', 34), ('충청남도', 34), ('충남', 34), ('어떤지', 34), ('알', 34), ('아', 34), ('미세먼지', 34), ('경기도', 30), ('전남', 30), ('경남', 30), ('경상남도', 30), ('속초', 28), ('공주', 27), ('과천', 26), ('안양', 26), ('완주', 26), ('충청북도', 22), ('시', 22), ('부니', 22), ('불어', 22), ('경북', 22), ('이태원', 21), ('충북', 20), ('삼례', 20), ('동천동', 20), ('신촌', 20), ('종로', 20), ('여의도', 20), ('고창', 20), ('남원', 20), ('안암', 20), ('구리', 18), ('청주', 18), ('수원', 18), ('미세', 18), ('먼지', 18), ('해주', 16), ('라', 16), ('광진구', 16), ('대전', 15), ('횡성군', 14), ('삼척시', 14), ('군산시', 14), ('고령군', 14), ('제주', 14), ('부안', 13), ('많이', 13), ('부는지', 13), ('세종', 12), ('제주도', 12), ('평택', 12), ('동구', 12), ('중구', 12), ('무주군', 12), ('양산', 12), ('부산시', 12), ('마산', 12), ('12월', 11), ('금천구', 10), ('미룡동', 10), ('김포', 10), ('강북구', 10), ('노원구', 10), ('당진', 10), ('예천군', 10), ('의령군', 10), ('홍대', 9), ('금암동', 8), ('인제', 8), ('서초구', 8), ('의정부', 8), ('날짜', 8), ('대구광역시', 8), ('안성', 8), ('성남', 8), ('대', 8), ('고성군', 8), ('양양군', 8), ('서천', 8), ('옥서면', 8), ('장수군', 8), ('고창군', 8), ('순창군', 8), ('완도군', 8), ('경주', 8), ('울진군', 8), ('북구', 8), ('남구', 8), ('울', 8), ('산시', 8), ('9월', 7), ('12일', 7), ('1월', 7), ('창포', 6), ('길', 6), ('관악구', 6), ('삼척', 6), ('경기', 6), ('동두천', 6), ('광역시', 6), ('시흥', 6), ('안산', 6), ('남양주', 6), ('화남', 6), ('종로구', 6), ('구로구', 6), ('용산구', 6), ('영등포구', 6), ('송파구', 6), ('11월', 6), ('도봉구', 6), ('서', 6), ('2월', 6), ('진천', 6), ('홍천군', 6), ('원주시', 6), ('인제군', 6), ('동해시', 6), ('영월군', 6), ('평창군', 6), ('속초시', 6), ('단양군', 6), ('당진시', 6), ('임실', 6), ('완주군', 6), ('김제', 6), ('김제시', 6), ('진도군', 6), ('영광군', 6), ('광주시', 6), ('나주시', 6), ('나주', 6), ('고흥군', 6), ('무안군', 6), ('구미시', 6), ('포항시', 6), ('문경시', 6), ('청송군', 6), ('진주', 6), ('산청군', 6), ('하동', 6), ('하동군', 6), ('창원', 6), ('사천', 6), ('창녕', 6), ('양산시', 6), ('대구시', 6), ('전시', 6), ('농도', 6), ('충정', 6), ('여수', 5), ('8월', 5), ('양구', 5), ('13일', 5), ('11일', 5), ('괴산', 5), ('하나', 5), ('되네', 5), ('달', 4), ('원주', 4), ('춘천', 4), ('고양', 4), ('송천동', 4), ('서울특별시', 4), ('화성', 4), ('광명', 4), ('용인', 4), ('하남', 4), ('의왕', 4), ('광', 4), ('동대문구', 4), ('성북구', 4), ('9일', 4), ('동작구', 4), ('서대문구', 4), ('화천군', 4), ('횡성', 4), ('태백시', 4), ('정선군', 4), ('고성', 4), ('양구군', 4), ('괴산군', 4), ('보은군', 4), ('보은', 4), ('영동군', 4), ('영동', 4), ('옥천군', 4), ('옥천', 4), ('음성군', 4), ('음성', 4), ('단양', 4), ('증평군', 4), ('증평', 4), ('태안군', 4), ('태안', 4), ('공주시', 4), ('부여군', 4), ('부여', 4), ('금산군', 4), ('금산', 4), ('서천군', 4), ('옥구읍', 4), ('옥구', 4), ('청양군', 4), ('청양', 4), ('논산시', 4), ('논산', 4), ('보령시', 4), ('보령', 4), ('예산군', 4), ('예산', 4), ('아산시', 4), ('아산', 4), ('천안시', 4), ('천안', 4), ('홍성군', 4), ('홍성', 4), ('계룡시', 4), ('계룡', 4), ('천시', 4), ('대야', 4), ('임실군', 4), ('정읍', 4), ('익산시', 4), ('남원시', 4), ('익산', 4), ('진안', 4), ('진안군', 4), ('부안군', 4), ('진도', 4), ('곡성군', 4), ('보성군', 4), ('해남', 4), ('장성군', 4), ('광양시', 4), ('함평', 4), ('목포시', 4), ('담양', 4), ('고령', 4), ('경산', 4), ('구미', 4), ('포항', 4), ('봉화군', 4), ('울진', 4), ('군위군', 4), ('청도군', 4), ('성주군', 4), ('영덕군', 4), ('함안군', 4), ('거창', 4), ('10월', 4), ('통영', 4), ('10일', 4), ('합천군', 4), ('밀양시', 4), ('밀양', 4), ('한림읍', 4), ('애월읍', 4), ('구좌읍', 4), ('동', 4), ('서구', 4), ('광산구', 4), ('사상구', 4), ('달성군', 4), ('대덕구', 4), ('남도', 4), ('여주', 3), ('용산', 3), ('양양', 3), ('25일', 3), ('5월', 3), ('7월', 3), ('6월', 3), ('3월', 3), ('덕진구', 2), ('반월동', 2), ('조촌동', 2), ('강남구', 2), ('부천', 2), ('울릉도', 2), ('나운동', 2), ('화순', 2), ('광양', 2), ('순천', 2), ('가평', 2), ('안동', 2), ('은평구', 2), ('영등포', 2), ('송파', 2), ('30일', 2), ('파주', 2), ('분구', 2), ('17일', 2), ('22일', 2), ('양천구', 2), ('있겠니', 2), ('화천', 2), ('홍천', 2), ('태백', 2), ('동해', 2), ('영월', 2), ('정성', 2), ('정성군', 2), ('평창', 2), ('삼', 2), ('철', 2), ('제천', 2), ('제천시', 2), ('대야면', 2), ('무주', 2), ('장수', 2), ('완도', 2), ('여수시', 2), ('신안', 2), ('구례군', 2), ('구례', 2), ('화순군', 2), ('고흥', 2), ('영', 2), ('광시', 2), ('영광', 2), ('담양군', 2), ('함평군', 2), ('목포', 2), ('장성', 2), ('화산', 2), ('무안', 2), ('경산시', 2), ('상주시', 2), ('칠곡군', 2), ('김천', 2), ('김천시', 2), ('칠곡', 2), ('문경', 2), ('울릉군', 2), ('봉화', 2), ('영양군', 2), ('의성군', 2), ('양천시', 2), ('청도', 2), ('영덕', 2), ('군위', 2), ('영주시', 2), ('김해', 2), ('통영시', 2), ('의령', 2), ('거제', 2), ('18일', 2), ('남해', 2), ('창녕군', 2), ('함양군', 2), ('함양', 2), ('산청', 2), ('4월', 2), ('거제시', 2), ('김해시', 2), ('사천시', 2), ('서귀포', 2), ('서귀포시', 2), ('안덕면', 2), ('대정읍', 2), ('조', 2), ('전', 2), ('읍', 2), ('성산읍', 2), ('표선면', 2), ('남원읍', 2), ('한경면', 2), ('청라', 2), ('2', 2), ('원당동', 2), ('당', 2), ('오류', 2), ('황', 2), ('길동', 2), ('연희동', 2), ('검', 2), ('암', 2), ('경서동', 2), ('불로', 2), ('대곡동', 2), ('검단동', 2), ('계양구', 2), ('부평구', 2), ('남동구', 2), ('대청동', 2), ('효동', 2), ('산내동', 2), ('평화동', 2), ('덕진동', 2), ('해운대구', 2), ('영도구', 2), ('사하구', 2), ('강서구', 2), ('해연', 2), ('제', 2), ('구구', 2), ('동래구', 2), ('수영구', 2), ('구', 2), ('부산진구', 2), ('남구구', 2), ('보수동', 2), ('중앙', 2), ('제송동', 2), ('송정동', 2), ('영주동', 2), ('동광동', 2), ('광복동', 2), ('남포동', 2), ('수성구', 2), ('달서구', 2), ('유성구', 2), ('특별자치시', 2), ('세종시', 2), ('울주군', 2), ('용산역', 2), ('성주', 2), ('성산', 2), ('상주', 2), ('북도', 2), ('전라도', 2), ('전라', 2), ('충청도', 2), ('충청', 2), ('경상도', 2), ('경상', 2), ('24일', 1), ('동대문', 1), ('14일', 1), ('일산', 1), ('19일', 1), ('순창', 1), ('곡성', 1), ('15일', 1), ('해운대', 1), ('왕십리', 1), ('28일', 1), ('송퍼구', 1), ('29일', 1), ('31일', 1), ('8일', 1), ('7일', 1), ('6일', 1), ('5일', 1), ('3일', 1), ('2일', 1), ('23일', 1), ('16일', 1)]\n"
          ],
          "name": "stdout"
        }
      ]
    },
    {
      "cell_type": "code",
      "metadata": {
        "id": "kHceq1m3VdEX",
        "colab_type": "code",
        "colab": {
          "base_uri": "https://localhost:8080/",
          "height": 54
        },
        "outputId": "5307ec37-7a55-42c0-c594-bcd873081279"
      },
      "source": [
        "word_to_index = {}\n",
        "i = 1\n",
        "for (word, frequency) in frequency_cnt_set :\n",
        "    i = i + 1\n",
        "    word_to_index[word] = i\n",
        "print(word_to_index)"
      ],
      "execution_count": null,
      "outputs": [
        {
          "output_type": "stream",
          "text": [
            "{'날씨': 2, '우산': 3, '하니': 4, '내일': 5, '오늘': 6, '써야': 7, '주': 8, '알려줘': 9, '이번': 10, '모레': 11, '말': 12, '알려줄래': 13, '마스크': 14, '비': 15, '챙길까': 16, '해줘': 17, '해주세요': 18, '울산': 19, '옷': 20, '입을까': 21, '우비': 22, '입어야': 23, '상태': 24, '전주': 25, '서울': 26, '쓸까': 27, '써야해': 28, '부산': 29, '광주': 30, '어떠니': 31, '뭐': 32, '야': 33, '공기': 34, '눈': 35, '오니': 36, '전북': 37, '지': 38, '좀': 39, '인천': 40, '군산': 41, '좋니': 42, '쓰기': 43, '고민': 44, '내': 45, '일': 46, '다음': 47, '말까': 48, '돼': 49, '챙겨야': 50, '어때': 51, '이천': 52, '오려나': 53, '뭔': 54, '맑니': 55, '알고있니': 56, '양주': 57, '해줄래': 58, '대구': 59, '알려주라': 60, '바람': 61, '하늘': 62, '강릉': 63, '오산': 64, '경상북도': 65, '알려주세요': 66, '강원도': 67, '마포구': 68, '싫은데': 69, '오는지': 70, '알려줄': 71, '수': 72, '알려': 73, '줘': 74, '싫어': 75, '알려줘요': 76, '있니': 77, '서산': 78, '맑은': 79, '맑아': 80, '전라북도': 81, '전라남도': 82, '서울시': 83, '강원': 84, '충청남도': 85, '충남': 86, '어떤지': 87, '알': 88, '아': 89, '미세먼지': 90, '경기도': 91, '전남': 92, '경남': 93, '경상남도': 94, '속초': 95, '공주': 96, '과천': 97, '안양': 98, '완주': 99, '충청북도': 100, '시': 101, '부니': 102, '불어': 103, '경북': 104, '이태원': 105, '충북': 106, '삼례': 107, '동천동': 108, '신촌': 109, '종로': 110, '여의도': 111, '고창': 112, '남원': 113, '안암': 114, '구리': 115, '청주': 116, '수원': 117, '미세': 118, '먼지': 119, '해주': 120, '라': 121, '광진구': 122, '대전': 123, '횡성군': 124, '삼척시': 125, '군산시': 126, '고령군': 127, '제주': 128, '부안': 129, '많이': 130, '부는지': 131, '세종': 132, '제주도': 133, '평택': 134, '동구': 135, '중구': 136, '무주군': 137, '양산': 138, '부산시': 139, '마산': 140, '12월': 141, '금천구': 142, '미룡동': 143, '김포': 144, '강북구': 145, '노원구': 146, '당진': 147, '예천군': 148, '의령군': 149, '홍대': 150, '금암동': 151, '인제': 152, '서초구': 153, '의정부': 154, '날짜': 155, '대구광역시': 156, '안성': 157, '성남': 158, '대': 159, '고성군': 160, '양양군': 161, '서천': 162, '옥서면': 163, '장수군': 164, '고창군': 165, '순창군': 166, '완도군': 167, '경주': 168, '울진군': 169, '북구': 170, '남구': 171, '울': 172, '산시': 173, '9월': 174, '12일': 175, '1월': 176, '창포': 177, '길': 178, '관악구': 179, '삼척': 180, '경기': 181, '동두천': 182, '광역시': 183, '시흥': 184, '안산': 185, '남양주': 186, '화남': 187, '종로구': 188, '구로구': 189, '용산구': 190, '영등포구': 191, '송파구': 192, '11월': 193, '도봉구': 194, '서': 195, '2월': 196, '진천': 197, '홍천군': 198, '원주시': 199, '인제군': 200, '동해시': 201, '영월군': 202, '평창군': 203, '속초시': 204, '단양군': 205, '당진시': 206, '임실': 207, '완주군': 208, '김제': 209, '김제시': 210, '진도군': 211, '영광군': 212, '광주시': 213, '나주시': 214, '나주': 215, '고흥군': 216, '무안군': 217, '구미시': 218, '포항시': 219, '문경시': 220, '청송군': 221, '진주': 222, '산청군': 223, '하동': 224, '하동군': 225, '창원': 226, '사천': 227, '창녕': 228, '양산시': 229, '대구시': 230, '전시': 231, '농도': 232, '충정': 233, '여수': 234, '8월': 235, '양구': 236, '13일': 237, '11일': 238, '괴산': 239, '하나': 240, '되네': 241, '달': 242, '원주': 243, '춘천': 244, '고양': 245, '송천동': 246, '서울특별시': 247, '화성': 248, '광명': 249, '용인': 250, '하남': 251, '의왕': 252, '광': 253, '동대문구': 254, '성북구': 255, '9일': 256, '동작구': 257, '서대문구': 258, '화천군': 259, '횡성': 260, '태백시': 261, '정선군': 262, '고성': 263, '양구군': 264, '괴산군': 265, '보은군': 266, '보은': 267, '영동군': 268, '영동': 269, '옥천군': 270, '옥천': 271, '음성군': 272, '음성': 273, '단양': 274, '증평군': 275, '증평': 276, '태안군': 277, '태안': 278, '공주시': 279, '부여군': 280, '부여': 281, '금산군': 282, '금산': 283, '서천군': 284, '옥구읍': 285, '옥구': 286, '청양군': 287, '청양': 288, '논산시': 289, '논산': 290, '보령시': 291, '보령': 292, '예산군': 293, '예산': 294, '아산시': 295, '아산': 296, '천안시': 297, '천안': 298, '홍성군': 299, '홍성': 300, '계룡시': 301, '계룡': 302, '천시': 303, '대야': 304, '임실군': 305, '정읍': 306, '익산시': 307, '남원시': 308, '익산': 309, '진안': 310, '진안군': 311, '부안군': 312, '진도': 313, '곡성군': 314, '보성군': 315, '해남': 316, '장성군': 317, '광양시': 318, '함평': 319, '목포시': 320, '담양': 321, '고령': 322, '경산': 323, '구미': 324, '포항': 325, '봉화군': 326, '울진': 327, '군위군': 328, '청도군': 329, '성주군': 330, '영덕군': 331, '함안군': 332, '거창': 333, '10월': 334, '통영': 335, '10일': 336, '합천군': 337, '밀양시': 338, '밀양': 339, '한림읍': 340, '애월읍': 341, '구좌읍': 342, '동': 343, '서구': 344, '광산구': 345, '사상구': 346, '달성군': 347, '대덕구': 348, '남도': 349, '여주': 350, '용산': 351, '양양': 352, '25일': 353, '5월': 354, '7월': 355, '6월': 356, '3월': 357, '덕진구': 358, '반월동': 359, '조촌동': 360, '강남구': 361, '부천': 362, '울릉도': 363, '나운동': 364, '화순': 365, '광양': 366, '순천': 367, '가평': 368, '안동': 369, '은평구': 370, '영등포': 371, '송파': 372, '30일': 373, '파주': 374, '분구': 375, '17일': 376, '22일': 377, '양천구': 378, '있겠니': 379, '화천': 380, '홍천': 381, '태백': 382, '동해': 383, '영월': 384, '정성': 385, '정성군': 386, '평창': 387, '삼': 388, '철': 389, '제천': 390, '제천시': 391, '대야면': 392, '무주': 393, '장수': 394, '완도': 395, '여수시': 396, '신안': 397, '구례군': 398, '구례': 399, '화순군': 400, '고흥': 401, '영': 402, '광시': 403, '영광': 404, '담양군': 405, '함평군': 406, '목포': 407, '장성': 408, '화산': 409, '무안': 410, '경산시': 411, '상주시': 412, '칠곡군': 413, '김천': 414, '김천시': 415, '칠곡': 416, '문경': 417, '울릉군': 418, '봉화': 419, '영양군': 420, '의성군': 421, '양천시': 422, '청도': 423, '영덕': 424, '군위': 425, '영주시': 426, '김해': 427, '통영시': 428, '의령': 429, '거제': 430, '18일': 431, '남해': 432, '창녕군': 433, '함양군': 434, '함양': 435, '산청': 436, '4월': 437, '거제시': 438, '김해시': 439, '사천시': 440, '서귀포': 441, '서귀포시': 442, '안덕면': 443, '대정읍': 444, '조': 445, '전': 446, '읍': 447, '성산읍': 448, '표선면': 449, '남원읍': 450, '한경면': 451, '청라': 452, '2': 453, '원당동': 454, '당': 455, '오류': 456, '황': 457, '길동': 458, '연희동': 459, '검': 460, '암': 461, '경서동': 462, '불로': 463, '대곡동': 464, '검단동': 465, '계양구': 466, '부평구': 467, '남동구': 468, '대청동': 469, '효동': 470, '산내동': 471, '평화동': 472, '덕진동': 473, '해운대구': 474, '영도구': 475, '사하구': 476, '강서구': 477, '해연': 478, '제': 479, '구구': 480, '동래구': 481, '수영구': 482, '구': 483, '부산진구': 484, '남구구': 485, '보수동': 486, '중앙': 487, '제송동': 488, '송정동': 489, '영주동': 490, '동광동': 491, '광복동': 492, '남포동': 493, '수성구': 494, '달서구': 495, '유성구': 496, '특별자치시': 497, '세종시': 498, '울주군': 499, '용산역': 500, '성주': 501, '성산': 502, '상주': 503, '북도': 504, '전라도': 505, '전라': 506, '충청도': 507, '충청': 508, '경상도': 509, '경상': 510, '24일': 511, '동대문': 512, '14일': 513, '일산': 514, '19일': 515, '순창': 516, '곡성': 517, '15일': 518, '해운대': 519, '왕십리': 520, '28일': 521, '송퍼구': 522, '29일': 523, '31일': 524, '8일': 525, '7일': 526, '6일': 527, '5일': 528, '3일': 529, '2일': 530, '23일': 531, '16일': 532}\n"
          ],
          "name": "stdout"
        }
      ]
    },
    {
      "cell_type": "code",
      "metadata": {
        "id": "BQOvbNpMQwCT",
        "colab_type": "code",
        "colab": {}
      },
      "source": [
        "char_to_index = {'UNK' : 1}\n",
        "for word in word_to_index:\n",
        "  for char in word:\n",
        "    if char not in char_to_index:\n",
        "      char_to_index[char] = len(char_to_index) + 1"
      ],
      "execution_count": null,
      "outputs": []
    },
    {
      "cell_type": "code",
      "metadata": {
        "id": "neBNMHg6RyiP",
        "colab_type": "code",
        "colab": {
          "base_uri": "https://localhost:8080/",
          "height": 54
        },
        "outputId": "89a2e96e-eb85-4f0b-e121-1d3113344284"
      },
      "source": [
        "print(char_to_index)"
      ],
      "execution_count": null,
      "outputs": [
        {
          "output_type": "stream",
          "text": [
            "{'UNK': 1, '날': 2, '씨': 3, '우': 4, '산': 5, '하': 6, '니': 7, '내': 8, '일': 9, '오': 10, '늘': 11, '써': 12, '야': 13, '주': 14, '알': 15, '려': 16, '줘': 17, '이': 18, '번': 19, '모': 20, '레': 21, '말': 22, '줄': 23, '래': 24, '마': 25, '스': 26, '크': 27, '비': 28, '챙': 29, '길': 30, '까': 31, '해': 32, '세': 33, '요': 34, '울': 35, '옷': 36, '입': 37, '을': 38, '어': 39, '상': 40, '태': 41, '전': 42, '서': 43, '쓸': 44, '부': 45, '광': 46, '떠': 47, '뭐': 48, '공': 49, '기': 50, '눈': 51, '북': 52, '지': 53, '좀': 54, '인': 55, '천': 56, '군': 57, '좋': 58, '쓰': 59, '고': 60, '민': 61, '다': 62, '음': 63, '돼': 64, '겨': 65, '때': 66, '나': 67, '뭔': 68, '맑': 69, '있': 70, '양': 71, '대': 72, '구': 73, '라': 74, '바': 75, '람': 76, '강': 77, '릉': 78, '경': 79, '도': 80, '원': 81, '포': 82, '싫': 83, '은': 84, '데': 85, '는': 86, '수': 87, '아': 88, '남': 89, '시': 90, '충': 91, '청': 92, '떤': 93, '미': 94, '먼': 95, '속': 96, '초': 97, '과': 98, '안': 99, '완': 100, '불': 101, '삼': 102, '례': 103, '동': 104, '신': 105, '촌': 106, '종': 107, '로': 108, '여': 109, '의': 110, '창': 111, '암': 112, '리': 113, '진': 114, '횡': 115, '성': 116, '척': 117, '령': 118, '제': 119, '많': 120, '평': 121, '택': 122, '중': 123, '무': 124, '1': 125, '2': 126, '월': 127, '금': 128, '룡': 129, '김': 130, '노': 131, '당': 132, '예': 133, '홍': 134, '정': 135, '짜': 136, '역': 137, '옥': 138, '면': 139, '장': 140, '순': 141, '9': 142, '관': 143, '악': 144, '두': 145, '흥': 146, '화': 147, '용': 148, '영': 149, '등': 150, '송': 151, '파': 152, '봉': 153, '단': 154, '임': 155, '실': 156, '항': 157, '문': 158, '사': 159, '녕': 160, '농': 161, '8': 162, '3': 163, '괴': 164, '되': 165, '네': 166, '달': 167, '춘': 168, '특': 169, '별': 170, '명': 171, '왕': 172, '작': 173, '백': 174, '선': 175, '보': 176, '증': 177, '읍': 178, '논': 179, '계': 180, '익': 181, '곡': 182, '함': 183, '목': 184, '담': 185, '위': 186, '덕': 187, '거': 188, '0': 189, '통': 190, '합': 191, '밀': 192, '한': 193, '림': 194, '애': 195, '좌': 196, '5': 197, '7': 198, '6': 199, '반': 200, '조': 201, '운': 202, '가': 203, '분': 204, '겠': 205, '철': 206, '칠': 207, '4': 208, '귀': 209, '표': 210, '류': 211, '황': 212, '연': 213, '희': 214, '검': 215, '효': 216, '앙': 217, '복': 218, '유': 219, '자': 220, '치': 221, '십': 222, '퍼': 223}\n"
          ],
          "name": "stdout"
        }
      ]
    },
    {
      "cell_type": "code",
      "metadata": {
        "id": "i1eFEKJrrDJk",
        "colab_type": "code",
        "colab": {
          "base_uri": "https://localhost:8080/",
          "height": 54
        },
        "outputId": "56df592d-56f3-4116-8b0e-813bb4df8fa3"
      },
      "source": [
        "word_to_index['UNK'] = 1\n",
        "print(word_to_index)"
      ],
      "execution_count": null,
      "outputs": [
        {
          "output_type": "stream",
          "text": [
            "{'날씨': 2, '우산': 3, '하니': 4, '내일': 5, '오늘': 6, '써야': 7, '주': 8, '알려줘': 9, '이번': 10, '모레': 11, '말': 12, '알려줄래': 13, '마스크': 14, '비': 15, '챙길까': 16, '해줘': 17, '해주세요': 18, '울산': 19, '옷': 20, '입을까': 21, '우비': 22, '입어야': 23, '상태': 24, '전주': 25, '서울': 26, '쓸까': 27, '써야해': 28, '부산': 29, '광주': 30, '어떠니': 31, '뭐': 32, '야': 33, '공기': 34, '눈': 35, '오니': 36, '전북': 37, '지': 38, '좀': 39, '인천': 40, '군산': 41, '좋니': 42, '쓰기': 43, '고민': 44, '내': 45, '일': 46, '다음': 47, '말까': 48, '돼': 49, '챙겨야': 50, '어때': 51, '이천': 52, '오려나': 53, '뭔': 54, '맑니': 55, '알고있니': 56, '양주': 57, '해줄래': 58, '대구': 59, '알려주라': 60, '바람': 61, '하늘': 62, '강릉': 63, '오산': 64, '경상북도': 65, '알려주세요': 66, '강원도': 67, '마포구': 68, '싫은데': 69, '오는지': 70, '알려줄': 71, '수': 72, '알려': 73, '줘': 74, '싫어': 75, '알려줘요': 76, '있니': 77, '서산': 78, '맑은': 79, '맑아': 80, '전라북도': 81, '전라남도': 82, '서울시': 83, '강원': 84, '충청남도': 85, '충남': 86, '어떤지': 87, '알': 88, '아': 89, '미세먼지': 90, '경기도': 91, '전남': 92, '경남': 93, '경상남도': 94, '속초': 95, '공주': 96, '과천': 97, '안양': 98, '완주': 99, '충청북도': 100, '시': 101, '부니': 102, '불어': 103, '경북': 104, '이태원': 105, '충북': 106, '삼례': 107, '동천동': 108, '신촌': 109, '종로': 110, '여의도': 111, '고창': 112, '남원': 113, '안암': 114, '구리': 115, '청주': 116, '수원': 117, '미세': 118, '먼지': 119, '해주': 120, '라': 121, '광진구': 122, '대전': 123, '횡성군': 124, '삼척시': 125, '군산시': 126, '고령군': 127, '제주': 128, '부안': 129, '많이': 130, '부는지': 131, '세종': 132, '제주도': 133, '평택': 134, '동구': 135, '중구': 136, '무주군': 137, '양산': 138, '부산시': 139, '마산': 140, '12월': 141, '금천구': 142, '미룡동': 143, '김포': 144, '강북구': 145, '노원구': 146, '당진': 147, '예천군': 148, '의령군': 149, '홍대': 150, '금암동': 151, '인제': 152, '서초구': 153, '의정부': 154, '날짜': 155, '대구광역시': 156, '안성': 157, '성남': 158, '대': 159, '고성군': 160, '양양군': 161, '서천': 162, '옥서면': 163, '장수군': 164, '고창군': 165, '순창군': 166, '완도군': 167, '경주': 168, '울진군': 169, '북구': 170, '남구': 171, '울': 172, '산시': 173, '9월': 174, '12일': 175, '1월': 176, '창포': 177, '길': 178, '관악구': 179, '삼척': 180, '경기': 181, '동두천': 182, '광역시': 183, '시흥': 184, '안산': 185, '남양주': 186, '화남': 187, '종로구': 188, '구로구': 189, '용산구': 190, '영등포구': 191, '송파구': 192, '11월': 193, '도봉구': 194, '서': 195, '2월': 196, '진천': 197, '홍천군': 198, '원주시': 199, '인제군': 200, '동해시': 201, '영월군': 202, '평창군': 203, '속초시': 204, '단양군': 205, '당진시': 206, '임실': 207, '완주군': 208, '김제': 209, '김제시': 210, '진도군': 211, '영광군': 212, '광주시': 213, '나주시': 214, '나주': 215, '고흥군': 216, '무안군': 217, '구미시': 218, '포항시': 219, '문경시': 220, '청송군': 221, '진주': 222, '산청군': 223, '하동': 224, '하동군': 225, '창원': 226, '사천': 227, '창녕': 228, '양산시': 229, '대구시': 230, '전시': 231, '농도': 232, '충정': 233, '여수': 234, '8월': 235, '양구': 236, '13일': 237, '11일': 238, '괴산': 239, '하나': 240, '되네': 241, '달': 242, '원주': 243, '춘천': 244, '고양': 245, '송천동': 246, '서울특별시': 247, '화성': 248, '광명': 249, '용인': 250, '하남': 251, '의왕': 252, '광': 253, '동대문구': 254, '성북구': 255, '9일': 256, '동작구': 257, '서대문구': 258, '화천군': 259, '횡성': 260, '태백시': 261, '정선군': 262, '고성': 263, '양구군': 264, '괴산군': 265, '보은군': 266, '보은': 267, '영동군': 268, '영동': 269, '옥천군': 270, '옥천': 271, '음성군': 272, '음성': 273, '단양': 274, '증평군': 275, '증평': 276, '태안군': 277, '태안': 278, '공주시': 279, '부여군': 280, '부여': 281, '금산군': 282, '금산': 283, '서천군': 284, '옥구읍': 285, '옥구': 286, '청양군': 287, '청양': 288, '논산시': 289, '논산': 290, '보령시': 291, '보령': 292, '예산군': 293, '예산': 294, '아산시': 295, '아산': 296, '천안시': 297, '천안': 298, '홍성군': 299, '홍성': 300, '계룡시': 301, '계룡': 302, '천시': 303, '대야': 304, '임실군': 305, '정읍': 306, '익산시': 307, '남원시': 308, '익산': 309, '진안': 310, '진안군': 311, '부안군': 312, '진도': 313, '곡성군': 314, '보성군': 315, '해남': 316, '장성군': 317, '광양시': 318, '함평': 319, '목포시': 320, '담양': 321, '고령': 322, '경산': 323, '구미': 324, '포항': 325, '봉화군': 326, '울진': 327, '군위군': 328, '청도군': 329, '성주군': 330, '영덕군': 331, '함안군': 332, '거창': 333, '10월': 334, '통영': 335, '10일': 336, '합천군': 337, '밀양시': 338, '밀양': 339, '한림읍': 340, '애월읍': 341, '구좌읍': 342, '동': 343, '서구': 344, '광산구': 345, '사상구': 346, '달성군': 347, '대덕구': 348, '남도': 349, '여주': 350, '용산': 351, '양양': 352, '25일': 353, '5월': 354, '7월': 355, '6월': 356, '3월': 357, '덕진구': 358, '반월동': 359, '조촌동': 360, '강남구': 361, '부천': 362, '울릉도': 363, '나운동': 364, '화순': 365, '광양': 366, '순천': 367, '가평': 368, '안동': 369, '은평구': 370, '영등포': 371, '송파': 372, '30일': 373, '파주': 374, '분구': 375, '17일': 376, '22일': 377, '양천구': 378, '있겠니': 379, '화천': 380, '홍천': 381, '태백': 382, '동해': 383, '영월': 384, '정성': 385, '정성군': 386, '평창': 387, '삼': 388, '철': 389, '제천': 390, '제천시': 391, '대야면': 392, '무주': 393, '장수': 394, '완도': 395, '여수시': 396, '신안': 397, '구례군': 398, '구례': 399, '화순군': 400, '고흥': 401, '영': 402, '광시': 403, '영광': 404, '담양군': 405, '함평군': 406, '목포': 407, '장성': 408, '화산': 409, '무안': 410, '경산시': 411, '상주시': 412, '칠곡군': 413, '김천': 414, '김천시': 415, '칠곡': 416, '문경': 417, '울릉군': 418, '봉화': 419, '영양군': 420, '의성군': 421, '양천시': 422, '청도': 423, '영덕': 424, '군위': 425, '영주시': 426, '김해': 427, '통영시': 428, '의령': 429, '거제': 430, '18일': 431, '남해': 432, '창녕군': 433, '함양군': 434, '함양': 435, '산청': 436, '4월': 437, '거제시': 438, '김해시': 439, '사천시': 440, '서귀포': 441, '서귀포시': 442, '안덕면': 443, '대정읍': 444, '조': 445, '전': 446, '읍': 447, '성산읍': 448, '표선면': 449, '남원읍': 450, '한경면': 451, '청라': 452, '2': 453, '원당동': 454, '당': 455, '오류': 456, '황': 457, '길동': 458, '연희동': 459, '검': 460, '암': 461, '경서동': 462, '불로': 463, '대곡동': 464, '검단동': 465, '계양구': 466, '부평구': 467, '남동구': 468, '대청동': 469, '효동': 470, '산내동': 471, '평화동': 472, '덕진동': 473, '해운대구': 474, '영도구': 475, '사하구': 476, '강서구': 477, '해연': 478, '제': 479, '구구': 480, '동래구': 481, '수영구': 482, '구': 483, '부산진구': 484, '남구구': 485, '보수동': 486, '중앙': 487, '제송동': 488, '송정동': 489, '영주동': 490, '동광동': 491, '광복동': 492, '남포동': 493, '수성구': 494, '달서구': 495, '유성구': 496, '특별자치시': 497, '세종시': 498, '울주군': 499, '용산역': 500, '성주': 501, '성산': 502, '상주': 503, '북도': 504, '전라도': 505, '전라': 506, '충청도': 507, '충청': 508, '경상도': 509, '경상': 510, '24일': 511, '동대문': 512, '14일': 513, '일산': 514, '19일': 515, '순창': 516, '곡성': 517, '15일': 518, '해운대': 519, '왕십리': 520, '28일': 521, '송퍼구': 522, '29일': 523, '31일': 524, '8일': 525, '7일': 526, '6일': 527, '5일': 528, '3일': 529, '2일': 530, '23일': 531, '16일': 532, 'UNK': 1}\n"
          ],
          "name": "stdout"
        }
      ]
    },
    {
      "cell_type": "code",
      "metadata": {
        "id": "9Cpj5Ne2E52K",
        "colab_type": "code",
        "colab": {
          "base_uri": "https://localhost:8080/",
          "height": 52
        },
        "outputId": "662326fa-df39-4969-f04d-f8fbfe36085e"
      },
      "source": [
        "print(len(char_to_index))\n",
        "print(len(word_to_index))"
      ],
      "execution_count": null,
      "outputs": [
        {
          "output_type": "stream",
          "text": [
            "223\n",
            "532\n"
          ],
          "name": "stdout"
        }
      ]
    },
    {
      "cell_type": "code",
      "metadata": {
        "id": "tDzdSe5baWf5",
        "colab_type": "code",
        "colab": {}
      },
      "source": [
        "label_to_index = {}\n",
        "index_to_label = []\n",
        "for sample in labels:\n",
        "    for label in sample:\n",
        "        if label not in label_to_index:\n",
        "            label_to_index[label] = len(label_to_index)\n",
        "            index_to_label.append(label)"
      ],
      "execution_count": null,
      "outputs": []
    },
    {
      "cell_type": "code",
      "metadata": {
        "id": "G8uRhwNHciFG",
        "colab_type": "code",
        "colab": {
          "base_uri": "https://localhost:8080/",
          "height": 34
        },
        "outputId": "3c1db051-9972-4ba9-bef1-d24659c56469"
      },
      "source": [
        "print(label_to_index)"
      ],
      "execution_count": null,
      "outputs": [
        {
          "output_type": "stream",
          "text": [
            "{'DATE': 0, 'LOCATION': 1, 'O': 2}\n"
          ],
          "name": "stdout"
        }
      ]
    },
    {
      "cell_type": "code",
      "metadata": {
        "id": "ipXruXLQc-df",
        "colab_type": "code",
        "colab": {
          "base_uri": "https://localhost:8080/",
          "height": 34
        },
        "outputId": "5fcb6616-6820-446b-af5a-ffc621838ba9"
      },
      "source": [
        "print(index_to_label)"
      ],
      "execution_count": null,
      "outputs": [
        {
          "output_type": "stream",
          "text": [
            "['DATE', 'LOCATION', 'O']\n"
          ],
          "name": "stdout"
        }
      ]
    },
    {
      "cell_type": "code",
      "metadata": {
        "id": "nYh5WsRKdC4f",
        "colab_type": "code",
        "colab": {}
      },
      "source": [
        "MAX_LENGTH = 15\n",
        "\n",
        "def padding_char_indice(char_indice, MAX_LENGTH):\n",
        "    return pad_sequences(\n",
        "      char_indice, maxlen=MAX_LENGTH, padding='post', \n",
        "      value = 0)\n",
        "    \n",
        "def integer_coding(tokenized_sentences, labels):\n",
        "    dataset = []\n",
        "    for ts, label in zip(tokenized_sentences, labels):\n",
        "        word_indice = [word_to_index[t] for t in ts]\n",
        "        char_indice = [[char_to_index[char] for char in t]  \n",
        "                                                     for t in ts]\n",
        "        char_indice = padding_char_indice(char_indice, MAX_LENGTH)\n",
        "        label_indice = [label_to_index[l] for l in label]\n",
        "    \n",
        "        for chars_of_token in char_indice:\n",
        "            if len(chars_of_token) > MAX_LENGTH:\n",
        "                print(\"최대 단어 길이 초과!\")\n",
        "                continue\n",
        "        dataset.append([word_indice, char_indice, label_indice])\n",
        "    return dataset"
      ],
      "execution_count": null,
      "outputs": []
    },
    {
      "cell_type": "code",
      "metadata": {
        "id": "Hs5EaQxAeYjG",
        "colab_type": "code",
        "colab": {}
      },
      "source": [
        "dataset = integer_coding(tokenized_sentences, labels)"
      ],
      "execution_count": null,
      "outputs": []
    },
    {
      "cell_type": "code",
      "metadata": {
        "id": "DQRKOp2necHO",
        "colab_type": "code",
        "colab": {}
      },
      "source": [
        "word_indice, char_indice, label_indice = dataset[0]"
      ],
      "execution_count": null,
      "outputs": []
    },
    {
      "cell_type": "code",
      "metadata": {
        "id": "3IqcAXz-elIm",
        "colab_type": "code",
        "colab": {
          "base_uri": "https://localhost:8080/",
          "height": 34
        },
        "outputId": "dded3807-4810-482a-8388-7c03df517079"
      },
      "source": [
        "word_indice"
      ],
      "execution_count": null,
      "outputs": [
        {
          "output_type": "execute_result",
          "data": {
            "text/plain": [
              "[47, 8, 25, 15, 53]"
            ]
          },
          "metadata": {
            "tags": []
          },
          "execution_count": 29
        }
      ]
    },
    {
      "cell_type": "code",
      "metadata": {
        "id": "LOwcdjwpe6Ob",
        "colab_type": "code",
        "colab": {}
      },
      "source": [
        "index_to_word={}\n",
        "for key, value in word_to_index.items():\n",
        "    index_to_word[value] = key"
      ],
      "execution_count": null,
      "outputs": []
    },
    {
      "cell_type": "code",
      "metadata": {
        "id": "HmZ6DKUWevFz",
        "colab_type": "code",
        "colab": {
          "base_uri": "https://localhost:8080/",
          "height": 34
        },
        "outputId": "6be29b38-7477-4e54-cd57-c1b7aee2e7fe"
      },
      "source": [
        "print(' '.join([index_to_word[index] for index in word_indice]))"
      ],
      "execution_count": null,
      "outputs": [
        {
          "output_type": "stream",
          "text": [
            "다음 주 전주 비 오려나\n"
          ],
          "name": "stdout"
        }
      ]
    },
    {
      "cell_type": "code",
      "metadata": {
        "id": "V6RYQprgemnO",
        "colab_type": "code",
        "colab": {
          "base_uri": "https://localhost:8080/",
          "height": 34
        },
        "outputId": "204e14e1-44d6-4f2c-e95b-cf28c1749029"
      },
      "source": [
        "label_indice"
      ],
      "execution_count": null,
      "outputs": [
        {
          "output_type": "execute_result",
          "data": {
            "text/plain": [
              "[0, 0, 1, 2, 2]"
            ]
          },
          "metadata": {
            "tags": []
          },
          "execution_count": 32
        }
      ]
    },
    {
      "cell_type": "code",
      "metadata": {
        "id": "Fwa-ixGie-r-",
        "colab_type": "code",
        "colab": {
          "base_uri": "https://localhost:8080/",
          "height": 123
        },
        "outputId": "8e006460-fcb5-4bdf-aa87-af8cd51f45f5"
      },
      "source": [
        "char_indice"
      ],
      "execution_count": null,
      "outputs": [
        {
          "output_type": "execute_result",
          "data": {
            "text/plain": [
              "array([[62, 63,  0,  0,  0,  0,  0,  0,  0,  0,  0,  0,  0,  0,  0],\n",
              "       [14,  0,  0,  0,  0,  0,  0,  0,  0,  0,  0,  0,  0,  0,  0],\n",
              "       [42, 14,  0,  0,  0,  0,  0,  0,  0,  0,  0,  0,  0,  0,  0],\n",
              "       [28,  0,  0,  0,  0,  0,  0,  0,  0,  0,  0,  0,  0,  0,  0],\n",
              "       [10, 16, 67,  0,  0,  0,  0,  0,  0,  0,  0,  0,  0,  0,  0]],\n",
              "      dtype=int32)"
            ]
          },
          "metadata": {
            "tags": []
          },
          "execution_count": 33
        }
      ]
    },
    {
      "cell_type": "code",
      "metadata": {
        "id": "JkJvamj4oGm7",
        "colab_type": "code",
        "colab": {}
      },
      "source": [
        "train_batch, train_batch_len = createBatches(dataset)"
      ],
      "execution_count": null,
      "outputs": []
    },
    {
      "cell_type": "code",
      "metadata": {
        "id": "irbAEYzMoIOb",
        "colab_type": "code",
        "colab": {
          "base_uri": "https://localhost:8080/",
          "height": 176
        },
        "outputId": "8494d0d6-7f84-4b23-f3e3-c2c017402e8e"
      },
      "source": [
        "for i, batch in enumerate(iterate_minibatches(train_batch,train_batch_len)):\n",
        "        labels, tokens ,char = batch\n",
        "        print(labels.shape, tokens.shape, char.shape)"
      ],
      "execution_count": null,
      "outputs": [
        {
          "output_type": "stream",
          "text": [
            "(86, 2, 1) (86, 2) (86, 2, 15)\n",
            "(637, 3, 1) (637, 3) (637, 3, 15)\n",
            "(1043, 4, 1) (1043, 4) (1043, 4, 15)\n",
            "(1509, 5, 1) (1509, 5) (1509, 5, 15)\n",
            "(399, 6, 1) (399, 6) (399, 6, 15)\n",
            "(157, 7, 1) (157, 7) (157, 7, 15)\n",
            "(14, 8, 1) (14, 8) (14, 8, 15)\n",
            "(4, 9, 1) (4, 9) (4, 9, 15)\n",
            "(2, 24, 1) (2, 24) (2, 24, 15)\n"
          ],
          "name": "stdout"
        }
      ]
    },
    {
      "cell_type": "markdown",
      "metadata": {
        "id": "NcQZVuY2MBA0",
        "colab_type": "text"
      },
      "source": [
        "문장의 길이가 같으면 병렬 연산이 가능해진다. 이것이 단어 시퀀스에서 Padding을 하는 이유였다. 그렇다면 위에서는 병렬 연산을 위해 어떤 기준으로 묶인 것일까?  \n",
        "Hint : 위 Shape에서 가운데 차원은 문장 길이다. "
      ]
    },
    {
      "cell_type": "code",
      "metadata": {
        "id": "5fHAjV41fB-G",
        "colab_type": "code",
        "colab": {}
      },
      "source": [
        "from tensorflow.keras.layers import Embedding, TimeDistributed, Dropout, concatenate, Bidirectional, LSTM, Conv1D, Dense, MaxPooling1D, Flatten\n",
        "from tensorflow.keras import Input, Model\n",
        "from tensorflow.keras.initializers import RandomUniform\n",
        "from tensorflow.keras.utils import Progbar"
      ],
      "execution_count": null,
      "outputs": []
    },
    {
      "cell_type": "code",
      "metadata": {
        "id": "ItJjWRAAfcO9",
        "colab_type": "code",
        "colab": {
          "base_uri": "https://localhost:8080/",
          "height": 656
        },
        "outputId": "d0007ad6-cf3c-4c43-827c-a84151513fd8"
      },
      "source": [
        "# 단어 임베딩\n",
        "words_input = Input(shape=(None,),dtype='int32',name='words_input')\n",
        "words = Embedding(input_dim = len(word_to_index) + 1, output_dim = 64)(words_input)\n",
        "\n",
        "# char 임베딩\n",
        "character_input=Input(shape=(None,MAX_LENGTH,),name='char_input')\n",
        "embed_char_out=TimeDistributed(Embedding(len(char_to_index)+1, 30, embeddings_initializer=RandomUniform(minval=-0.5, maxval=0.5)), name='char_embedding')(character_input)\n",
        "dropout= Dropout(0.5)(embed_char_out)\n",
        "\n",
        "# char 임베딩에 대해서는 Conv1D 수행\n",
        "conv1d_out= TimeDistributed(Conv1D(kernel_size=3, filters=30, padding='same',activation='tanh', strides=1))(dropout)\n",
        "maxpool_out=TimeDistributed(MaxPooling1D(MAX_LENGTH))(conv1d_out)\n",
        "char = TimeDistributed(Flatten())(maxpool_out)\n",
        "char = Dropout(0.5)(char)\n",
        "\n",
        "# char 임베딩을 Conv1D 수행한 뒤에 단어 임베딩과 연결\n",
        "output = concatenate([words, char])\n",
        "\n",
        "# 연결한 벡터를 가지고 문장의 길이만큼 LSTM을 수행\n",
        "output = Bidirectional(LSTM(200, return_sequences=True, dropout=0.50, recurrent_dropout=0.25))(output)\n",
        "\n",
        "# 출력층\n",
        "output = TimeDistributed(Dense(len(label_to_index), activation='softmax'))(output)\n",
        "\n",
        "model = Model(inputs=[words_input,character_input], outputs=[output])\n",
        "model.compile(loss='sparse_categorical_crossentropy', optimizer='nadam')\n",
        "model.summary()"
      ],
      "execution_count": null,
      "outputs": [
        {
          "output_type": "stream",
          "text": [
            "WARNING:tensorflow:Layer lstm will not use cuDNN kernel since it doesn't meet the cuDNN kernel criteria. It will use generic GPU kernel as fallback when running on GPU\n",
            "WARNING:tensorflow:Layer lstm will not use cuDNN kernel since it doesn't meet the cuDNN kernel criteria. It will use generic GPU kernel as fallback when running on GPU\n",
            "WARNING:tensorflow:Layer lstm will not use cuDNN kernel since it doesn't meet the cuDNN kernel criteria. It will use generic GPU kernel as fallback when running on GPU\n",
            "Model: \"model\"\n",
            "__________________________________________________________________________________________________\n",
            "Layer (type)                    Output Shape         Param #     Connected to                     \n",
            "==================================================================================================\n",
            "char_input (InputLayer)         [(None, None, 15)]   0                                            \n",
            "__________________________________________________________________________________________________\n",
            "char_embedding (TimeDistributed (None, None, 15, 30) 6720        char_input[0][0]                 \n",
            "__________________________________________________________________________________________________\n",
            "dropout (Dropout)               (None, None, 15, 30) 0           char_embedding[0][0]             \n",
            "__________________________________________________________________________________________________\n",
            "time_distributed (TimeDistribut (None, None, 15, 30) 2730        dropout[0][0]                    \n",
            "__________________________________________________________________________________________________\n",
            "time_distributed_1 (TimeDistrib (None, None, 1, 30)  0           time_distributed[0][0]           \n",
            "__________________________________________________________________________________________________\n",
            "words_input (InputLayer)        [(None, None)]       0                                            \n",
            "__________________________________________________________________________________________________\n",
            "time_distributed_2 (TimeDistrib (None, None, 30)     0           time_distributed_1[0][0]         \n",
            "__________________________________________________________________________________________________\n",
            "embedding (Embedding)           (None, None, 64)     34112       words_input[0][0]                \n",
            "__________________________________________________________________________________________________\n",
            "dropout_1 (Dropout)             (None, None, 30)     0           time_distributed_2[0][0]         \n",
            "__________________________________________________________________________________________________\n",
            "concatenate (Concatenate)       (None, None, 94)     0           embedding[0][0]                  \n",
            "                                                                 dropout_1[0][0]                  \n",
            "__________________________________________________________________________________________________\n",
            "bidirectional (Bidirectional)   (None, None, 400)    472000      concatenate[0][0]                \n",
            "__________________________________________________________________________________________________\n",
            "time_distributed_3 (TimeDistrib (None, None, 3)      1203        bidirectional[0][0]              \n",
            "==================================================================================================\n",
            "Total params: 516,765\n",
            "Trainable params: 516,765\n",
            "Non-trainable params: 0\n",
            "__________________________________________________________________________________________________\n"
          ],
          "name": "stdout"
        }
      ]
    },
    {
      "cell_type": "markdown",
      "metadata": {
        "id": "8EQUwB5wOO8P",
        "colab_type": "text"
      },
      "source": [
        "char embedding params : 224 * 30 = 6720  \n",
        "word embedding params : 533 * 64 = 34112  \n",
        "Cov1d : 30 * 3 * 30 + 30 = 2730\n",
        "\n"
      ]
    },
    {
      "cell_type": "code",
      "metadata": {
        "id": "QNeVt8wbfew6",
        "colab_type": "code",
        "colab": {
          "base_uri": "https://localhost:8080/",
          "height": 1000
        },
        "outputId": "6309596d-d04d-4406-af71-75cf316cc508"
      },
      "source": [
        "epochs = 20\n",
        "\n",
        "for epoch in range(epochs):    \n",
        "    print(\"Epoch %d/%d\"%(epoch,epochs))\n",
        "    a = Progbar(len(train_batch_len))\n",
        "    for i,batch in enumerate(iterate_minibatches(train_batch,train_batch_len)):\n",
        "        labels, tokens, char = batch       \n",
        "        model.train_on_batch([tokens, char], labels)\n",
        "        a.update(i)\n",
        "    a.update(i+1)\n",
        "    print(' ')"
      ],
      "execution_count": null,
      "outputs": [
        {
          "output_type": "stream",
          "text": [
            "Epoch 0/20\n",
            "3/9 [=========>....................] - ETA: 42s WARNING:tensorflow:5 out of the last 5 calls to <function Model.make_train_function.<locals>.train_function at 0x7fc1723ab400> triggered tf.function retracing. Tracing is expensive and the excessive number of tracings is likely due to passing python objects instead of tensors. Also, tf.function has experimental_relax_shapes=True option that relaxes argument shapes that can avoid unnecessary retracing. Please refer to https://www.tensorflow.org/tutorials/customization/performance#python_or_tensor_args and https://www.tensorflow.org/api_docs/python/tf/function for more details.\n",
            "4/9 [============>.................] - ETA: 29sWARNING:tensorflow:6 out of the last 6 calls to <function Model.make_train_function.<locals>.train_function at 0x7fc1723ab400> triggered tf.function retracing. Tracing is expensive and the excessive number of tracings is likely due to passing python objects instead of tensors. Also, tf.function has experimental_relax_shapes=True option that relaxes argument shapes that can avoid unnecessary retracing. Please refer to https://www.tensorflow.org/tutorials/customization/performance#python_or_tensor_args and https://www.tensorflow.org/api_docs/python/tf/function for more details.\n",
            "5/9 [===============>..............] - ETA: 21sWARNING:tensorflow:7 out of the last 7 calls to <function Model.make_train_function.<locals>.train_function at 0x7fc1723ab400> triggered tf.function retracing. Tracing is expensive and the excessive number of tracings is likely due to passing python objects instead of tensors. Also, tf.function has experimental_relax_shapes=True option that relaxes argument shapes that can avoid unnecessary retracing. Please refer to https://www.tensorflow.org/tutorials/customization/performance#python_or_tensor_args and https://www.tensorflow.org/api_docs/python/tf/function for more details.\n",
            "6/9 [===================>..........] - ETA: 15sWARNING:tensorflow:8 out of the last 8 calls to <function Model.make_train_function.<locals>.train_function at 0x7fc1723ab400> triggered tf.function retracing. Tracing is expensive and the excessive number of tracings is likely due to passing python objects instead of tensors. Also, tf.function has experimental_relax_shapes=True option that relaxes argument shapes that can avoid unnecessary retracing. Please refer to https://www.tensorflow.org/tutorials/customization/performance#python_or_tensor_args and https://www.tensorflow.org/api_docs/python/tf/function for more details.\n",
            "7/9 [======================>.......] - ETA: 9s WARNING:tensorflow:9 out of the last 9 calls to <function Model.make_train_function.<locals>.train_function at 0x7fc1723ab400> triggered tf.function retracing. Tracing is expensive and the excessive number of tracings is likely due to passing python objects instead of tensors. Also, tf.function has experimental_relax_shapes=True option that relaxes argument shapes that can avoid unnecessary retracing. Please refer to https://www.tensorflow.org/tutorials/customization/performance#python_or_tensor_args and https://www.tensorflow.org/api_docs/python/tf/function for more details.\n",
            "9/9 [==============================] - 36s 4s/step\n",
            " \n",
            "Epoch 1/20\n",
            "9/9 [==============================] - 0s 43ms/step\n",
            " \n",
            "Epoch 2/20\n",
            "9/9 [==============================] - 0s 38ms/step\n",
            " \n",
            "Epoch 3/20\n",
            "9/9 [==============================] - 0s 39ms/step\n",
            " \n",
            "Epoch 4/20\n",
            "9/9 [==============================] - 0s 37ms/step\n",
            " \n",
            "Epoch 5/20\n",
            "9/9 [==============================] - 0s 39ms/step\n",
            " \n",
            "Epoch 6/20\n",
            "9/9 [==============================] - 0s 41ms/step\n",
            " \n",
            "Epoch 7/20\n",
            "9/9 [==============================] - 0s 36ms/step\n",
            " \n",
            "Epoch 8/20\n",
            "9/9 [==============================] - 0s 38ms/step\n",
            " \n",
            "Epoch 9/20\n",
            "9/9 [==============================] - 0s 37ms/step\n",
            " \n",
            "Epoch 10/20\n",
            "9/9 [==============================] - 0s 37ms/step\n",
            " \n",
            "Epoch 11/20\n",
            "9/9 [==============================] - 0s 38ms/step\n",
            " \n",
            "Epoch 12/20\n",
            "9/9 [==============================] - 1s 73ms/step\n",
            " \n",
            "Epoch 13/20\n",
            "9/9 [==============================] - 0s 37ms/step\n",
            " \n",
            "Epoch 14/20\n",
            "9/9 [==============================] - 0s 38ms/step\n",
            " \n",
            "Epoch 15/20\n",
            "9/9 [==============================] - 0s 38ms/step\n",
            " \n",
            "Epoch 16/20\n",
            "9/9 [==============================] - 0s 38ms/step\n",
            " \n",
            "Epoch 17/20\n",
            "9/9 [==============================] - 0s 37ms/step\n",
            " \n",
            "Epoch 18/20\n",
            "9/9 [==============================] - 0s 39ms/step\n",
            " \n",
            "Epoch 19/20\n",
            "9/9 [==============================] - 0s 40ms/step\n",
            " \n"
          ],
          "name": "stdout"
        }
      ]
    },
    {
      "cell_type": "code",
      "metadata": {
        "id": "f6j6-AgVm90S",
        "colab_type": "code",
        "colab": {}
      },
      "source": [
        "prediction = '내일 부산 날씨는?'"
      ],
      "execution_count": null,
      "outputs": []
    },
    {
      "cell_type": "code",
      "metadata": {
        "id": "pTkkFD38pMEd",
        "colab_type": "code",
        "colab": {
          "base_uri": "https://localhost:8080/",
          "height": 34
        },
        "outputId": "543cb6cd-26ee-4a0f-be4f-7a9163880b15"
      },
      "source": [
        "tokens = okt.morphs(prediction)\n",
        "print(tokens)"
      ],
      "execution_count": null,
      "outputs": [
        {
          "output_type": "stream",
          "text": [
            "['내일', '부산', '날씨', '는', '?']\n"
          ],
          "name": "stdout"
        }
      ]
    },
    {
      "cell_type": "code",
      "metadata": {
        "id": "QbOUrmzcEerx",
        "colab_type": "code",
        "colab": {
          "base_uri": "https://localhost:8080/",
          "height": 34
        },
        "outputId": "fb5e16c7-b975-4f31-a118-595fc07e7b8f"
      },
      "source": [
        "word_and_chars = [[word, list(str(word))] for word in tokens]\n",
        "print(word_and_chars)"
      ],
      "execution_count": null,
      "outputs": [
        {
          "output_type": "stream",
          "text": [
            "[['내일', ['내', '일']], ['부산', ['부', '산']], ['날씨', ['날', '씨']], ['는', ['는']], ['?', ['?']]]\n"
          ],
          "name": "stdout"
        }
      ]
    },
    {
      "cell_type": "code",
      "metadata": {
        "id": "UQGndShapqnD",
        "colab_type": "code",
        "colab": {
          "base_uri": "https://localhost:8080/",
          "height": 52
        },
        "outputId": "8d944738-9958-4612-f5c3-b1439556d000"
      },
      "source": [
        "wordIndices = []    \n",
        "charIndices = []\n",
        "\n",
        "for word, chars in word_and_chars:\n",
        "  if word in word_to_index:\n",
        "    wordIndices.append(word_to_index[word])\n",
        "  else:\n",
        "    wordIndices.append(word_to_index['UNK'])\n",
        "  temp = []\n",
        "  for char in chars:\n",
        "      if char in char_to_index:\n",
        "        temp.append(char_to_index[char])\n",
        "      else:\n",
        "        temp.append(char_to_index['UNK'])\n",
        "  charIndices.append(temp)\n",
        "\n",
        "print(wordIndices)\n",
        "print(charIndices)"
      ],
      "execution_count": null,
      "outputs": [
        {
          "output_type": "stream",
          "text": [
            "[5, 29, 2, 1, 1]\n",
            "[[8, 9], [45, 5], [2, 3], [86], [1]]\n"
          ],
          "name": "stdout"
        }
      ]
    },
    {
      "cell_type": "code",
      "metadata": {
        "id": "ZYVasxivGnva",
        "colab_type": "code",
        "colab": {}
      },
      "source": [
        "charIndices = pad_sequences(charIndices, maxlen=MAX_LENGTH, padding='post', value = 0)"
      ],
      "execution_count": null,
      "outputs": []
    },
    {
      "cell_type": "code",
      "metadata": {
        "id": "18QaYr1oJEDx",
        "colab_type": "code",
        "colab": {
          "base_uri": "https://localhost:8080/",
          "height": 123
        },
        "outputId": "871d247f-995f-4a76-b6e3-bf5ddfbdddbf"
      },
      "source": [
        "print(wordIndices)\n",
        "print(charIndices)"
      ],
      "execution_count": null,
      "outputs": [
        {
          "output_type": "stream",
          "text": [
            "[5, 29, 2, 1, 1]\n",
            "[[ 8  9  0  0  0  0  0  0  0  0  0  0  0  0  0]\n",
            " [45  5  0  0  0  0  0  0  0  0  0  0  0  0  0]\n",
            " [ 2  3  0  0  0  0  0  0  0  0  0  0  0  0  0]\n",
            " [86  0  0  0  0  0  0  0  0  0  0  0  0  0  0]\n",
            " [ 1  0  0  0  0  0  0  0  0  0  0  0  0  0  0]]\n"
          ],
          "name": "stdout"
        }
      ]
    },
    {
      "cell_type": "code",
      "metadata": {
        "id": "WYIDrzecJZW5",
        "colab_type": "code",
        "colab": {}
      },
      "source": [
        "wordIndices = np.asarray([wordIndices])     \n",
        "charIndices = np.asarray([charIndices])"
      ],
      "execution_count": null,
      "outputs": []
    },
    {
      "cell_type": "code",
      "metadata": {
        "id": "3kaGjBUrJe9I",
        "colab_type": "code",
        "colab": {
          "base_uri": "https://localhost:8080/",
          "height": 123
        },
        "outputId": "dd77a651-7b28-4825-cf56-cc11485b3a7d"
      },
      "source": [
        "print(wordIndices)\n",
        "print(charIndices)"
      ],
      "execution_count": null,
      "outputs": [
        {
          "output_type": "stream",
          "text": [
            "[[ 5 29  2  1  1]]\n",
            "[[[ 8  9  0  0  0  0  0  0  0  0  0  0  0  0  0]\n",
            "  [45  5  0  0  0  0  0  0  0  0  0  0  0  0  0]\n",
            "  [ 2  3  0  0  0  0  0  0  0  0  0  0  0  0  0]\n",
            "  [86  0  0  0  0  0  0  0  0  0  0  0  0  0  0]\n",
            "  [ 1  0  0  0  0  0  0  0  0  0  0  0  0  0  0]]]\n"
          ],
          "name": "stdout"
        }
      ]
    },
    {
      "cell_type": "code",
      "metadata": {
        "id": "TBE5vhzoJFVT",
        "colab_type": "code",
        "colab": {}
      },
      "source": [
        "y_predicted = model.predict([wordIndices, charIndices], verbose=False)[0]"
      ],
      "execution_count": null,
      "outputs": []
    },
    {
      "cell_type": "code",
      "metadata": {
        "id": "NdlKq6qGJOBx",
        "colab_type": "code",
        "colab": {
          "base_uri": "https://localhost:8080/",
          "height": 105
        },
        "outputId": "82f6ef55-415f-4b55-b85b-d2a4ad14a0ce"
      },
      "source": [
        "print(y_predicted)"
      ],
      "execution_count": null,
      "outputs": [
        {
          "output_type": "stream",
          "text": [
            "[[9.93093491e-01 6.71002269e-03 1.96557507e-04]\n",
            " [4.51007811e-03 9.93619144e-01 1.87073427e-03]\n",
            " [1.03994695e-04 1.11550873e-03 9.98780549e-01]\n",
            " [4.98448848e-04 1.14043932e-02 9.88097191e-01]\n",
            " [2.25067284e-04 1.69036798e-02 9.82871294e-01]]\n"
          ],
          "name": "stdout"
        }
      ]
    },
    {
      "cell_type": "code",
      "metadata": {
        "id": "aaLUICv9JjTg",
        "colab_type": "code",
        "colab": {}
      },
      "source": [
        "y_predicted = y_predicted.argmax(axis=-1)\n",
        "y_predicted = [index_to_label[x].strip() for x in y_predicted]"
      ],
      "execution_count": null,
      "outputs": []
    },
    {
      "cell_type": "code",
      "metadata": {
        "id": "PbRw7cACJ0RR",
        "colab_type": "code",
        "colab": {
          "base_uri": "https://localhost:8080/",
          "height": 34
        },
        "outputId": "7f32da49-0ece-4619-e12f-7bc0e1733b66"
      },
      "source": [
        "list(zip(tokens, y_predicted))"
      ],
      "execution_count": null,
      "outputs": [
        {
          "output_type": "execute_result",
          "data": {
            "text/plain": [
              "[('내일', 'DATE'), ('부산', 'LOCATION'), ('날씨', 'O'), ('는', 'O'), ('?', 'O')]"
            ]
          },
          "metadata": {
            "tags": []
          },
          "execution_count": 51
        }
      ]
    }
  ]
}